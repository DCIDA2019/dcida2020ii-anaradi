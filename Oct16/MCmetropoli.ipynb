{
 "cells": [
  {
   "cell_type": "code",
   "execution_count": 1,
   "metadata": {},
   "outputs": [],
   "source": [
    "import numpy as np\n",
    "import pandas as pd\n",
    "import matplotlib.pyplot as plt\n",
    "import math\n",
    "from scipy.optimize import minimize\n",
    "import random\n"
   ]
  },
  {
   "cell_type": "code",
   "execution_count": 2,
   "metadata": {},
   "outputs": [],
   "source": [
    "#introducción de los datos\n",
    "#N es la cantidad de datos, NN el número de iteraciones para el programa caminante\n",
    "#definición de av y bv para guardar los parámetros que cumplen la regla de selección\n",
    "#av[0] y bv[0] son los parametros iniciales dados por uno, cv, y la creación de otras listas es para \n",
    "#parametros de otros modelos\n",
    "#x1 y y1 son los datos \n",
    "N=50\n",
    "NN=10000\n",
    "dt=np.load('fit_exercise.npy')\n",
    "x1 = dt[0]\n",
    "y1 = dt[1]\n",
    "v=np.var(y1)\n",
    "av=np.zeros(NN)\n",
    "bv=np.zeros(NN)\n",
    "av2=np.zeros(NN)\n",
    "bv2=np.zeros(NN)\n",
    "cv=np.zeros(NN)\n",
    "pv=np.zeros(NN)"
   ]
  },
  {
   "cell_type": "markdown",
   "metadata": {},
   "source": [
    "Usare un prior plano i.e cuando tenemos un prior plano:\n",
    "$$e^{-\\frac{(\\mu-\\mu_{0})^{2}}{2\\sigma_{0}^{2}}}\\rightarrow 1$$\n",
    "cuando $\\mu_{0}=0$ y $\\sigma_{0}\\rightarrow \\infty$ así en el posterior solo queda el likelihood por maximizar\n",
    "$$e^{-\\frac{(y_{i}-\\mu)^{2}}{2\\sigma^{2}}}$$, recordando $\\mu$ es el modelo"
   ]
  },
  {
   "cell_type": "code",
   "execution_count": 3,
   "metadata": {},
   "outputs": [],
   "source": [
    "def modelo(a, b):\n",
    "        mod = a + (b*x1)\n",
    "    #mod=a*(x**2)+b*x + c\n",
    "    #mod=a*np.cos(b*x)+c\n",
    "        return mod"
   ]
  },
  {
   "cell_type": "code",
   "execution_count": 4,
   "metadata": {},
   "outputs": [],
   "source": [
    "#menos logaritmo de likelihood gaussiano\n",
    "def ls(a, b):\n",
    "        mu = modelo(a, b)\n",
    "        #-(n*0.5)*np.log(2*np.pi*var)\n",
    "        f = 0.5*(v**(-1))*np.sum((y1-mu)**2)\n",
    "        return f"
   ]
  },
  {
   "cell_type": "code",
   "execution_count": 5,
   "metadata": {},
   "outputs": [],
   "source": [
    "def MCM3(p1, p2):\n",
    "#v, varianza de nuestros datos\n",
    "#vector a guardar parametros, av, bv, cv, dependiendo del modelo\n",
    "#hay que modificar los parametros que pide modelo, likelihood y MCM2\n",
    "#likelihood, puede ser distinto al gaussiano\n",
    "#x1, y1 los datos\n",
    "#n cantidad de datos\n",
    "#NN iteraciones\n",
    "    #v = np.var(y1)\n",
    "    av[0] = p1\n",
    "    bv[0] = p2\n",
    "    accepteda = []\n",
    "    acceptedb = []\n",
    "    rejecteda = [] \n",
    "    rejectedb = []   \n",
    "    for k in range(NN-1):\n",
    "        ak = np.random.normal(av[k], 0.1)\n",
    "        bk = np.random.normal(bv[k], 0.1)\n",
    "        posteriorold = ls(av[k], bv[k])\n",
    "        posteriornew = ls(ak, bk)\n",
    "        if posteriornew < posteriorold:\n",
    "            av[k+1] = ak\n",
    "            bv[k+1] = bk\n",
    "            accepteda.append(ak)\n",
    "            acceptedb.append(bk)\n",
    "        else:\n",
    "            ran = -np.log(random.uniform(0, 1))\n",
    "            ratio = posteriornew-posteriorold\n",
    "            if ratio < ran:\n",
    "                av[k+1] = ak\n",
    "                bv[k+1] = bk\n",
    "                accepteda.append(ak)\n",
    "                acceptedb.append(bk)\n",
    "            else:\n",
    "                av[k+1] = np.copy(av[k])\n",
    "                bv[k+1] = np.copy(bv[k])\n",
    "                rejecteda.append(ak)\n",
    "                rejectedb.append(bk)  \n",
    "    ta=np.array(accepteda)\n",
    "    tb=np.array(acceptedb)\n",
    "    ra=np.array(rejecteda)\n",
    "    rb=np.array(rejectedb)\n",
    "    return ta, tb, ra, rb, plt.plot(ta, tb, 'o'), print('el parámetro a es', ta.mean()), print('el parámetro b es', tb.mean())"
   ]
  },
  {
   "cell_type": "code",
   "execution_count": null,
   "metadata": {},
   "outputs": [],
   "source": []
  },
  {
   "cell_type": "code",
   "execution_count": 6,
   "metadata": {},
   "outputs": [
    {
     "name": "stdout",
     "output_type": "stream",
     "text": [
      "el parámetro a es 4.448805966504906\n",
      "el parámetro b es -0.9404941506594758\n"
     ]
    },
    {
     "data": {
      "text/plain": [
       "(array([1.88643661, 1.74363509, 1.84205235, ..., 3.9310373 , 3.95847798,\n",
       "        3.97126719]),\n",
       " array([ 3.89386673,  3.7405454 ,  3.60881009, ..., -0.92814763,\n",
       "        -0.8808008 , -0.90560043]),\n",
       " array([1.6927171 , 1.6401909 , 1.80192173, ..., 3.91589393, 3.9948259 ,\n",
       "        3.7948224 ]),\n",
       " array([ 3.96906407,  3.81953581,  3.84442898, ..., -0.77872427,\n",
       "        -1.00857618, -0.9150481 ]),\n",
       " [<matplotlib.lines.Line2D at 0x130c8a5e1f0>],\n",
       " None,\n",
       " None)"
      ]
     },
     "execution_count": 6,
     "metadata": {},
     "output_type": "execute_result"
    },
    {
     "data": {
      "image/png": "[encoded data removed]",
      "text/plain": [
       "<Figure size 432x288 with 1 Axes>"
      ]
     },
     "metadata": {
      "needs_background": "light"
     },
     "output_type": "display_data"
    }
   ],
   "source": [
    "MCM3(2, 4)"
   ]
  },
  {
   "cell_type": "code",
   "execution_count": 7,
   "metadata": {},
   "outputs": [
    {
     "ename": "NameError",
     "evalue": "name 'ta' is not defined",
     "output_type": "error",
     "traceback": [
      "\u001b[1;31m---------------------------------------------------------------------------\u001b[0m",
      "\u001b[1;31mNameError\u001b[0m                                 Traceback (most recent call last)",
      "\u001b[1;32m<ipython-input-7-adfa46750630>\u001b[0m in \u001b[0;36m<module>\u001b[1;34m\u001b[0m\n\u001b[1;32m----> 1\u001b[1;33m \u001b[0mta\u001b[0m\u001b[1;33m\u001b[0m\u001b[1;33m\u001b[0m\u001b[0m\n\u001b[0m",
      "\u001b[1;31mNameError\u001b[0m: name 'ta' is not defined"
     ]
    }
   ],
   "source": [
    "ta"
   ]
  },
  {
   "cell_type": "raw",
   "metadata": {},
   "source": [
    "def MCM2(n, p1, p2, NN):\n",
    "#v, varianza de nuestros datos\n",
    "#vector a guardar parametros, av, bv, cv, dependiendo del modelo\n",
    "#hay que modificar los parametros que pide modelo, likelihood y MCM2\n",
    "#likelihood, puede ser distinto al gaussiano\n",
    "#x1, y1 los datos\n",
    "#n cantidad de datos\n",
    "#NN iteraciones\n",
    "    #v=np.var(y1)\n",
    "    av[0]=p1\n",
    "    bv[0]=p2\n",
    "    #cv[0]=p3 \n",
    "    for k in range(NN-1):\n",
    "        ak = np.random.normal(av[k], 0.2)\n",
    "        bk = np.random.normal(bv[k], 0.2)\n",
    "        #ck= np.random.normal(cv[k], 0.2)\n",
    "        posteriorold=ls(av[k], bv[k], n, modelo)\n",
    "        posteriornew=ls(ak, bk, n, modelo)\n",
    "        if posteriornew>posteriorold:\n",
    "            av[k+1]=ak\n",
    "            bv[k+1]=bk\n",
    "            #cv[k+1]=ck\n",
    "        else:\n",
    "            ran = random.uniform(0, 1)\n",
    "            ratio=posteriornew*posteriorold**(-1)\n",
    "            if ratio > ran:\n",
    "                av[k+1]=ak\n",
    "                bv[k+1]=bk\n",
    "                #cv[k+1]=ck\n",
    "            else:\n",
    "                av[k+1]=np.copy(av[k])\n",
    "                bv[k+1]=np.copy(bv[k])\n",
    "                #cv[k+1]=np.copy(cv[k])\n",
    "        pv[k+1]=posteriornew\n",
    "    return plt.plot(av, bv, 'o'), print('el parámetro a es', av.mean()), print('el parámetro a es', bv.mean())\n",
    "    #return np.array(accepted)"
   ]
  },
  {
   "cell_type": "raw",
   "metadata": {},
   "source": [
    "#likelihood gaussiano con modelo\n",
    "#si hay que usar más parámetros se agrega la entrada de parametros en \n",
    "#modelo, ls y MCM2\n",
    "def ls(a, b, n, modelo):\n",
    "        mu=modelo(a, b)\n",
    "        #mu=modelo(a, b, c, x)\n",
    "        #(np.sqrt(2*math.pi*var)**(-n))*\n",
    "        return  np.exp(-0.5*(v**(-1))*np.sum((y1-mu)**2))"
   ]
  },
  {
   "cell_type": "raw",
   "metadata": {},
   "source": [
    "#likelihood gaussiano con modelo de la recta\n",
    "def likegauss(a, b):\n",
    "        #(np.sqrt(2*math.pi*var)**(-n))*\n",
    "        return  np.exp(-0.5*(v**(-1))*np.sum((y1-a-b*x1)**2))"
   ]
  },
  {
   "cell_type": "raw",
   "metadata": {},
   "source": [
    "\n",
    "def MCM(p1, p2):\n",
    "#v, varianza de nuestros datos\n",
    "#vector a guardar parametros, av y bv\n",
    "#likelihood, puede ser distinto al gaussiano\n",
    "#x1, y1 los datos\n",
    "#n cantidad de datos\n",
    "#NN iteraciones\n",
    "    #v=np.var(y1)\n",
    "    av[0]=p1\n",
    "    bv[0]=p2\n",
    "    for k in range(NN-1):\n",
    "        ak=np.random.normal(av[k], 0.2)\n",
    "        bk= np.random.normal(bv[k], 0.2)\n",
    "        posteriorold=likegauss(av[k], bv[k])\n",
    "        posteriornew=likegauss(ak, bk)\n",
    "        if posteriornew>posteriorold:\n",
    "            av[k+1]=ak\n",
    "            bv[k+1]=bk\n",
    "        elif posteriornew<=posteriorold:\n",
    "            ran = random.uniform(0, 1)\n",
    "            ratio=posteriornew/posteriorold\n",
    "            if ratio > ran:\n",
    "                av[k+1]=ak\n",
    "                bv[k+1]=bk\n",
    "            elif ratio <= ran:\n",
    "                av[k+1]=np.copy(av[k])\n",
    "                bv[k+1]=np.copy(bv[k])\n",
    "    return av, bv"
   ]
  },
  {
   "cell_type": "code",
   "execution_count": null,
   "metadata": {},
   "outputs": [],
   "source": []
  }
 ],
 "metadata": {
  "kernelspec": {
   "display_name": "Python 3",
   "language": "python",
   "name": "python3"
  },
  "language_info": {
   "codemirror_mode": {
    "name": "ipython",
    "version": 3
   },
   "file_extension": ".py",
   "mimetype": "text/x-python",
   "name": "python",
   "nbconvert_exporter": "python",
   "pygments_lexer": "ipython3",
   "version": "3.8.5"
  }
 },
 "nbformat": 4,
 "nbformat_minor": 4
}
