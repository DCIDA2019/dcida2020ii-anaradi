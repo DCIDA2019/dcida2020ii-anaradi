{
 "cells": [
  {
   "cell_type": "code",
   "execution_count": 1,
   "metadata": {},
   "outputs": [],
   "source": [
    "import numpy as np\n",
    "import pandas as pd\n",
    "import matplotlib.pyplot as plt\n",
    "import math\n",
    "from scipy.optimize import minimize\n",
    "import random\n"
   ]
  },
  {
   "cell_type": "code",
   "execution_count": 2,
   "metadata": {},
   "outputs": [],
   "source": [
    "#introducción de los datos\n",
    "#N es la cantidad de datos, NN el número de iteraciones para el programa caminante\n",
    "#definición de av y bv para guardar los parámetros que cumplen la regla de selección\n",
    "#av[0] y bv[0] son los parametros iniciales dados por uno, cv, y la creación de otras listas es para \n",
    "#parametros de otros modelos\n",
    "#x1 y y1 son los datos \n",
    "N=50\n",
    "NN=10000\n",
    "dt=np.load('fit_exercise.npy')\n",
    "x1 = dt[0]\n",
    "y1 = dt[1]\n",
    "yerr=dt[2]\n",
    "v=0.1\n",
    "av=np.zeros(NN)\n",
    "bv=np.zeros(NN)"
   ]
  },
  {
   "cell_type": "code",
   "execution_count": 3,
   "metadata": {},
   "outputs": [],
   "source": [
    "def modelo(a, b):\n",
    "        mod = a + (b*x1)\n",
    "    #mod=a*(x**2)+b*x + c\n",
    "    #mod=a*np.cos(b*x)+c\n",
    "        return mod"
   ]
  },
  {
   "cell_type": "code",
   "execution_count": 4,
   "metadata": {},
   "outputs": [],
   "source": [
    "# logaritmo de likelihood gaussiano\n",
    "yerr=dt[2]\n",
    "def ls(a, b):\n",
    "        mu = modelo(a, b)\n",
    "        #-np.sum(np.log(np.sqrt(2*np.pi*(yerr**2)))\n",
    "        return -0.5*np.sum((yerr**(-2))*(y1-mu)**2 + np.log(2*np.pi*(yerr**2)))"
   ]
  },
  {
   "cell_type": "code",
   "execution_count": 5,
   "metadata": {},
   "outputs": [],
   "source": [
    "def prior(a, b):\n",
    "    if -10<a<10 and -10<b<10:\n",
    "        return 0\n",
    "    return -np.inf"
   ]
  },
  {
   "cell_type": "code",
   "execution_count": 6,
   "metadata": {},
   "outputs": [],
   "source": [
    "def posterior(a, b):\n",
    "    pos=ls(a, b) + prior(a, b)\n",
    "    return pos"
   ]
  },
  {
   "cell_type": "code",
   "execution_count": 7,
   "metadata": {},
   "outputs": [],
   "source": [
    "def MCM4(p1, p2):\n",
    "#v, sigma propuesta donde centramos los datos\n",
    "#vector a guardar parametros, av, bv, cv, dependiendo del modelo\n",
    "#hay que modificar los parametros que pide modelo, likelihood y MCM2\n",
    "#likelihood, puede ser distinto al gaussiano\n",
    "#x1, y1 los datos\n",
    "#n cantidad de datos\n",
    "#NN iteraciones\n",
    "    #v = np.var(y1)\n",
    "    av[0] = p1\n",
    "    bv[0] = p2\n",
    "    accepteda = []\n",
    "    acceptedb = []\n",
    "    rejecteda = []\n",
    "    rejectedb = []\n",
    "    for k in range(NN-1):\n",
    "        ak = np.random.normal(av[k], v)\n",
    "        bk = np.random.normal(bv[k], v)\n",
    "        posteriorold = posterior(av[k], bv[k])\n",
    "        posteriornew = posterior(ak, bk)\n",
    "        ratio=posteriornew - posteriorold\n",
    "        ran = np.log(random.uniform(0, 1))\n",
    "        if (ratio > 0):\n",
    "            av[k+1] = ak\n",
    "            bv[k+1] = bk\n",
    "            accepteda.append(ak)\n",
    "            acceptedb.append(bk)\n",
    "        else:\n",
    "            if ratio > ran:\n",
    "                av[k+1] = ak\n",
    "                bv[k+1] = bk\n",
    "                accepteda.append(ak)\n",
    "                acceptedb.append(bk)\n",
    "            else:\n",
    "                av[k+1] = np.copy(av[k])\n",
    "                bv[k+1] = np.copy(bv[k])\n",
    "                rejecteda.append(ak)\n",
    "                rejectedb.append(bk)  \n",
    "    ta=np.array(accepteda)\n",
    "    tb=np.array(acceptedb)\n",
    "    #return ta, tb, ra, rb, plt.plot(ta, tb, 'o'), print('el parámetro a es', ta.mean()), print('el parámetro b es', tb.mean())\n",
    "    return plt.plot(ta, tb, 'o'), print('el parámetro a es', av.mean()), print('el parámetro b es', bv.mean()), print('la aceptación es', len(ta)/NN )\n",
    "    "
   ]
  },
  {
   "cell_type": "code",
   "execution_count": 8,
   "metadata": {},
   "outputs": [
    {
     "name": "stdout",
     "output_type": "stream",
     "text": [
      "el parámetro a es 5.427306752969394\n",
      "el parámetro b es -1.1022163299461822\n",
      "la aceptación es 0.0641\n"
     ]
    },
    {
     "data": {
      "text/plain": [
       "([<matplotlib.lines.Line2D at 0x1afa8deb3d0>], None, None, None)"
      ]
     },
     "execution_count": 8,
     "metadata": {},
     "output_type": "execute_result"
    },
    {
     "data": {
      "image/png": "[encoded data removed]",
      "text/plain": [
       "<Figure size 432x288 with 1 Axes>"
      ]
     },
     "metadata": {
      "needs_background": "light"
     },
     "output_type": "display_data"
    }
   ],
   "source": [
    "#con v=0.1\n",
    "MCM4(4, -0.7)"
   ]
  },
  {
   "cell_type": "code",
   "execution_count": 9,
   "metadata": {},
   "outputs": [],
   "source": [
    "#cambiando v\n",
    "v=0.01"
   ]
  },
  {
   "cell_type": "code",
   "execution_count": 10,
   "metadata": {},
   "outputs": [
    {
     "name": "stdout",
     "output_type": "stream",
     "text": [
      "el parámetro a es 5.391000505018973\n",
      "el parámetro b es -1.0952575052240716\n",
      "la aceptación es 0.5805\n"
     ]
    },
    {
     "data": {
      "text/plain": [
       "([<matplotlib.lines.Line2D at 0x1afa911f190>], None, None, None)"
      ]
     },
     "execution_count": 10,
     "metadata": {},
     "output_type": "execute_result"
    },
    {
     "data": {
      "image/png": "[encoded data removed]",
      "text/plain": [
       "<Figure size 432x288 with 1 Axes>"
      ]
     },
     "metadata": {
      "needs_background": "light"
     },
     "output_type": "display_data"
    }
   ],
   "source": [
    "MCM4(4, -0.7)"
   ]
  },
  {
   "cell_type": "code",
   "execution_count": 11,
   "metadata": {},
   "outputs": [],
   "source": [
    "#de nuevo cambiando v\n",
    "v=0.001"
   ]
  },
  {
   "cell_type": "code",
   "execution_count": 12,
   "metadata": {},
   "outputs": [
    {
     "name": "stdout",
     "output_type": "stream",
     "text": [
      "el parámetro a es 4.355015901156277\n",
      "el parámetro b es -0.9222333793875187\n",
      "la aceptación es 0.9197\n"
     ]
    },
    {
     "data": {
      "text/plain": [
       "([<matplotlib.lines.Line2D at 0x1afaa1458e0>], None, None, None)"
      ]
     },
     "execution_count": 12,
     "metadata": {},
     "output_type": "execute_result"
    },
    {
     "data": {
      "image/png": "[encoded data removed]",
      "text/plain": [
       "<Figure size 432x288 with 1 Axes>"
      ]
     },
     "metadata": {
      "needs_background": "light"
     },
     "output_type": "display_data"
    }
   ],
   "source": [
    "MCM4(4, -0.7)"
   ]
  },
  {
   "cell_type": "markdown",
   "metadata": {},
   "source": [
    "En este caso una varianza con la que centramos los datos y aceptación adecuados no son compatibles"
   ]
  },
  {
   "cell_type": "code",
   "execution_count": null,
   "metadata": {},
   "outputs": [],
   "source": []
  }
 ],
 "metadata": {
  "kernelspec": {
   "display_name": "Python 3",
   "language": "python",
   "name": "python3"
  },
  "language_info": {
   "codemirror_mode": {
    "name": "ipython",
    "version": 3
   },
   "file_extension": ".py",
   "mimetype": "text/x-python",
   "name": "python",
   "nbconvert_exporter": "python",
   "pygments_lexer": "ipython3",
   "version": "3.8.5"
  }
 },
 "nbformat": 4,
 "nbformat_minor": 4
}
