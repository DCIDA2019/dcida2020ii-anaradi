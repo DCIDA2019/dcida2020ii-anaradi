{
 "cells": [
  {
   "cell_type": "code",
   "execution_count": 1,
   "metadata": {},
   "outputs": [],
   "source": [
    "import numpy as np\n",
    "import pandas as pd\n",
    "import matplotlib.pyplot as plt\n",
    "import math\n",
    "from scipy.optimize import minimize\n",
    "import random\n"
   ]
  },
  {
   "cell_type": "code",
   "execution_count": 2,
   "metadata": {},
   "outputs": [],
   "source": [
    "#introducción de los datos\n",
    "#N es la cantidad de datos, NN el número de iteraciones para el programa caminante\n",
    "#definición de av y bv para guardar los parámetros que cumplen la regla de selección\n",
    "#av[0] y bv[0] son los parametros iniciales dados por uno, cv, y la creación de otras listas es para \n",
    "#parametros de otros modelos\n",
    "#x1 y y1 son los datos \n",
    "N=50\n",
    "NN=10000\n",
    "dt=np.load('fit_exercise.npy')\n",
    "x1 = dt[0]\n",
    "y1 = dt[1]\n",
    "av=np.zeros(NN)\n",
    "bv=np.zeros(NN)\n",
    "cv=np.zeros(NN)"
   ]
  },
  {
   "cell_type": "markdown",
   "metadata": {},
   "source": [
    "Usare un prior plano i.e cuando tenemos un prior plano:\n",
    "$$e^{-\\frac{(\\mu-\\mu_{0})^{2}}{2\\sigma_{0}^{2}}}\\rightarrow 1$$\n",
    "cuando $\\mu_{0}=0$ y $\\sigma_{0}\\rightarrow \\infty$ así en el posterior solo queda el likelihood por maximizar\n",
    "$$e^{-\\frac{(y_{i}-\\mu)^{2}}{2\\sigma^{2}}}$$, recordando $\\mu$ es el modelo"
   ]
  },
  {
   "cell_type": "raw",
   "metadata": {},
   "source": [
    "# logaritmo de likelihood gaussiano\n",
    "def lnlikegauss(x, y, var, a, b, n):\n",
    "        \n",
    "        return -(n*0.5)*np.log(2*np.pi*var)-0.5*(var**(-1))*np.sum((y-a-b*x)**2)"
   ]
  },
  {
   "cell_type": "code",
   "execution_count": 3,
   "metadata": {},
   "outputs": [],
   "source": [
    "#likelihood gaussiano con modelo de la recta\n",
    "def likegauss(x, y, var, a, b, n):\n",
    "        \n",
    "        return  (np.sqrt(2*math.pi*var)**(-n))*np.exp(-0.5*(var**(-1))*np.sum((y-a-b*x)**2))"
   ]
  },
  {
   "cell_type": "code",
   "execution_count": 4,
   "metadata": {},
   "outputs": [],
   "source": [
    "def modelo(a, b, x):\n",
    "    mod=a+b*x\n",
    "    #mod=a*(x**2)+b*x + c\n",
    "    #mod=a*np.cos(b*x)+c\n",
    "    return mod"
   ]
  },
  {
   "cell_type": "code",
   "execution_count": 5,
   "metadata": {},
   "outputs": [],
   "source": [
    "#likelihood gaussiano con modelo\n",
    "#si hay que usar más parámetros se agrega la entrada de parametros en \n",
    "#modelo, ls y MCM2\n",
    "def ls(x, y, var, a, b, n, modelo):\n",
    "        mu=modelo(a, b, x)\n",
    "        #mu=modelo(a, b, c, x)\n",
    "        #(np.sqrt(2*math.pi*var)**(-n))*\n",
    "        return  np.exp(-0.5*(var**(-1))*np.sum((y-mu)**2))"
   ]
  },
  {
   "cell_type": "code",
   "execution_count": 6,
   "metadata": {},
   "outputs": [],
   "source": [
    "def MCM2(n, likelihood, p1, p2, x1, y1, NN):\n",
    "#v, varianza de nuestros datos\n",
    "#vector a guardar parametros, av, bv, cv, dependiendo del modelo\n",
    "#hay que modificar los parametros que pide modelo, likelihood y MCM2\n",
    "#likelihood, puede ser distinto al gaussiano\n",
    "#x1, y1 los datos\n",
    "#n cantidad de datos\n",
    "#NN iteraciones\n",
    "    v=np.var(y1)\n",
    "    av[0]=p1\n",
    "    bv[0]=p2\n",
    "    #cv[0]=p3\n",
    "    for k in range(NN-1):\n",
    "        ak=np.random.normal(av[k], 0.2)\n",
    "        bk= np.random.normal(bv[k], 0.2)\n",
    "        #ck= np.random.normal(cv[k], 0.2)\n",
    "        posteriorold=likelihood(x1, y1, v, av[k], bv[k], n, modelo)\n",
    "        posteriornew=likelihood(x1, y1, v, ak, bk, n, modelo)\n",
    "        if posteriornew>posteriorold:\n",
    "            av[k+1]=ak\n",
    "            bv[k+1]=bk\n",
    "            #cv[k+1]=ck\n",
    "        elif posteriornew<=posteriorold:\n",
    "            ran = random.uniform(0, 1)\n",
    "            ratio=posteriornew/posteriorold\n",
    "            if ratio > ran:\n",
    "                av[k+1]=ak\n",
    "                bv[k+1]=bk\n",
    "                #cv[k+1]=ck\n",
    "            elif ratio <= ran:\n",
    "                av[k+1]=np.copy(av[k])\n",
    "                bv[k+1]=np.copy(bv[k])\n",
    "                #cv[k+1]=np.copy(cv[k])\n",
    "    return plt.plot(av, bv, 'o'), print('el parámetro a es', av.mean()), print('el parámetro a es', bv.mean())"
   ]
  },
  {
   "cell_type": "code",
   "execution_count": 7,
   "metadata": {},
   "outputs": [
    {
     "name": "stderr",
     "output_type": "stream",
     "text": [
      "<ipython-input-6-58cc19076246>:25: RuntimeWarning: invalid value encountered in double_scalars\n",
      "  ratio=posteriornew/posteriorold\n"
     ]
    },
    {
     "name": "stdout",
     "output_type": "stream",
     "text": [
      "el parámetro a es 4.456328311421814\n",
      "el parámetro a es -0.9591384735080168\n"
     ]
    },
    {
     "data": {
      "text/plain": [
       "([<matplotlib.lines.Line2D at 0x2aa06c1b8e0>], None, None)"
      ]
     },
     "execution_count": 7,
     "metadata": {},
     "output_type": "execute_result"
    },
    {
     "data": {
      "image/png": "[encoded data removed]",
      "text/plain": [
       "<Figure size 432x288 with 1 Axes>"
      ]
     },
     "metadata": {
      "needs_background": "light"
     },
     "output_type": "display_data"
    }
   ],
   "source": [
    "MCM2(N, ls, 1, 5, x1, y1, NN)"
   ]
  },
  {
   "cell_type": "code",
   "execution_count": null,
   "metadata": {},
   "outputs": [],
   "source": []
  },
  {
   "cell_type": "code",
   "execution_count": 8,
   "metadata": {},
   "outputs": [],
   "source": [
    "\n",
    "def MCM(n, likelihood, p1, p2, x1, y1, NN):\n",
    "#v, varianza de nuestros datos\n",
    "#vector a guardar parametros, av y bv\n",
    "#likelihood, puede ser distinto al gaussiano\n",
    "#x1, y1 los datos\n",
    "#n cantidad de datos\n",
    "#NN iteraciones\n",
    "    v=np.var(y1)\n",
    "    av[0]=p1\n",
    "    bv[0]=p2\n",
    "    for k in range(NN-1):\n",
    "        ak=np.random.normal(av[k], 0.2)\n",
    "        bk= np.random.normal(bv[k], 0.2)\n",
    "        posteriorold=likelihood(x1, y1, v, av[k], bv[k], n)\n",
    "        posteriornew=likelihood(x1, y1, v, ak, bk, n)\n",
    "        if posteriornew>posteriorold:\n",
    "            av[k+1]=ak\n",
    "            bv[k+1]=bk\n",
    "        elif posteriornew<=posteriorold:\n",
    "            ran = random.uniform(0, 1)\n",
    "            ratio=posteriornew/posteriorold\n",
    "            if ratio > ran:\n",
    "                av[k+1]=ak\n",
    "                bv[k+1]=bk\n",
    "            elif ratio <= ran:\n",
    "                av[k+1]=np.copy(av[k])\n",
    "                bv[k+1]=np.copy(bv[k])\n",
    "    return av, bv"
   ]
  }
 ],
 "metadata": {
  "kernelspec": {
   "display_name": "Python 3",
   "language": "python",
   "name": "python3"
  },
  "language_info": {
   "codemirror_mode": {
    "name": "ipython",
    "version": 3
   },
   "file_extension": ".py",
   "mimetype": "text/x-python",
   "name": "python",
   "nbconvert_exporter": "python",
   "pygments_lexer": "ipython3",
   "version": "3.8.5"
  }
 },
 "nbformat": 4,
 "nbformat_minor": 4
}
