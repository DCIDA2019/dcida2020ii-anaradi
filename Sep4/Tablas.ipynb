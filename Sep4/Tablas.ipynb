{
 "cells": [
  {
   "cell_type": "code",
   "execution_count": 1,
   "metadata": {},
   "outputs": [],
   "source": [
    "import os\n",
    "import pandas as pd\n",
    "import requests"
   ]
  },
  {
   "cell_type": "code",
   "execution_count": null,
   "metadata": {},
   "outputs": [],
   "source": []
  },
  {
   "cell_type": "markdown",
   "metadata": {},
   "source": [
    "Por ahora usaré la celda en clase para descargar la tabla de migracion en norteamerica"
   ]
  },
  {
   "cell_type": "raw",
   "metadata": {},
   "source": [
    "url = 'https://www.indexmundi.com/map/?t=0&v=27&r=na&l=en'\n",
    "html = requests.get(url).content\n",
    "migrationNA = pd.read_html(html)"
   ]
  },
  {
   "cell_type": "markdown",
   "metadata": {},
   "source": [
    "Ubicando donde se ubica la tabla de pagina por pagina"
   ]
  },
  {
   "cell_type": "raw",
   "metadata": {},
   "source": [
    "migrationNA[1]"
   ]
  },
  {
   "cell_type": "markdown",
   "metadata": {},
   "source": [
    "para lectura la tabla de migracion en centroamerica y el caribe"
   ]
  },
  {
   "cell_type": "raw",
   "metadata": {},
   "source": [
    "url = 'https://www.indexmundi.com/map/?t=0&v=27&r=ca&l=en'\n",
    "html = requests.get(url).content\n",
    "migrationCA = pd.read_html(html)"
   ]
  },
  {
   "cell_type": "raw",
   "metadata": {},
   "source": [
    "migrationCA[1]"
   ]
  },
  {
   "cell_type": "markdown",
   "metadata": {},
   "source": [
    "Tabla de datos de migración neta en sudamerica"
   ]
  },
  {
   "cell_type": "raw",
   "metadata": {},
   "source": [
    "url = 'https://www.indexmundi.com/map/?t=0&v=27&r=sa&l=en'\n",
    "html = requests.get(url).content\n",
    "df_list = pd.read_html(html)\n",
    "df = df_list[1]\n",
    "df.to_csv('migracionSA.csv', index=False)\n",
    "df"
   ]
  },
  {
   "cell_type": "raw",
   "metadata": {},
   "source": [
    "migrationSA[1]"
   ]
  },
  {
   "cell_type": "markdown",
   "metadata": {},
   "source": [
    "Descarga de tablas"
   ]
  },
  {
   "cell_type": "raw",
   "metadata": {},
   "source": [
    "url = 'https://www.indexmundi.com/map/?t=0&v=27&r=na&l=en'\n",
    "html = requests.get(url).content\n",
    "df_list = pd.read_html(html)\n",
    "df = df_list[1]\n",
    "df.to_csv('migracionNA.csv', index=False)\n",
    "df"
   ]
  },
  {
   "cell_type": "raw",
   "metadata": {},
   "source": [
    "url = 'https://www.indexmundi.com/map/?t=0&v=27&r=ca&l=en'\n",
    "html = requests.get(url).content\n",
    "df_list = pd.read_html(html)\n",
    "df = df_list[1]\n",
    "df.to_csv('migracionCA.csv', index=False)\n",
    "df"
   ]
  },
  {
   "cell_type": "code",
   "execution_count": 2,
   "metadata": {},
   "outputs": [],
   "source": [
    "data1= pd.read_csv('migracionNA.csv')"
   ]
  },
  {
   "cell_type": "code",
   "execution_count": 3,
   "metadata": {},
   "outputs": [
    {
     "data": {
      "text/html": [
       "<div>\n",
       "<style scoped>\n",
       "    .dataframe tbody tr th:only-of-type {\n",
       "        vertical-align: middle;\n",
       "    }\n",
       "\n",
       "    .dataframe tbody tr th {\n",
       "        vertical-align: top;\n",
       "    }\n",
       "\n",
       "    .dataframe thead th {\n",
       "        text-align: right;\n",
       "    }\n",
       "</style>\n",
       "<table border=\"1\" class=\"dataframe\">\n",
       "  <thead>\n",
       "    <tr style=\"text-align: right;\">\n",
       "      <th></th>\n",
       "      <th>Country</th>\n",
       "      <th>Net migration rate (migrant(s)/1,000 population)</th>\n",
       "      <th>Year</th>\n",
       "    </tr>\n",
       "  </thead>\n",
       "  <tbody>\n",
       "    <tr>\n",
       "      <th>0</th>\n",
       "      <td>Canada</td>\n",
       "      <td>6</td>\n",
       "      <td>2018</td>\n",
       "    </tr>\n",
       "    <tr>\n",
       "      <th>1</th>\n",
       "      <td>United States</td>\n",
       "      <td>4</td>\n",
       "      <td>2018</td>\n",
       "    </tr>\n",
       "    <tr>\n",
       "      <th>2</th>\n",
       "      <td>Mexico</td>\n",
       "      <td>-2</td>\n",
       "      <td>2018</td>\n",
       "    </tr>\n",
       "    <tr>\n",
       "      <th>3</th>\n",
       "      <td>Greenland</td>\n",
       "      <td>-6</td>\n",
       "      <td>2018</td>\n",
       "    </tr>\n",
       "  </tbody>\n",
       "</table>\n",
       "</div>"
      ],
      "text/plain": [
       "         Country  Net migration rate (migrant(s)/1,000 population)  Year\n",
       "0         Canada                                                 6  2018\n",
       "1  United States                                                 4  2018\n",
       "2         Mexico                                                -2  2018\n",
       "3      Greenland                                                -6  2018"
      ]
     },
     "execution_count": 3,
     "metadata": {},
     "output_type": "execute_result"
    }
   ],
   "source": [
    "data1"
   ]
  },
  {
   "cell_type": "markdown",
   "metadata": {},
   "source": [
    "Quiero unir las tablas pero con los comandos que he visto hasta ahora que es el pd.DataFrame se puede pero mientras reviso los otros comandos"
   ]
  },
  {
   "cell_type": "code",
   "execution_count": 4,
   "metadata": {},
   "outputs": [],
   "source": [
    "data2=pd.read_csv('migracionSA.csv')"
   ]
  },
  {
   "cell_type": "code",
   "execution_count": 5,
   "metadata": {},
   "outputs": [
    {
     "data": {
      "text/html": [
       "<div>\n",
       "<style scoped>\n",
       "    .dataframe tbody tr th:only-of-type {\n",
       "        vertical-align: middle;\n",
       "    }\n",
       "\n",
       "    .dataframe tbody tr th {\n",
       "        vertical-align: top;\n",
       "    }\n",
       "\n",
       "    .dataframe thead th {\n",
       "        text-align: right;\n",
       "    }\n",
       "</style>\n",
       "<table border=\"1\" class=\"dataframe\">\n",
       "  <thead>\n",
       "    <tr style=\"text-align: right;\">\n",
       "      <th></th>\n",
       "      <th>Country</th>\n",
       "      <th>Net migration rate (migrant(s)/1,000 population)</th>\n",
       "      <th>Year</th>\n",
       "    </tr>\n",
       "  </thead>\n",
       "  <tbody>\n",
       "    <tr>\n",
       "      <th>0</th>\n",
       "      <td>Suriname</td>\n",
       "      <td>1</td>\n",
       "      <td>2018</td>\n",
       "    </tr>\n",
       "    <tr>\n",
       "      <th>1</th>\n",
       "      <td>Chile</td>\n",
       "      <td>0</td>\n",
       "      <td>2018</td>\n",
       "    </tr>\n",
       "    <tr>\n",
       "      <th>2</th>\n",
       "      <td>Ecuador</td>\n",
       "      <td>0</td>\n",
       "      <td>2018</td>\n",
       "    </tr>\n",
       "    <tr>\n",
       "      <th>3</th>\n",
       "      <td>Paraguay</td>\n",
       "      <td>0</td>\n",
       "      <td>2018</td>\n",
       "    </tr>\n",
       "    <tr>\n",
       "      <th>4</th>\n",
       "      <td>Argentina</td>\n",
       "      <td>0</td>\n",
       "      <td>2018</td>\n",
       "    </tr>\n",
       "    <tr>\n",
       "      <th>5</th>\n",
       "      <td>Brazil</td>\n",
       "      <td>0</td>\n",
       "      <td>2018</td>\n",
       "    </tr>\n",
       "    <tr>\n",
       "      <th>6</th>\n",
       "      <td>Bolivia</td>\n",
       "      <td>0</td>\n",
       "      <td>2018</td>\n",
       "    </tr>\n",
       "    <tr>\n",
       "      <th>7</th>\n",
       "      <td>Colombia</td>\n",
       "      <td>-1</td>\n",
       "      <td>2018</td>\n",
       "    </tr>\n",
       "    <tr>\n",
       "      <th>8</th>\n",
       "      <td>Uruguay</td>\n",
       "      <td>-1</td>\n",
       "      <td>2018</td>\n",
       "    </tr>\n",
       "    <tr>\n",
       "      <th>9</th>\n",
       "      <td>Venezuela</td>\n",
       "      <td>-1</td>\n",
       "      <td>2018</td>\n",
       "    </tr>\n",
       "    <tr>\n",
       "      <th>10</th>\n",
       "      <td>Peru</td>\n",
       "      <td>-2</td>\n",
       "      <td>2018</td>\n",
       "    </tr>\n",
       "    <tr>\n",
       "      <th>11</th>\n",
       "      <td>Guyana</td>\n",
       "      <td>-3</td>\n",
       "      <td>2018</td>\n",
       "    </tr>\n",
       "  </tbody>\n",
       "</table>\n",
       "</div>"
      ],
      "text/plain": [
       "      Country  Net migration rate (migrant(s)/1,000 population)  Year\n",
       "0    Suriname                                                 1  2018\n",
       "1       Chile                                                 0  2018\n",
       "2     Ecuador                                                 0  2018\n",
       "3    Paraguay                                                 0  2018\n",
       "4   Argentina                                                 0  2018\n",
       "5      Brazil                                                 0  2018\n",
       "6     Bolivia                                                 0  2018\n",
       "7    Colombia                                                -1  2018\n",
       "8     Uruguay                                                -1  2018\n",
       "9   Venezuela                                                -1  2018\n",
       "10       Peru                                                -2  2018\n",
       "11     Guyana                                                -3  2018"
      ]
     },
     "execution_count": 5,
     "metadata": {},
     "output_type": "execute_result"
    }
   ],
   "source": [
    "data2"
   ]
  },
  {
   "cell_type": "code",
   "execution_count": 6,
   "metadata": {},
   "outputs": [],
   "source": [
    "data3=pd.read_csv('migracionCA.csv')"
   ]
  },
  {
   "cell_type": "code",
   "execution_count": 7,
   "metadata": {},
   "outputs": [
    {
     "data": {
      "text/html": [
       "<div>\n",
       "<style scoped>\n",
       "    .dataframe tbody tr th:only-of-type {\n",
       "        vertical-align: middle;\n",
       "    }\n",
       "\n",
       "    .dataframe tbody tr th {\n",
       "        vertical-align: top;\n",
       "    }\n",
       "\n",
       "    .dataframe thead th {\n",
       "        text-align: right;\n",
       "    }\n",
       "</style>\n",
       "<table border=\"1\" class=\"dataframe\">\n",
       "  <thead>\n",
       "    <tr style=\"text-align: right;\">\n",
       "      <th></th>\n",
       "      <th>Country</th>\n",
       "      <th>Net migration rate (migrant(s)/1,000 population)</th>\n",
       "      <th>Year</th>\n",
       "    </tr>\n",
       "  </thead>\n",
       "  <tbody>\n",
       "    <tr>\n",
       "      <th>0</th>\n",
       "      <td>Cayman Islands</td>\n",
       "      <td>14</td>\n",
       "      <td>2018</td>\n",
       "    </tr>\n",
       "    <tr>\n",
       "      <th>1</th>\n",
       "      <td>Antigua and Barbuda</td>\n",
       "      <td>2</td>\n",
       "      <td>2018</td>\n",
       "    </tr>\n",
       "    <tr>\n",
       "      <th>2</th>\n",
       "      <td>Saint Kitts and Nevis</td>\n",
       "      <td>1</td>\n",
       "      <td>2018</td>\n",
       "    </tr>\n",
       "    <tr>\n",
       "      <th>3</th>\n",
       "      <td>Costa Rica</td>\n",
       "      <td>1</td>\n",
       "      <td>2018</td>\n",
       "    </tr>\n",
       "    <tr>\n",
       "      <th>4</th>\n",
       "      <td>Bahamas, The</td>\n",
       "      <td>0</td>\n",
       "      <td>2018</td>\n",
       "    </tr>\n",
       "    <tr>\n",
       "      <th>5</th>\n",
       "      <td>Panama</td>\n",
       "      <td>0</td>\n",
       "      <td>2018</td>\n",
       "    </tr>\n",
       "    <tr>\n",
       "      <th>6</th>\n",
       "      <td>Barbados</td>\n",
       "      <td>0</td>\n",
       "      <td>2018</td>\n",
       "    </tr>\n",
       "    <tr>\n",
       "      <th>7</th>\n",
       "      <td>Belize</td>\n",
       "      <td>-1</td>\n",
       "      <td>2018</td>\n",
       "    </tr>\n",
       "    <tr>\n",
       "      <th>8</th>\n",
       "      <td>Honduras</td>\n",
       "      <td>-1</td>\n",
       "      <td>2018</td>\n",
       "    </tr>\n",
       "    <tr>\n",
       "      <th>9</th>\n",
       "      <td>Haiti</td>\n",
       "      <td>-2</td>\n",
       "      <td>2018</td>\n",
       "    </tr>\n",
       "    <tr>\n",
       "      <th>10</th>\n",
       "      <td>Saint Lucia</td>\n",
       "      <td>-2</td>\n",
       "      <td>2018</td>\n",
       "    </tr>\n",
       "    <tr>\n",
       "      <th>11</th>\n",
       "      <td>Guatemala</td>\n",
       "      <td>-2</td>\n",
       "      <td>2018</td>\n",
       "    </tr>\n",
       "    <tr>\n",
       "      <th>12</th>\n",
       "      <td>Dominican Republic</td>\n",
       "      <td>-3</td>\n",
       "      <td>2018</td>\n",
       "    </tr>\n",
       "    <tr>\n",
       "      <th>13</th>\n",
       "      <td>Nicaragua</td>\n",
       "      <td>-3</td>\n",
       "      <td>2018</td>\n",
       "    </tr>\n",
       "    <tr>\n",
       "      <th>14</th>\n",
       "      <td>Grenada</td>\n",
       "      <td>-3</td>\n",
       "      <td>2018</td>\n",
       "    </tr>\n",
       "    <tr>\n",
       "      <th>15</th>\n",
       "      <td>Cuba</td>\n",
       "      <td>-5</td>\n",
       "      <td>2018</td>\n",
       "    </tr>\n",
       "    <tr>\n",
       "      <th>16</th>\n",
       "      <td>Dominica</td>\n",
       "      <td>-5</td>\n",
       "      <td>2018</td>\n",
       "    </tr>\n",
       "    <tr>\n",
       "      <th>17</th>\n",
       "      <td>Trinidad and Tobago</td>\n",
       "      <td>-6</td>\n",
       "      <td>2018</td>\n",
       "    </tr>\n",
       "    <tr>\n",
       "      <th>18</th>\n",
       "      <td>El Salvador</td>\n",
       "      <td>-8</td>\n",
       "      <td>2018</td>\n",
       "    </tr>\n",
       "    <tr>\n",
       "      <th>19</th>\n",
       "      <td>Saint Vincent and the Grenadines</td>\n",
       "      <td>-8</td>\n",
       "      <td>2018</td>\n",
       "    </tr>\n",
       "    <tr>\n",
       "      <th>20</th>\n",
       "      <td>Jamaica</td>\n",
       "      <td>-9</td>\n",
       "      <td>2018</td>\n",
       "    </tr>\n",
       "    <tr>\n",
       "      <th>21</th>\n",
       "      <td>Puerto Rico</td>\n",
       "      <td>-16</td>\n",
       "      <td>2018</td>\n",
       "    </tr>\n",
       "  </tbody>\n",
       "</table>\n",
       "</div>"
      ],
      "text/plain": [
       "                             Country  \\\n",
       "0                     Cayman Islands   \n",
       "1                Antigua and Barbuda   \n",
       "2              Saint Kitts and Nevis   \n",
       "3                         Costa Rica   \n",
       "4                       Bahamas, The   \n",
       "5                             Panama   \n",
       "6                           Barbados   \n",
       "7                             Belize   \n",
       "8                           Honduras   \n",
       "9                              Haiti   \n",
       "10                       Saint Lucia   \n",
       "11                         Guatemala   \n",
       "12                Dominican Republic   \n",
       "13                         Nicaragua   \n",
       "14                           Grenada   \n",
       "15                              Cuba   \n",
       "16                          Dominica   \n",
       "17               Trinidad and Tobago   \n",
       "18                       El Salvador   \n",
       "19  Saint Vincent and the Grenadines   \n",
       "20                           Jamaica   \n",
       "21                       Puerto Rico   \n",
       "\n",
       "    Net migration rate (migrant(s)/1,000 population)  Year  \n",
       "0                                                 14  2018  \n",
       "1                                                  2  2018  \n",
       "2                                                  1  2018  \n",
       "3                                                  1  2018  \n",
       "4                                                  0  2018  \n",
       "5                                                  0  2018  \n",
       "6                                                  0  2018  \n",
       "7                                                 -1  2018  \n",
       "8                                                 -1  2018  \n",
       "9                                                 -2  2018  \n",
       "10                                                -2  2018  \n",
       "11                                                -2  2018  \n",
       "12                                                -3  2018  \n",
       "13                                                -3  2018  \n",
       "14                                                -3  2018  \n",
       "15                                                -5  2018  \n",
       "16                                                -5  2018  \n",
       "17                                                -6  2018  \n",
       "18                                                -8  2018  \n",
       "19                                                -8  2018  \n",
       "20                                                -9  2018  \n",
       "21                                               -16  2018  "
      ]
     },
     "execution_count": 7,
     "metadata": {},
     "output_type": "execute_result"
    }
   ],
   "source": [
    "data3"
   ]
  },
  {
   "cell_type": "code",
   "execution_count": 8,
   "metadata": {},
   "outputs": [
    {
     "data": {
      "text/plain": [
       "RangeIndex(start=0, stop=4, step=1)"
      ]
     },
     "execution_count": 8,
     "metadata": {},
     "output_type": "execute_result"
    }
   ],
   "source": [
    "data1.index"
   ]
  },
  {
   "cell_type": "code",
   "execution_count": 9,
   "metadata": {},
   "outputs": [
    {
     "data": {
      "text/plain": [
       "RangeIndex(start=0, stop=12, step=1)"
      ]
     },
     "execution_count": 9,
     "metadata": {},
     "output_type": "execute_result"
    }
   ],
   "source": [
    "data2.index"
   ]
  },
  {
   "cell_type": "code",
   "execution_count": 10,
   "metadata": {},
   "outputs": [
    {
     "data": {
      "text/plain": [
       "RangeIndex(start=0, stop=22, step=1)"
      ]
     },
     "execution_count": 10,
     "metadata": {},
     "output_type": "execute_result"
    }
   ],
   "source": [
    "data3.index"
   ]
  },
  {
   "cell_type": "code",
   "execution_count": 11,
   "metadata": {},
   "outputs": [
    {
     "data": {
      "text/plain": [
       "[('Country',\n",
       "  0           Canada\n",
       "  1    United States\n",
       "  2           Mexico\n",
       "  3        Greenland\n",
       "  Name: Country, dtype: object),\n",
       " ('Net migration rate (migrant(s)/1,000 population)',\n",
       "  0    6\n",
       "  1    4\n",
       "  2   -2\n",
       "  3   -6\n",
       "  Name: Net migration rate (migrant(s)/1,000 population), dtype: int64),\n",
       " ('Year',\n",
       "  0    2018\n",
       "  1    2018\n",
       "  2    2018\n",
       "  3    2018\n",
       "  Name: Year, dtype: int64)]"
      ]
     },
     "execution_count": 11,
     "metadata": {},
     "output_type": "execute_result"
    }
   ],
   "source": [
    "list(data1.items())"
   ]
  },
  {
   "cell_type": "code",
   "execution_count": 12,
   "metadata": {},
   "outputs": [
    {
     "data": {
      "text/plain": [
       "[('Country',\n",
       "  0      Suriname\n",
       "  1         Chile\n",
       "  2       Ecuador\n",
       "  3      Paraguay\n",
       "  4     Argentina\n",
       "  5        Brazil\n",
       "  6       Bolivia\n",
       "  7      Colombia\n",
       "  8       Uruguay\n",
       "  9     Venezuela\n",
       "  10         Peru\n",
       "  11       Guyana\n",
       "  Name: Country, dtype: object),\n",
       " ('Net migration rate (migrant(s)/1,000 population)',\n",
       "  0     1\n",
       "  1     0\n",
       "  2     0\n",
       "  3     0\n",
       "  4     0\n",
       "  5     0\n",
       "  6     0\n",
       "  7    -1\n",
       "  8    -1\n",
       "  9    -1\n",
       "  10   -2\n",
       "  11   -3\n",
       "  Name: Net migration rate (migrant(s)/1,000 population), dtype: int64),\n",
       " ('Year',\n",
       "  0     2018\n",
       "  1     2018\n",
       "  2     2018\n",
       "  3     2018\n",
       "  4     2018\n",
       "  5     2018\n",
       "  6     2018\n",
       "  7     2018\n",
       "  8     2018\n",
       "  9     2018\n",
       "  10    2018\n",
       "  11    2018\n",
       "  Name: Year, dtype: int64)]"
      ]
     },
     "execution_count": 12,
     "metadata": {},
     "output_type": "execute_result"
    }
   ],
   "source": [
    "list(data2.items())"
   ]
  },
  {
   "cell_type": "markdown",
   "metadata": {},
   "source": [
    "INtenté usar el comando make_df que viene en tutorial pero no existe según notebook, lo siguiente lo encontré\n",
    "Usaré pd.concat para juntar las tablas aunque parece complica los indices, NA es norteamerica, SA sudamerica y CA centroamerica"
   ]
  },
  {
   "cell_type": "code",
   "execution_count": 13,
   "metadata": {},
   "outputs": [
    {
     "data": {
      "text/plain": [
       "'data1'"
      ]
     },
     "metadata": {},
     "output_type": "display_data"
    },
    {
     "data": {
      "text/plain": [
       "'data2'"
      ]
     },
     "metadata": {},
     "output_type": "display_data"
    },
    {
     "data": {
      "text/plain": [
       "\"pd.concat([data1, data2], keys=['NA', 'SA'])\""
      ]
     },
     "metadata": {},
     "output_type": "display_data"
    }
   ],
   "source": [
    "display('data1', 'data2', \"pd.concat([data1, data2], keys=['NA', 'SA'])\")"
   ]
  },
  {
   "cell_type": "code",
   "execution_count": 14,
   "metadata": {},
   "outputs": [],
   "source": [
    "u1=pd.concat([data1, data2, data3], keys=['NA', 'SA', 'CA'])"
   ]
  },
  {
   "cell_type": "code",
   "execution_count": 15,
   "metadata": {},
   "outputs": [
    {
     "data": {
      "text/html": [
       "<div>\n",
       "<style scoped>\n",
       "    .dataframe tbody tr th:only-of-type {\n",
       "        vertical-align: middle;\n",
       "    }\n",
       "\n",
       "    .dataframe tbody tr th {\n",
       "        vertical-align: top;\n",
       "    }\n",
       "\n",
       "    .dataframe thead th {\n",
       "        text-align: right;\n",
       "    }\n",
       "</style>\n",
       "<table border=\"1\" class=\"dataframe\">\n",
       "  <thead>\n",
       "    <tr style=\"text-align: right;\">\n",
       "      <th></th>\n",
       "      <th></th>\n",
       "      <th>Country</th>\n",
       "      <th>Net migration rate (migrant(s)/1,000 population)</th>\n",
       "      <th>Year</th>\n",
       "    </tr>\n",
       "  </thead>\n",
       "  <tbody>\n",
       "    <tr>\n",
       "      <th rowspan=\"4\" valign=\"top\">NA</th>\n",
       "      <th>0</th>\n",
       "      <td>Canada</td>\n",
       "      <td>6</td>\n",
       "      <td>2018</td>\n",
       "    </tr>\n",
       "    <tr>\n",
       "      <th>1</th>\n",
       "      <td>United States</td>\n",
       "      <td>4</td>\n",
       "      <td>2018</td>\n",
       "    </tr>\n",
       "    <tr>\n",
       "      <th>2</th>\n",
       "      <td>Mexico</td>\n",
       "      <td>-2</td>\n",
       "      <td>2018</td>\n",
       "    </tr>\n",
       "    <tr>\n",
       "      <th>3</th>\n",
       "      <td>Greenland</td>\n",
       "      <td>-6</td>\n",
       "      <td>2018</td>\n",
       "    </tr>\n",
       "    <tr>\n",
       "      <th rowspan=\"12\" valign=\"top\">SA</th>\n",
       "      <th>0</th>\n",
       "      <td>Suriname</td>\n",
       "      <td>1</td>\n",
       "      <td>2018</td>\n",
       "    </tr>\n",
       "    <tr>\n",
       "      <th>1</th>\n",
       "      <td>Chile</td>\n",
       "      <td>0</td>\n",
       "      <td>2018</td>\n",
       "    </tr>\n",
       "    <tr>\n",
       "      <th>2</th>\n",
       "      <td>Ecuador</td>\n",
       "      <td>0</td>\n",
       "      <td>2018</td>\n",
       "    </tr>\n",
       "    <tr>\n",
       "      <th>3</th>\n",
       "      <td>Paraguay</td>\n",
       "      <td>0</td>\n",
       "      <td>2018</td>\n",
       "    </tr>\n",
       "    <tr>\n",
       "      <th>4</th>\n",
       "      <td>Argentina</td>\n",
       "      <td>0</td>\n",
       "      <td>2018</td>\n",
       "    </tr>\n",
       "    <tr>\n",
       "      <th>5</th>\n",
       "      <td>Brazil</td>\n",
       "      <td>0</td>\n",
       "      <td>2018</td>\n",
       "    </tr>\n",
       "    <tr>\n",
       "      <th>6</th>\n",
       "      <td>Bolivia</td>\n",
       "      <td>0</td>\n",
       "      <td>2018</td>\n",
       "    </tr>\n",
       "    <tr>\n",
       "      <th>7</th>\n",
       "      <td>Colombia</td>\n",
       "      <td>-1</td>\n",
       "      <td>2018</td>\n",
       "    </tr>\n",
       "    <tr>\n",
       "      <th>8</th>\n",
       "      <td>Uruguay</td>\n",
       "      <td>-1</td>\n",
       "      <td>2018</td>\n",
       "    </tr>\n",
       "    <tr>\n",
       "      <th>9</th>\n",
       "      <td>Venezuela</td>\n",
       "      <td>-1</td>\n",
       "      <td>2018</td>\n",
       "    </tr>\n",
       "    <tr>\n",
       "      <th>10</th>\n",
       "      <td>Peru</td>\n",
       "      <td>-2</td>\n",
       "      <td>2018</td>\n",
       "    </tr>\n",
       "    <tr>\n",
       "      <th>11</th>\n",
       "      <td>Guyana</td>\n",
       "      <td>-3</td>\n",
       "      <td>2018</td>\n",
       "    </tr>\n",
       "    <tr>\n",
       "      <th rowspan=\"22\" valign=\"top\">CA</th>\n",
       "      <th>0</th>\n",
       "      <td>Cayman Islands</td>\n",
       "      <td>14</td>\n",
       "      <td>2018</td>\n",
       "    </tr>\n",
       "    <tr>\n",
       "      <th>1</th>\n",
       "      <td>Antigua and Barbuda</td>\n",
       "      <td>2</td>\n",
       "      <td>2018</td>\n",
       "    </tr>\n",
       "    <tr>\n",
       "      <th>2</th>\n",
       "      <td>Saint Kitts and Nevis</td>\n",
       "      <td>1</td>\n",
       "      <td>2018</td>\n",
       "    </tr>\n",
       "    <tr>\n",
       "      <th>3</th>\n",
       "      <td>Costa Rica</td>\n",
       "      <td>1</td>\n",
       "      <td>2018</td>\n",
       "    </tr>\n",
       "    <tr>\n",
       "      <th>4</th>\n",
       "      <td>Bahamas, The</td>\n",
       "      <td>0</td>\n",
       "      <td>2018</td>\n",
       "    </tr>\n",
       "    <tr>\n",
       "      <th>5</th>\n",
       "      <td>Panama</td>\n",
       "      <td>0</td>\n",
       "      <td>2018</td>\n",
       "    </tr>\n",
       "    <tr>\n",
       "      <th>6</th>\n",
       "      <td>Barbados</td>\n",
       "      <td>0</td>\n",
       "      <td>2018</td>\n",
       "    </tr>\n",
       "    <tr>\n",
       "      <th>7</th>\n",
       "      <td>Belize</td>\n",
       "      <td>-1</td>\n",
       "      <td>2018</td>\n",
       "    </tr>\n",
       "    <tr>\n",
       "      <th>8</th>\n",
       "      <td>Honduras</td>\n",
       "      <td>-1</td>\n",
       "      <td>2018</td>\n",
       "    </tr>\n",
       "    <tr>\n",
       "      <th>9</th>\n",
       "      <td>Haiti</td>\n",
       "      <td>-2</td>\n",
       "      <td>2018</td>\n",
       "    </tr>\n",
       "    <tr>\n",
       "      <th>10</th>\n",
       "      <td>Saint Lucia</td>\n",
       "      <td>-2</td>\n",
       "      <td>2018</td>\n",
       "    </tr>\n",
       "    <tr>\n",
       "      <th>11</th>\n",
       "      <td>Guatemala</td>\n",
       "      <td>-2</td>\n",
       "      <td>2018</td>\n",
       "    </tr>\n",
       "    <tr>\n",
       "      <th>12</th>\n",
       "      <td>Dominican Republic</td>\n",
       "      <td>-3</td>\n",
       "      <td>2018</td>\n",
       "    </tr>\n",
       "    <tr>\n",
       "      <th>13</th>\n",
       "      <td>Nicaragua</td>\n",
       "      <td>-3</td>\n",
       "      <td>2018</td>\n",
       "    </tr>\n",
       "    <tr>\n",
       "      <th>14</th>\n",
       "      <td>Grenada</td>\n",
       "      <td>-3</td>\n",
       "      <td>2018</td>\n",
       "    </tr>\n",
       "    <tr>\n",
       "      <th>15</th>\n",
       "      <td>Cuba</td>\n",
       "      <td>-5</td>\n",
       "      <td>2018</td>\n",
       "    </tr>\n",
       "    <tr>\n",
       "      <th>16</th>\n",
       "      <td>Dominica</td>\n",
       "      <td>-5</td>\n",
       "      <td>2018</td>\n",
       "    </tr>\n",
       "    <tr>\n",
       "      <th>17</th>\n",
       "      <td>Trinidad and Tobago</td>\n",
       "      <td>-6</td>\n",
       "      <td>2018</td>\n",
       "    </tr>\n",
       "    <tr>\n",
       "      <th>18</th>\n",
       "      <td>El Salvador</td>\n",
       "      <td>-8</td>\n",
       "      <td>2018</td>\n",
       "    </tr>\n",
       "    <tr>\n",
       "      <th>19</th>\n",
       "      <td>Saint Vincent and the Grenadines</td>\n",
       "      <td>-8</td>\n",
       "      <td>2018</td>\n",
       "    </tr>\n",
       "    <tr>\n",
       "      <th>20</th>\n",
       "      <td>Jamaica</td>\n",
       "      <td>-9</td>\n",
       "      <td>2018</td>\n",
       "    </tr>\n",
       "    <tr>\n",
       "      <th>21</th>\n",
       "      <td>Puerto Rico</td>\n",
       "      <td>-16</td>\n",
       "      <td>2018</td>\n",
       "    </tr>\n",
       "  </tbody>\n",
       "</table>\n",
       "</div>"
      ],
      "text/plain": [
       "                                Country  \\\n",
       "NA 0                             Canada   \n",
       "   1                      United States   \n",
       "   2                             Mexico   \n",
       "   3                          Greenland   \n",
       "SA 0                           Suriname   \n",
       "   1                              Chile   \n",
       "   2                            Ecuador   \n",
       "   3                           Paraguay   \n",
       "   4                          Argentina   \n",
       "   5                             Brazil   \n",
       "   6                            Bolivia   \n",
       "   7                           Colombia   \n",
       "   8                            Uruguay   \n",
       "   9                          Venezuela   \n",
       "   10                              Peru   \n",
       "   11                            Guyana   \n",
       "CA 0                     Cayman Islands   \n",
       "   1                Antigua and Barbuda   \n",
       "   2              Saint Kitts and Nevis   \n",
       "   3                         Costa Rica   \n",
       "   4                       Bahamas, The   \n",
       "   5                             Panama   \n",
       "   6                           Barbados   \n",
       "   7                             Belize   \n",
       "   8                           Honduras   \n",
       "   9                              Haiti   \n",
       "   10                       Saint Lucia   \n",
       "   11                         Guatemala   \n",
       "   12                Dominican Republic   \n",
       "   13                         Nicaragua   \n",
       "   14                           Grenada   \n",
       "   15                              Cuba   \n",
       "   16                          Dominica   \n",
       "   17               Trinidad and Tobago   \n",
       "   18                       El Salvador   \n",
       "   19  Saint Vincent and the Grenadines   \n",
       "   20                           Jamaica   \n",
       "   21                       Puerto Rico   \n",
       "\n",
       "       Net migration rate (migrant(s)/1,000 population)  Year  \n",
       "NA 0                                                  6  2018  \n",
       "   1                                                  4  2018  \n",
       "   2                                                 -2  2018  \n",
       "   3                                                 -6  2018  \n",
       "SA 0                                                  1  2018  \n",
       "   1                                                  0  2018  \n",
       "   2                                                  0  2018  \n",
       "   3                                                  0  2018  \n",
       "   4                                                  0  2018  \n",
       "   5                                                  0  2018  \n",
       "   6                                                  0  2018  \n",
       "   7                                                 -1  2018  \n",
       "   8                                                 -1  2018  \n",
       "   9                                                 -1  2018  \n",
       "   10                                                -2  2018  \n",
       "   11                                                -3  2018  \n",
       "CA 0                                                 14  2018  \n",
       "   1                                                  2  2018  \n",
       "   2                                                  1  2018  \n",
       "   3                                                  1  2018  \n",
       "   4                                                  0  2018  \n",
       "   5                                                  0  2018  \n",
       "   6                                                  0  2018  \n",
       "   7                                                 -1  2018  \n",
       "   8                                                 -1  2018  \n",
       "   9                                                 -2  2018  \n",
       "   10                                                -2  2018  \n",
       "   11                                                -2  2018  \n",
       "   12                                                -3  2018  \n",
       "   13                                                -3  2018  \n",
       "   14                                                -3  2018  \n",
       "   15                                                -5  2018  \n",
       "   16                                                -5  2018  \n",
       "   17                                                -6  2018  \n",
       "   18                                                -8  2018  \n",
       "   19                                                -8  2018  \n",
       "   20                                                -9  2018  \n",
       "   21                                               -16  2018  "
      ]
     },
     "execution_count": 15,
     "metadata": {},
     "output_type": "execute_result"
    }
   ],
   "source": [
    "u1"
   ]
  },
  {
   "cell_type": "markdown",
   "metadata": {},
   "source": [
    "Descarga de otras tablas de poblacion de Norteamerica"
   ]
  },
  {
   "cell_type": "raw",
   "metadata": {
    "jupyter": {
     "outputs_hidden": true
    }
   },
   "source": [
    "url = 'https://www.indexmundi.com/map/?t=0&v=21&r=na&l=en'\n",
    "html = requests.get(url).content\n",
    "df_list = pd.read_html(html)\n",
    "df = df_list[1]\n",
    "df.to_csv('poblacionNA.csv', index=False)\n",
    "df"
   ]
  },
  {
   "cell_type": "raw",
   "metadata": {
    "jupyter": {
     "outputs_hidden": true
    }
   },
   "source": [
    "url = 'https://www.indexmundi.com/map/?t=0&v=21000&r=na&l=en'\n",
    "html = requests.get(url).content\n",
    "df_list = pd.read_html(html)\n",
    "df = df_list[1]\n",
    "df.to_csv('densidadpoblacionNA.csv', index=False)\n",
    "df"
   ]
  },
  {
   "cell_type": "markdown",
   "metadata": {},
   "source": [
    "Lectura de tablas csv"
   ]
  },
  {
   "cell_type": "code",
   "execution_count": 16,
   "metadata": {},
   "outputs": [],
   "source": [
    "dfNA2=pd.read_csv('poblacionNA.csv')"
   ]
  },
  {
   "cell_type": "code",
   "execution_count": 17,
   "metadata": {},
   "outputs": [],
   "source": [
    "dfNA3=pd.read_csv('densidadpoblacionNA.csv')"
   ]
  },
  {
   "cell_type": "code",
   "execution_count": 18,
   "metadata": {},
   "outputs": [
    {
     "data": {
      "text/plain": [
       "'dfNA2'"
      ]
     },
     "metadata": {},
     "output_type": "display_data"
    },
    {
     "data": {
      "text/plain": [
       "'dfNA3'"
      ]
     },
     "metadata": {},
     "output_type": "display_data"
    },
    {
     "data": {
      "text/plain": [
       "'pd.merge(dfNA2, dfNA3)'"
      ]
     },
     "metadata": {},
     "output_type": "display_data"
    }
   ],
   "source": [
    "display('dfNA2', 'dfNA3', 'pd.merge(dfNA2, dfNA3)')"
   ]
  },
  {
   "cell_type": "markdown",
   "metadata": {},
   "source": [
    "Voy a unir las tablas de población, densidad de población y migración, al parecer merge solo funciona con dos tablas"
   ]
  },
  {
   "cell_type": "code",
   "execution_count": 19,
   "metadata": {},
   "outputs": [],
   "source": [
    "dfNA4=pd.merge(dfNA2, dfNA3)"
   ]
  },
  {
   "cell_type": "code",
   "execution_count": 20,
   "metadata": {},
   "outputs": [],
   "source": [
    "dfNA5=pd.merge(dfNA4, data1)"
   ]
  },
  {
   "cell_type": "code",
   "execution_count": 21,
   "metadata": {},
   "outputs": [
    {
     "data": {
      "text/html": [
       "<div>\n",
       "<style scoped>\n",
       "    .dataframe tbody tr th:only-of-type {\n",
       "        vertical-align: middle;\n",
       "    }\n",
       "\n",
       "    .dataframe tbody tr th {\n",
       "        vertical-align: top;\n",
       "    }\n",
       "\n",
       "    .dataframe thead th {\n",
       "        text-align: right;\n",
       "    }\n",
       "</style>\n",
       "<table border=\"1\" class=\"dataframe\">\n",
       "  <thead>\n",
       "    <tr style=\"text-align: right;\">\n",
       "      <th></th>\n",
       "      <th>Country</th>\n",
       "      <th>Population</th>\n",
       "      <th>Year</th>\n",
       "      <th>Population density (Number of people per square kilometer)</th>\n",
       "      <th>Net migration rate (migrant(s)/1,000 population)</th>\n",
       "    </tr>\n",
       "  </thead>\n",
       "  <tbody>\n",
       "    <tr>\n",
       "      <th>0</th>\n",
       "      <td>United States</td>\n",
       "      <td>329256480</td>\n",
       "      <td>2018</td>\n",
       "      <td>33</td>\n",
       "      <td>4</td>\n",
       "    </tr>\n",
       "    <tr>\n",
       "      <th>1</th>\n",
       "      <td>Mexico</td>\n",
       "      <td>125959208</td>\n",
       "      <td>2018</td>\n",
       "      <td>64</td>\n",
       "      <td>-2</td>\n",
       "    </tr>\n",
       "    <tr>\n",
       "      <th>2</th>\n",
       "      <td>Canada</td>\n",
       "      <td>35881660</td>\n",
       "      <td>2018</td>\n",
       "      <td>4</td>\n",
       "      <td>6</td>\n",
       "    </tr>\n",
       "    <tr>\n",
       "      <th>3</th>\n",
       "      <td>Greenland</td>\n",
       "      <td>57691</td>\n",
       "      <td>2018</td>\n",
       "      <td>0</td>\n",
       "      <td>-6</td>\n",
       "    </tr>\n",
       "  </tbody>\n",
       "</table>\n",
       "</div>"
      ],
      "text/plain": [
       "         Country  Population  Year  \\\n",
       "0  United States   329256480  2018   \n",
       "1         Mexico   125959208  2018   \n",
       "2         Canada    35881660  2018   \n",
       "3      Greenland       57691  2018   \n",
       "\n",
       "   Population density (Number of people per square kilometer)  \\\n",
       "0                                                 33            \n",
       "1                                                 64            \n",
       "2                                                  4            \n",
       "3                                                  0            \n",
       "\n",
       "   Net migration rate (migrant(s)/1,000 population)  \n",
       "0                                                 4  \n",
       "1                                                -2  \n",
       "2                                                 6  \n",
       "3                                                -6  "
      ]
     },
     "execution_count": 21,
     "metadata": {},
     "output_type": "execute_result"
    }
   ],
   "source": [
    "dfNA5"
   ]
  },
  {
   "cell_type": "markdown",
   "metadata": {},
   "source": [
    "de la información de la página de la información neta tenemos: \\\n",
    "\n",
    "    Definition: This entry includes the figure for the difference between the number of persons entering and leaving a country during the year per 1,000 persons (based on midyear population). An excess of persons entering the country is referred to as net immigration (e.g., 3.56 migrants/1,000 population); an excess of persons leaving the country as net emigration (e.g., -9.26 migrants/1,000 population). The net migration rate indicates the contribution of migration to the overall level of population change. The net migration rate does not distinguish between economic migrants, refugees, and other types of migrants nor does it distinguish between lawful migrants and undocumented migrants.\n",
    "\n",
    "Description: The map displayed here shows how Net migration rate varies by country. The shade of the country corresponds to the magnitude of the indicator. The darker the shade, the higher the value."
   ]
  },
  {
   "cell_type": "code",
   "execution_count": 22,
   "metadata": {},
   "outputs": [],
   "source": [
    "result = pd.concat([dfNA2, dfNA3, data1], axis=1, sort=False)"
   ]
  },
  {
   "cell_type": "code",
   "execution_count": 23,
   "metadata": {},
   "outputs": [
    {
     "data": {
      "text/html": [
       "<div>\n",
       "<style scoped>\n",
       "    .dataframe tbody tr th:only-of-type {\n",
       "        vertical-align: middle;\n",
       "    }\n",
       "\n",
       "    .dataframe tbody tr th {\n",
       "        vertical-align: top;\n",
       "    }\n",
       "\n",
       "    .dataframe thead th {\n",
       "        text-align: right;\n",
       "    }\n",
       "</style>\n",
       "<table border=\"1\" class=\"dataframe\">\n",
       "  <thead>\n",
       "    <tr style=\"text-align: right;\">\n",
       "      <th></th>\n",
       "      <th>Country</th>\n",
       "      <th>Population</th>\n",
       "      <th>Year</th>\n",
       "      <th>Country</th>\n",
       "      <th>Population density (Number of people per square kilometer)</th>\n",
       "      <th>Year</th>\n",
       "      <th>Country</th>\n",
       "      <th>Net migration rate (migrant(s)/1,000 population)</th>\n",
       "      <th>Year</th>\n",
       "    </tr>\n",
       "  </thead>\n",
       "  <tbody>\n",
       "    <tr>\n",
       "      <th>0</th>\n",
       "      <td>United States</td>\n",
       "      <td>329256480</td>\n",
       "      <td>2018</td>\n",
       "      <td>Mexico</td>\n",
       "      <td>64</td>\n",
       "      <td>2018</td>\n",
       "      <td>Canada</td>\n",
       "      <td>6</td>\n",
       "      <td>2018</td>\n",
       "    </tr>\n",
       "    <tr>\n",
       "      <th>1</th>\n",
       "      <td>Mexico</td>\n",
       "      <td>125959208</td>\n",
       "      <td>2018</td>\n",
       "      <td>United States</td>\n",
       "      <td>33</td>\n",
       "      <td>2018</td>\n",
       "      <td>United States</td>\n",
       "      <td>4</td>\n",
       "      <td>2018</td>\n",
       "    </tr>\n",
       "    <tr>\n",
       "      <th>2</th>\n",
       "      <td>Canada</td>\n",
       "      <td>35881660</td>\n",
       "      <td>2018</td>\n",
       "      <td>Canada</td>\n",
       "      <td>4</td>\n",
       "      <td>2018</td>\n",
       "      <td>Mexico</td>\n",
       "      <td>-2</td>\n",
       "      <td>2018</td>\n",
       "    </tr>\n",
       "    <tr>\n",
       "      <th>3</th>\n",
       "      <td>Greenland</td>\n",
       "      <td>57691</td>\n",
       "      <td>2018</td>\n",
       "      <td>Greenland</td>\n",
       "      <td>0</td>\n",
       "      <td>2018</td>\n",
       "      <td>Greenland</td>\n",
       "      <td>-6</td>\n",
       "      <td>2018</td>\n",
       "    </tr>\n",
       "  </tbody>\n",
       "</table>\n",
       "</div>"
      ],
      "text/plain": [
       "         Country  Population  Year        Country  \\\n",
       "0  United States   329256480  2018         Mexico   \n",
       "1         Mexico   125959208  2018  United States   \n",
       "2         Canada    35881660  2018         Canada   \n",
       "3      Greenland       57691  2018      Greenland   \n",
       "\n",
       "   Population density (Number of people per square kilometer)  Year  \\\n",
       "0                                                 64           2018   \n",
       "1                                                 33           2018   \n",
       "2                                                  4           2018   \n",
       "3                                                  0           2018   \n",
       "\n",
       "         Country  Net migration rate (migrant(s)/1,000 population)  Year  \n",
       "0         Canada                                                 6  2018  \n",
       "1  United States                                                 4  2018  \n",
       "2         Mexico                                                -2  2018  \n",
       "3      Greenland                                                -6  2018  "
      ]
     },
     "execution_count": 23,
     "metadata": {},
     "output_type": "execute_result"
    }
   ],
   "source": [
    "result"
   ]
  },
  {
   "cell_type": "markdown",
   "metadata": {},
   "source": [
    "no entiendo porque en merge y en concat no reconoce las otras columnas"
   ]
  },
  {
   "cell_type": "markdown",
   "metadata": {},
   "source": [
    "descargaré las otras tablas para complementar"
   ]
  },
  {
   "cell_type": "raw",
   "metadata": {
    "jupyter": {
     "outputs_hidden": true,
     "source_hidden": true
    }
   },
   "source": [
    "url = 'https://www.indexmundi.com/map/?t=0&v=21&r=sa&l=en'\n",
    "html = requests.get(url).content\n",
    "df_list = pd.read_html(html)\n",
    "df = df_list[1]\n",
    "df.to_csv('poblacionsA.csv', index=False)\n",
    "df"
   ]
  },
  {
   "cell_type": "raw",
   "metadata": {
    "jupyter": {
     "outputs_hidden": true,
     "source_hidden": true
    }
   },
   "source": [
    "url = 'https://www.indexmundi.com/map/?t=0&v=21&r=ca&l=en'\n",
    "html = requests.get(url).content\n",
    "df_list = pd.read_html(html)\n",
    "df = df_list[1]\n",
    "df.to_csv('poblacionCA.csv', index=False)\n",
    "df"
   ]
  },
  {
   "cell_type": "raw",
   "metadata": {
    "jupyter": {
     "outputs_hidden": true,
     "source_hidden": true
    }
   },
   "source": [
    "url = 'https://www.indexmundi.com/map/?t=0&v=21000&r=ca&l=en'\n",
    "html = requests.get(url).content\n",
    "df_list = pd.read_html(html)\n",
    "df = df_list[1]\n",
    "df.to_csv('densidadpoblacionCA.csv', index=False)\n",
    "df"
   ]
  },
  {
   "cell_type": "raw",
   "metadata": {
    "jupyter": {
     "outputs_hidden": true,
     "source_hidden": true
    }
   },
   "source": [
    "url = 'https://www.indexmundi.com/map/?t=0&v=21000&r=sa&l=en'\n",
    "html = requests.get(url).content\n",
    "df_list = pd.read_html(html)\n",
    "df = df_list[1]\n",
    "df.to_csv('densidadpoblacionSA.csv', index=False)\n",
    "df"
   ]
  },
  {
   "cell_type": "code",
   "execution_count": 25,
   "metadata": {},
   "outputs": [],
   "source": [
    "dfSA2=pd.read_csv('poblacionSA.csv')"
   ]
  },
  {
   "cell_type": "code",
   "execution_count": 26,
   "metadata": {},
   "outputs": [],
   "source": [
    "dfSA3=pd.read_csv('densidadpoblacionSA.csv')"
   ]
  },
  {
   "cell_type": "code",
   "execution_count": 27,
   "metadata": {},
   "outputs": [
    {
     "data": {
      "text/plain": [
       "'dfSA2'"
      ]
     },
     "metadata": {},
     "output_type": "display_data"
    },
    {
     "data": {
      "text/plain": [
       "'dfSA3'"
      ]
     },
     "metadata": {},
     "output_type": "display_data"
    },
    {
     "data": {
      "text/plain": [
       "'pd.merge(dfSA2, dfSA3)'"
      ]
     },
     "metadata": {},
     "output_type": "display_data"
    }
   ],
   "source": [
    "display('dfSA2', 'dfSA3', 'pd.merge(dfSA2, dfSA3)')"
   ]
  },
  {
   "cell_type": "markdown",
   "metadata": {},
   "source": [
    "Voy a unir las tablas de población, densidad de población y migración, al parecer merge solo funciona con dos tablas"
   ]
  },
  {
   "cell_type": "code",
   "execution_count": 28,
   "metadata": {},
   "outputs": [],
   "source": [
    "dfSA4=pd.merge(dfSA2, dfSA3)"
   ]
  },
  {
   "cell_type": "code",
   "execution_count": 29,
   "metadata": {},
   "outputs": [],
   "source": [
    "dfSA5=pd.merge(dfSA4, data2)"
   ]
  },
  {
   "cell_type": "code",
   "execution_count": 30,
   "metadata": {},
   "outputs": [
    {
     "data": {
      "text/html": [
       "<div>\n",
       "<style scoped>\n",
       "    .dataframe tbody tr th:only-of-type {\n",
       "        vertical-align: middle;\n",
       "    }\n",
       "\n",
       "    .dataframe tbody tr th {\n",
       "        vertical-align: top;\n",
       "    }\n",
       "\n",
       "    .dataframe thead th {\n",
       "        text-align: right;\n",
       "    }\n",
       "</style>\n",
       "<table border=\"1\" class=\"dataframe\">\n",
       "  <thead>\n",
       "    <tr style=\"text-align: right;\">\n",
       "      <th></th>\n",
       "      <th>Country</th>\n",
       "      <th>Population</th>\n",
       "      <th>Year</th>\n",
       "      <th>Population density (Number of people per square kilometer)</th>\n",
       "      <th>Net migration rate (migrant(s)/1,000 population)</th>\n",
       "    </tr>\n",
       "  </thead>\n",
       "  <tbody>\n",
       "    <tr>\n",
       "      <th>0</th>\n",
       "      <td>Brazil</td>\n",
       "      <td>208846896</td>\n",
       "      <td>2018</td>\n",
       "      <td>25</td>\n",
       "      <td>0</td>\n",
       "    </tr>\n",
       "    <tr>\n",
       "      <th>1</th>\n",
       "      <td>Colombia</td>\n",
       "      <td>48168996</td>\n",
       "      <td>2018</td>\n",
       "      <td>42</td>\n",
       "      <td>-1</td>\n",
       "    </tr>\n",
       "    <tr>\n",
       "      <th>2</th>\n",
       "      <td>Argentina</td>\n",
       "      <td>44694200</td>\n",
       "      <td>2018</td>\n",
       "      <td>16</td>\n",
       "      <td>0</td>\n",
       "    </tr>\n",
       "    <tr>\n",
       "      <th>3</th>\n",
       "      <td>Venezuela</td>\n",
       "      <td>31689176</td>\n",
       "      <td>2018</td>\n",
       "      <td>35</td>\n",
       "      <td>-1</td>\n",
       "    </tr>\n",
       "    <tr>\n",
       "      <th>4</th>\n",
       "      <td>Peru</td>\n",
       "      <td>31331228</td>\n",
       "      <td>2018</td>\n",
       "      <td>24</td>\n",
       "      <td>-2</td>\n",
       "    </tr>\n",
       "    <tr>\n",
       "      <th>5</th>\n",
       "      <td>Chile</td>\n",
       "      <td>17925262</td>\n",
       "      <td>2018</td>\n",
       "      <td>24</td>\n",
       "      <td>0</td>\n",
       "    </tr>\n",
       "    <tr>\n",
       "      <th>6</th>\n",
       "      <td>Ecuador</td>\n",
       "      <td>16498502</td>\n",
       "      <td>2018</td>\n",
       "      <td>58</td>\n",
       "      <td>0</td>\n",
       "    </tr>\n",
       "    <tr>\n",
       "      <th>7</th>\n",
       "      <td>Bolivia</td>\n",
       "      <td>11306341</td>\n",
       "      <td>2018</td>\n",
       "      <td>10</td>\n",
       "      <td>0</td>\n",
       "    </tr>\n",
       "    <tr>\n",
       "      <th>8</th>\n",
       "      <td>Paraguay</td>\n",
       "      <td>7025763</td>\n",
       "      <td>2018</td>\n",
       "      <td>17</td>\n",
       "      <td>0</td>\n",
       "    </tr>\n",
       "    <tr>\n",
       "      <th>9</th>\n",
       "      <td>Uruguay</td>\n",
       "      <td>3369299</td>\n",
       "      <td>2018</td>\n",
       "      <td>19</td>\n",
       "      <td>-1</td>\n",
       "    </tr>\n",
       "    <tr>\n",
       "      <th>10</th>\n",
       "      <td>Guyana</td>\n",
       "      <td>740685</td>\n",
       "      <td>2018</td>\n",
       "      <td>3</td>\n",
       "      <td>-3</td>\n",
       "    </tr>\n",
       "    <tr>\n",
       "      <th>11</th>\n",
       "      <td>Suriname</td>\n",
       "      <td>597927</td>\n",
       "      <td>2018</td>\n",
       "      <td>4</td>\n",
       "      <td>1</td>\n",
       "    </tr>\n",
       "  </tbody>\n",
       "</table>\n",
       "</div>"
      ],
      "text/plain": [
       "      Country  Population  Year  \\\n",
       "0      Brazil   208846896  2018   \n",
       "1    Colombia    48168996  2018   \n",
       "2   Argentina    44694200  2018   \n",
       "3   Venezuela    31689176  2018   \n",
       "4        Peru    31331228  2018   \n",
       "5       Chile    17925262  2018   \n",
       "6     Ecuador    16498502  2018   \n",
       "7     Bolivia    11306341  2018   \n",
       "8    Paraguay     7025763  2018   \n",
       "9     Uruguay     3369299  2018   \n",
       "10     Guyana      740685  2018   \n",
       "11   Suriname      597927  2018   \n",
       "\n",
       "    Population density (Number of people per square kilometer)  \\\n",
       "0                                                  25            \n",
       "1                                                  42            \n",
       "2                                                  16            \n",
       "3                                                  35            \n",
       "4                                                  24            \n",
       "5                                                  24            \n",
       "6                                                  58            \n",
       "7                                                  10            \n",
       "8                                                  17            \n",
       "9                                                  19            \n",
       "10                                                  3            \n",
       "11                                                  4            \n",
       "\n",
       "    Net migration rate (migrant(s)/1,000 population)  \n",
       "0                                                  0  \n",
       "1                                                 -1  \n",
       "2                                                  0  \n",
       "3                                                 -1  \n",
       "4                                                 -2  \n",
       "5                                                  0  \n",
       "6                                                  0  \n",
       "7                                                  0  \n",
       "8                                                  0  \n",
       "9                                                 -1  \n",
       "10                                                -3  \n",
       "11                                                 1  "
      ]
     },
     "execution_count": 30,
     "metadata": {},
     "output_type": "execute_result"
    }
   ],
   "source": [
    "dfSA5"
   ]
  },
  {
   "cell_type": "code",
   "execution_count": 31,
   "metadata": {},
   "outputs": [],
   "source": [
    "dfCA2=pd.read_csv('poblacionCA.csv')"
   ]
  },
  {
   "cell_type": "code",
   "execution_count": 32,
   "metadata": {},
   "outputs": [],
   "source": [
    "dfCA3=pd.read_csv('densidadpoblacionCA.csv')"
   ]
  },
  {
   "cell_type": "code",
   "execution_count": 33,
   "metadata": {},
   "outputs": [
    {
     "data": {
      "text/plain": [
       "'dfCA2'"
      ]
     },
     "metadata": {},
     "output_type": "display_data"
    },
    {
     "data": {
      "text/plain": [
       "'dfCA3'"
      ]
     },
     "metadata": {},
     "output_type": "display_data"
    },
    {
     "data": {
      "text/plain": [
       "'pd.merge(dfCA2, dfCA3)'"
      ]
     },
     "metadata": {},
     "output_type": "display_data"
    }
   ],
   "source": [
    "display('dfCA2', 'dfCA3', 'pd.merge(dfCA2, dfCA3)')"
   ]
  },
  {
   "cell_type": "markdown",
   "metadata": {},
   "source": [
    "Voy a unir las tablas de población, densidad de población y migración, al parecer merge solo funciona con dos tablas"
   ]
  },
  {
   "cell_type": "code",
   "execution_count": 34,
   "metadata": {},
   "outputs": [],
   "source": [
    "dfCA4=pd.merge(dfCA2, dfCA3)"
   ]
  },
  {
   "cell_type": "code",
   "execution_count": 35,
   "metadata": {},
   "outputs": [],
   "source": [
    "dfCA5=pd.merge(dfCA4, data3)"
   ]
  },
  {
   "cell_type": "code",
   "execution_count": 36,
   "metadata": {},
   "outputs": [
    {
     "data": {
      "text/html": [
       "<div>\n",
       "<style scoped>\n",
       "    .dataframe tbody tr th:only-of-type {\n",
       "        vertical-align: middle;\n",
       "    }\n",
       "\n",
       "    .dataframe tbody tr th {\n",
       "        vertical-align: top;\n",
       "    }\n",
       "\n",
       "    .dataframe thead th {\n",
       "        text-align: right;\n",
       "    }\n",
       "</style>\n",
       "<table border=\"1\" class=\"dataframe\">\n",
       "  <thead>\n",
       "    <tr style=\"text-align: right;\">\n",
       "      <th></th>\n",
       "      <th>Country</th>\n",
       "      <th>Population</th>\n",
       "      <th>Year</th>\n",
       "      <th>Population density (Number of people per square kilometer)</th>\n",
       "      <th>Net migration rate (migrant(s)/1,000 population)</th>\n",
       "    </tr>\n",
       "  </thead>\n",
       "  <tbody>\n",
       "    <tr>\n",
       "      <th>0</th>\n",
       "      <td>Guatemala</td>\n",
       "      <td>16581273</td>\n",
       "      <td>2018</td>\n",
       "      <td>152</td>\n",
       "      <td>-2</td>\n",
       "    </tr>\n",
       "    <tr>\n",
       "      <th>1</th>\n",
       "      <td>Cuba</td>\n",
       "      <td>11116396</td>\n",
       "      <td>2018</td>\n",
       "      <td>100</td>\n",
       "      <td>-5</td>\n",
       "    </tr>\n",
       "    <tr>\n",
       "      <th>2</th>\n",
       "      <td>Haiti</td>\n",
       "      <td>10788440</td>\n",
       "      <td>2018</td>\n",
       "      <td>389</td>\n",
       "      <td>-2</td>\n",
       "    </tr>\n",
       "    <tr>\n",
       "      <th>3</th>\n",
       "      <td>Dominican Republic</td>\n",
       "      <td>10298756</td>\n",
       "      <td>2018</td>\n",
       "      <td>212</td>\n",
       "      <td>-3</td>\n",
       "    </tr>\n",
       "    <tr>\n",
       "      <th>4</th>\n",
       "      <td>Honduras</td>\n",
       "      <td>9182766</td>\n",
       "      <td>2018</td>\n",
       "      <td>82</td>\n",
       "      <td>-1</td>\n",
       "    </tr>\n",
       "    <tr>\n",
       "      <th>5</th>\n",
       "      <td>El Salvador</td>\n",
       "      <td>6187271</td>\n",
       "      <td>2018</td>\n",
       "      <td>294</td>\n",
       "      <td>-8</td>\n",
       "    </tr>\n",
       "    <tr>\n",
       "      <th>6</th>\n",
       "      <td>Nicaragua</td>\n",
       "      <td>6085213</td>\n",
       "      <td>2018</td>\n",
       "      <td>47</td>\n",
       "      <td>-3</td>\n",
       "    </tr>\n",
       "    <tr>\n",
       "      <th>7</th>\n",
       "      <td>Costa Rica</td>\n",
       "      <td>4987142</td>\n",
       "      <td>2018</td>\n",
       "      <td>98</td>\n",
       "      <td>1</td>\n",
       "    </tr>\n",
       "    <tr>\n",
       "      <th>8</th>\n",
       "      <td>Panama</td>\n",
       "      <td>3800644</td>\n",
       "      <td>2018</td>\n",
       "      <td>50</td>\n",
       "      <td>0</td>\n",
       "    </tr>\n",
       "    <tr>\n",
       "      <th>9</th>\n",
       "      <td>Puerto Rico</td>\n",
       "      <td>3294626</td>\n",
       "      <td>2018</td>\n",
       "      <td>362</td>\n",
       "      <td>-16</td>\n",
       "    </tr>\n",
       "    <tr>\n",
       "      <th>10</th>\n",
       "      <td>Jamaica</td>\n",
       "      <td>2812090</td>\n",
       "      <td>2018</td>\n",
       "      <td>256</td>\n",
       "      <td>-9</td>\n",
       "    </tr>\n",
       "    <tr>\n",
       "      <th>11</th>\n",
       "      <td>Trinidad and Tobago</td>\n",
       "      <td>1215527</td>\n",
       "      <td>2018</td>\n",
       "      <td>237</td>\n",
       "      <td>-6</td>\n",
       "    </tr>\n",
       "    <tr>\n",
       "      <th>12</th>\n",
       "      <td>Belize</td>\n",
       "      <td>385854</td>\n",
       "      <td>2018</td>\n",
       "      <td>17</td>\n",
       "      <td>-1</td>\n",
       "    </tr>\n",
       "    <tr>\n",
       "      <th>13</th>\n",
       "      <td>Bahamas, The</td>\n",
       "      <td>332634</td>\n",
       "      <td>2018</td>\n",
       "      <td>24</td>\n",
       "      <td>0</td>\n",
       "    </tr>\n",
       "    <tr>\n",
       "      <th>14</th>\n",
       "      <td>Barbados</td>\n",
       "      <td>293131</td>\n",
       "      <td>2018</td>\n",
       "      <td>682</td>\n",
       "      <td>0</td>\n",
       "    </tr>\n",
       "    <tr>\n",
       "      <th>15</th>\n",
       "      <td>Saint Lucia</td>\n",
       "      <td>165510</td>\n",
       "      <td>2018</td>\n",
       "      <td>269</td>\n",
       "      <td>-2</td>\n",
       "    </tr>\n",
       "    <tr>\n",
       "      <th>16</th>\n",
       "      <td>Grenada</td>\n",
       "      <td>112207</td>\n",
       "      <td>2018</td>\n",
       "      <td>326</td>\n",
       "      <td>-3</td>\n",
       "    </tr>\n",
       "    <tr>\n",
       "      <th>17</th>\n",
       "      <td>Saint Vincent and the Grenadines</td>\n",
       "      <td>101844</td>\n",
       "      <td>2018</td>\n",
       "      <td>262</td>\n",
       "      <td>-8</td>\n",
       "    </tr>\n",
       "    <tr>\n",
       "      <th>18</th>\n",
       "      <td>Antigua and Barbuda</td>\n",
       "      <td>95882</td>\n",
       "      <td>2018</td>\n",
       "      <td>217</td>\n",
       "      <td>2</td>\n",
       "    </tr>\n",
       "    <tr>\n",
       "      <th>19</th>\n",
       "      <td>Dominica</td>\n",
       "      <td>74027</td>\n",
       "      <td>2018</td>\n",
       "      <td>99</td>\n",
       "      <td>-5</td>\n",
       "    </tr>\n",
       "    <tr>\n",
       "      <th>20</th>\n",
       "      <td>Cayman Islands</td>\n",
       "      <td>59613</td>\n",
       "      <td>2018</td>\n",
       "      <td>226</td>\n",
       "      <td>14</td>\n",
       "    </tr>\n",
       "    <tr>\n",
       "      <th>21</th>\n",
       "      <td>Saint Kitts and Nevis</td>\n",
       "      <td>53094</td>\n",
       "      <td>2018</td>\n",
       "      <td>203</td>\n",
       "      <td>1</td>\n",
       "    </tr>\n",
       "  </tbody>\n",
       "</table>\n",
       "</div>"
      ],
      "text/plain": [
       "                             Country  Population  Year  \\\n",
       "0                          Guatemala    16581273  2018   \n",
       "1                               Cuba    11116396  2018   \n",
       "2                              Haiti    10788440  2018   \n",
       "3                 Dominican Republic    10298756  2018   \n",
       "4                           Honduras     9182766  2018   \n",
       "5                        El Salvador     6187271  2018   \n",
       "6                          Nicaragua     6085213  2018   \n",
       "7                         Costa Rica     4987142  2018   \n",
       "8                             Panama     3800644  2018   \n",
       "9                        Puerto Rico     3294626  2018   \n",
       "10                           Jamaica     2812090  2018   \n",
       "11               Trinidad and Tobago     1215527  2018   \n",
       "12                            Belize      385854  2018   \n",
       "13                      Bahamas, The      332634  2018   \n",
       "14                          Barbados      293131  2018   \n",
       "15                       Saint Lucia      165510  2018   \n",
       "16                           Grenada      112207  2018   \n",
       "17  Saint Vincent and the Grenadines      101844  2018   \n",
       "18               Antigua and Barbuda       95882  2018   \n",
       "19                          Dominica       74027  2018   \n",
       "20                    Cayman Islands       59613  2018   \n",
       "21             Saint Kitts and Nevis       53094  2018   \n",
       "\n",
       "    Population density (Number of people per square kilometer)  \\\n",
       "0                                                 152            \n",
       "1                                                 100            \n",
       "2                                                 389            \n",
       "3                                                 212            \n",
       "4                                                  82            \n",
       "5                                                 294            \n",
       "6                                                  47            \n",
       "7                                                  98            \n",
       "8                                                  50            \n",
       "9                                                 362            \n",
       "10                                                256            \n",
       "11                                                237            \n",
       "12                                                 17            \n",
       "13                                                 24            \n",
       "14                                                682            \n",
       "15                                                269            \n",
       "16                                                326            \n",
       "17                                                262            \n",
       "18                                                217            \n",
       "19                                                 99            \n",
       "20                                                226            \n",
       "21                                                203            \n",
       "\n",
       "    Net migration rate (migrant(s)/1,000 population)  \n",
       "0                                                 -2  \n",
       "1                                                 -5  \n",
       "2                                                 -2  \n",
       "3                                                 -3  \n",
       "4                                                 -1  \n",
       "5                                                 -8  \n",
       "6                                                 -3  \n",
       "7                                                  1  \n",
       "8                                                  0  \n",
       "9                                                -16  \n",
       "10                                                -9  \n",
       "11                                                -6  \n",
       "12                                                -1  \n",
       "13                                                 0  \n",
       "14                                                 0  \n",
       "15                                                -2  \n",
       "16                                                -3  \n",
       "17                                                -8  \n",
       "18                                                 2  \n",
       "19                                                -5  \n",
       "20                                                14  \n",
       "21                                                 1  "
      ]
     },
     "execution_count": 36,
     "metadata": {},
     "output_type": "execute_result"
    }
   ],
   "source": [
    "dfCA5"
   ]
  },
  {
   "cell_type": "code",
   "execution_count": 39,
   "metadata": {},
   "outputs": [],
   "source": [
    "u2=pd.concat([dfNA5, dfSA5, dfCA5], keys=['NA', 'SA', 'CA'])"
   ]
  },
  {
   "cell_type": "code",
   "execution_count": 40,
   "metadata": {},
   "outputs": [
    {
     "data": {
      "text/html": [
       "<div>\n",
       "<style scoped>\n",
       "    .dataframe tbody tr th:only-of-type {\n",
       "        vertical-align: middle;\n",
       "    }\n",
       "\n",
       "    .dataframe tbody tr th {\n",
       "        vertical-align: top;\n",
       "    }\n",
       "\n",
       "    .dataframe thead th {\n",
       "        text-align: right;\n",
       "    }\n",
       "</style>\n",
       "<table border=\"1\" class=\"dataframe\">\n",
       "  <thead>\n",
       "    <tr style=\"text-align: right;\">\n",
       "      <th></th>\n",
       "      <th></th>\n",
       "      <th>Country</th>\n",
       "      <th>Population</th>\n",
       "      <th>Year</th>\n",
       "      <th>Population density (Number of people per square kilometer)</th>\n",
       "      <th>Net migration rate (migrant(s)/1,000 population)</th>\n",
       "    </tr>\n",
       "  </thead>\n",
       "  <tbody>\n",
       "    <tr>\n",
       "      <th rowspan=\"4\" valign=\"top\">NA</th>\n",
       "      <th>0</th>\n",
       "      <td>United States</td>\n",
       "      <td>329256480</td>\n",
       "      <td>2018</td>\n",
       "      <td>33</td>\n",
       "      <td>4</td>\n",
       "    </tr>\n",
       "    <tr>\n",
       "      <th>1</th>\n",
       "      <td>Mexico</td>\n",
       "      <td>125959208</td>\n",
       "      <td>2018</td>\n",
       "      <td>64</td>\n",
       "      <td>-2</td>\n",
       "    </tr>\n",
       "    <tr>\n",
       "      <th>2</th>\n",
       "      <td>Canada</td>\n",
       "      <td>35881660</td>\n",
       "      <td>2018</td>\n",
       "      <td>4</td>\n",
       "      <td>6</td>\n",
       "    </tr>\n",
       "    <tr>\n",
       "      <th>3</th>\n",
       "      <td>Greenland</td>\n",
       "      <td>57691</td>\n",
       "      <td>2018</td>\n",
       "      <td>0</td>\n",
       "      <td>-6</td>\n",
       "    </tr>\n",
       "    <tr>\n",
       "      <th rowspan=\"12\" valign=\"top\">SA</th>\n",
       "      <th>0</th>\n",
       "      <td>Brazil</td>\n",
       "      <td>208846896</td>\n",
       "      <td>2018</td>\n",
       "      <td>25</td>\n",
       "      <td>0</td>\n",
       "    </tr>\n",
       "    <tr>\n",
       "      <th>1</th>\n",
       "      <td>Colombia</td>\n",
       "      <td>48168996</td>\n",
       "      <td>2018</td>\n",
       "      <td>42</td>\n",
       "      <td>-1</td>\n",
       "    </tr>\n",
       "    <tr>\n",
       "      <th>2</th>\n",
       "      <td>Argentina</td>\n",
       "      <td>44694200</td>\n",
       "      <td>2018</td>\n",
       "      <td>16</td>\n",
       "      <td>0</td>\n",
       "    </tr>\n",
       "    <tr>\n",
       "      <th>3</th>\n",
       "      <td>Venezuela</td>\n",
       "      <td>31689176</td>\n",
       "      <td>2018</td>\n",
       "      <td>35</td>\n",
       "      <td>-1</td>\n",
       "    </tr>\n",
       "    <tr>\n",
       "      <th>4</th>\n",
       "      <td>Peru</td>\n",
       "      <td>31331228</td>\n",
       "      <td>2018</td>\n",
       "      <td>24</td>\n",
       "      <td>-2</td>\n",
       "    </tr>\n",
       "    <tr>\n",
       "      <th>5</th>\n",
       "      <td>Chile</td>\n",
       "      <td>17925262</td>\n",
       "      <td>2018</td>\n",
       "      <td>24</td>\n",
       "      <td>0</td>\n",
       "    </tr>\n",
       "    <tr>\n",
       "      <th>6</th>\n",
       "      <td>Ecuador</td>\n",
       "      <td>16498502</td>\n",
       "      <td>2018</td>\n",
       "      <td>58</td>\n",
       "      <td>0</td>\n",
       "    </tr>\n",
       "    <tr>\n",
       "      <th>7</th>\n",
       "      <td>Bolivia</td>\n",
       "      <td>11306341</td>\n",
       "      <td>2018</td>\n",
       "      <td>10</td>\n",
       "      <td>0</td>\n",
       "    </tr>\n",
       "    <tr>\n",
       "      <th>8</th>\n",
       "      <td>Paraguay</td>\n",
       "      <td>7025763</td>\n",
       "      <td>2018</td>\n",
       "      <td>17</td>\n",
       "      <td>0</td>\n",
       "    </tr>\n",
       "    <tr>\n",
       "      <th>9</th>\n",
       "      <td>Uruguay</td>\n",
       "      <td>3369299</td>\n",
       "      <td>2018</td>\n",
       "      <td>19</td>\n",
       "      <td>-1</td>\n",
       "    </tr>\n",
       "    <tr>\n",
       "      <th>10</th>\n",
       "      <td>Guyana</td>\n",
       "      <td>740685</td>\n",
       "      <td>2018</td>\n",
       "      <td>3</td>\n",
       "      <td>-3</td>\n",
       "    </tr>\n",
       "    <tr>\n",
       "      <th>11</th>\n",
       "      <td>Suriname</td>\n",
       "      <td>597927</td>\n",
       "      <td>2018</td>\n",
       "      <td>4</td>\n",
       "      <td>1</td>\n",
       "    </tr>\n",
       "    <tr>\n",
       "      <th rowspan=\"22\" valign=\"top\">CA</th>\n",
       "      <th>0</th>\n",
       "      <td>Guatemala</td>\n",
       "      <td>16581273</td>\n",
       "      <td>2018</td>\n",
       "      <td>152</td>\n",
       "      <td>-2</td>\n",
       "    </tr>\n",
       "    <tr>\n",
       "      <th>1</th>\n",
       "      <td>Cuba</td>\n",
       "      <td>11116396</td>\n",
       "      <td>2018</td>\n",
       "      <td>100</td>\n",
       "      <td>-5</td>\n",
       "    </tr>\n",
       "    <tr>\n",
       "      <th>2</th>\n",
       "      <td>Haiti</td>\n",
       "      <td>10788440</td>\n",
       "      <td>2018</td>\n",
       "      <td>389</td>\n",
       "      <td>-2</td>\n",
       "    </tr>\n",
       "    <tr>\n",
       "      <th>3</th>\n",
       "      <td>Dominican Republic</td>\n",
       "      <td>10298756</td>\n",
       "      <td>2018</td>\n",
       "      <td>212</td>\n",
       "      <td>-3</td>\n",
       "    </tr>\n",
       "    <tr>\n",
       "      <th>4</th>\n",
       "      <td>Honduras</td>\n",
       "      <td>9182766</td>\n",
       "      <td>2018</td>\n",
       "      <td>82</td>\n",
       "      <td>-1</td>\n",
       "    </tr>\n",
       "    <tr>\n",
       "      <th>5</th>\n",
       "      <td>El Salvador</td>\n",
       "      <td>6187271</td>\n",
       "      <td>2018</td>\n",
       "      <td>294</td>\n",
       "      <td>-8</td>\n",
       "    </tr>\n",
       "    <tr>\n",
       "      <th>6</th>\n",
       "      <td>Nicaragua</td>\n",
       "      <td>6085213</td>\n",
       "      <td>2018</td>\n",
       "      <td>47</td>\n",
       "      <td>-3</td>\n",
       "    </tr>\n",
       "    <tr>\n",
       "      <th>7</th>\n",
       "      <td>Costa Rica</td>\n",
       "      <td>4987142</td>\n",
       "      <td>2018</td>\n",
       "      <td>98</td>\n",
       "      <td>1</td>\n",
       "    </tr>\n",
       "    <tr>\n",
       "      <th>8</th>\n",
       "      <td>Panama</td>\n",
       "      <td>3800644</td>\n",
       "      <td>2018</td>\n",
       "      <td>50</td>\n",
       "      <td>0</td>\n",
       "    </tr>\n",
       "    <tr>\n",
       "      <th>9</th>\n",
       "      <td>Puerto Rico</td>\n",
       "      <td>3294626</td>\n",
       "      <td>2018</td>\n",
       "      <td>362</td>\n",
       "      <td>-16</td>\n",
       "    </tr>\n",
       "    <tr>\n",
       "      <th>10</th>\n",
       "      <td>Jamaica</td>\n",
       "      <td>2812090</td>\n",
       "      <td>2018</td>\n",
       "      <td>256</td>\n",
       "      <td>-9</td>\n",
       "    </tr>\n",
       "    <tr>\n",
       "      <th>11</th>\n",
       "      <td>Trinidad and Tobago</td>\n",
       "      <td>1215527</td>\n",
       "      <td>2018</td>\n",
       "      <td>237</td>\n",
       "      <td>-6</td>\n",
       "    </tr>\n",
       "    <tr>\n",
       "      <th>12</th>\n",
       "      <td>Belize</td>\n",
       "      <td>385854</td>\n",
       "      <td>2018</td>\n",
       "      <td>17</td>\n",
       "      <td>-1</td>\n",
       "    </tr>\n",
       "    <tr>\n",
       "      <th>13</th>\n",
       "      <td>Bahamas, The</td>\n",
       "      <td>332634</td>\n",
       "      <td>2018</td>\n",
       "      <td>24</td>\n",
       "      <td>0</td>\n",
       "    </tr>\n",
       "    <tr>\n",
       "      <th>14</th>\n",
       "      <td>Barbados</td>\n",
       "      <td>293131</td>\n",
       "      <td>2018</td>\n",
       "      <td>682</td>\n",
       "      <td>0</td>\n",
       "    </tr>\n",
       "    <tr>\n",
       "      <th>15</th>\n",
       "      <td>Saint Lucia</td>\n",
       "      <td>165510</td>\n",
       "      <td>2018</td>\n",
       "      <td>269</td>\n",
       "      <td>-2</td>\n",
       "    </tr>\n",
       "    <tr>\n",
       "      <th>16</th>\n",
       "      <td>Grenada</td>\n",
       "      <td>112207</td>\n",
       "      <td>2018</td>\n",
       "      <td>326</td>\n",
       "      <td>-3</td>\n",
       "    </tr>\n",
       "    <tr>\n",
       "      <th>17</th>\n",
       "      <td>Saint Vincent and the Grenadines</td>\n",
       "      <td>101844</td>\n",
       "      <td>2018</td>\n",
       "      <td>262</td>\n",
       "      <td>-8</td>\n",
       "    </tr>\n",
       "    <tr>\n",
       "      <th>18</th>\n",
       "      <td>Antigua and Barbuda</td>\n",
       "      <td>95882</td>\n",
       "      <td>2018</td>\n",
       "      <td>217</td>\n",
       "      <td>2</td>\n",
       "    </tr>\n",
       "    <tr>\n",
       "      <th>19</th>\n",
       "      <td>Dominica</td>\n",
       "      <td>74027</td>\n",
       "      <td>2018</td>\n",
       "      <td>99</td>\n",
       "      <td>-5</td>\n",
       "    </tr>\n",
       "    <tr>\n",
       "      <th>20</th>\n",
       "      <td>Cayman Islands</td>\n",
       "      <td>59613</td>\n",
       "      <td>2018</td>\n",
       "      <td>226</td>\n",
       "      <td>14</td>\n",
       "    </tr>\n",
       "    <tr>\n",
       "      <th>21</th>\n",
       "      <td>Saint Kitts and Nevis</td>\n",
       "      <td>53094</td>\n",
       "      <td>2018</td>\n",
       "      <td>203</td>\n",
       "      <td>1</td>\n",
       "    </tr>\n",
       "  </tbody>\n",
       "</table>\n",
       "</div>"
      ],
      "text/plain": [
       "                                Country  Population  Year  \\\n",
       "NA 0                      United States   329256480  2018   \n",
       "   1                             Mexico   125959208  2018   \n",
       "   2                             Canada    35881660  2018   \n",
       "   3                          Greenland       57691  2018   \n",
       "SA 0                             Brazil   208846896  2018   \n",
       "   1                           Colombia    48168996  2018   \n",
       "   2                          Argentina    44694200  2018   \n",
       "   3                          Venezuela    31689176  2018   \n",
       "   4                               Peru    31331228  2018   \n",
       "   5                              Chile    17925262  2018   \n",
       "   6                            Ecuador    16498502  2018   \n",
       "   7                            Bolivia    11306341  2018   \n",
       "   8                           Paraguay     7025763  2018   \n",
       "   9                            Uruguay     3369299  2018   \n",
       "   10                            Guyana      740685  2018   \n",
       "   11                          Suriname      597927  2018   \n",
       "CA 0                          Guatemala    16581273  2018   \n",
       "   1                               Cuba    11116396  2018   \n",
       "   2                              Haiti    10788440  2018   \n",
       "   3                 Dominican Republic    10298756  2018   \n",
       "   4                           Honduras     9182766  2018   \n",
       "   5                        El Salvador     6187271  2018   \n",
       "   6                          Nicaragua     6085213  2018   \n",
       "   7                         Costa Rica     4987142  2018   \n",
       "   8                             Panama     3800644  2018   \n",
       "   9                        Puerto Rico     3294626  2018   \n",
       "   10                           Jamaica     2812090  2018   \n",
       "   11               Trinidad and Tobago     1215527  2018   \n",
       "   12                            Belize      385854  2018   \n",
       "   13                      Bahamas, The      332634  2018   \n",
       "   14                          Barbados      293131  2018   \n",
       "   15                       Saint Lucia      165510  2018   \n",
       "   16                           Grenada      112207  2018   \n",
       "   17  Saint Vincent and the Grenadines      101844  2018   \n",
       "   18               Antigua and Barbuda       95882  2018   \n",
       "   19                          Dominica       74027  2018   \n",
       "   20                    Cayman Islands       59613  2018   \n",
       "   21             Saint Kitts and Nevis       53094  2018   \n",
       "\n",
       "       Population density (Number of people per square kilometer)  \\\n",
       "NA 0                                                  33            \n",
       "   1                                                  64            \n",
       "   2                                                   4            \n",
       "   3                                                   0            \n",
       "SA 0                                                  25            \n",
       "   1                                                  42            \n",
       "   2                                                  16            \n",
       "   3                                                  35            \n",
       "   4                                                  24            \n",
       "   5                                                  24            \n",
       "   6                                                  58            \n",
       "   7                                                  10            \n",
       "   8                                                  17            \n",
       "   9                                                  19            \n",
       "   10                                                  3            \n",
       "   11                                                  4            \n",
       "CA 0                                                 152            \n",
       "   1                                                 100            \n",
       "   2                                                 389            \n",
       "   3                                                 212            \n",
       "   4                                                  82            \n",
       "   5                                                 294            \n",
       "   6                                                  47            \n",
       "   7                                                  98            \n",
       "   8                                                  50            \n",
       "   9                                                 362            \n",
       "   10                                                256            \n",
       "   11                                                237            \n",
       "   12                                                 17            \n",
       "   13                                                 24            \n",
       "   14                                                682            \n",
       "   15                                                269            \n",
       "   16                                                326            \n",
       "   17                                                262            \n",
       "   18                                                217            \n",
       "   19                                                 99            \n",
       "   20                                                226            \n",
       "   21                                                203            \n",
       "\n",
       "       Net migration rate (migrant(s)/1,000 population)  \n",
       "NA 0                                                  4  \n",
       "   1                                                 -2  \n",
       "   2                                                  6  \n",
       "   3                                                 -6  \n",
       "SA 0                                                  0  \n",
       "   1                                                 -1  \n",
       "   2                                                  0  \n",
       "   3                                                 -1  \n",
       "   4                                                 -2  \n",
       "   5                                                  0  \n",
       "   6                                                  0  \n",
       "   7                                                  0  \n",
       "   8                                                  0  \n",
       "   9                                                 -1  \n",
       "   10                                                -3  \n",
       "   11                                                 1  \n",
       "CA 0                                                 -2  \n",
       "   1                                                 -5  \n",
       "   2                                                 -2  \n",
       "   3                                                 -3  \n",
       "   4                                                 -1  \n",
       "   5                                                 -8  \n",
       "   6                                                 -3  \n",
       "   7                                                  1  \n",
       "   8                                                  0  \n",
       "   9                                                -16  \n",
       "   10                                                -9  \n",
       "   11                                                -6  \n",
       "   12                                                -1  \n",
       "   13                                                 0  \n",
       "   14                                                 0  \n",
       "   15                                                -2  \n",
       "   16                                                -3  \n",
       "   17                                                -8  \n",
       "   18                                                 2  \n",
       "   19                                                -5  \n",
       "   20                                                14  \n",
       "   21                                                 1  "
      ]
     },
     "execution_count": 40,
     "metadata": {},
     "output_type": "execute_result"
    }
   ],
   "source": [
    "u2"
   ]
  },
  {
   "cell_type": "markdown",
   "metadata": {},
   "source": [
    "No se como se trabajan los datos de migración neta pero usaré los calculos que estan en pandas"
   ]
  },
  {
   "cell_type": "code",
   "execution_count": 41,
   "metadata": {},
   "outputs": [
    {
     "data": {
      "text/html": [
       "<div>\n",
       "<style scoped>\n",
       "    .dataframe tbody tr th:only-of-type {\n",
       "        vertical-align: middle;\n",
       "    }\n",
       "\n",
       "    .dataframe tbody tr th {\n",
       "        vertical-align: top;\n",
       "    }\n",
       "\n",
       "    .dataframe thead th {\n",
       "        text-align: right;\n",
       "    }\n",
       "</style>\n",
       "<table border=\"1\" class=\"dataframe\">\n",
       "  <thead>\n",
       "    <tr style=\"text-align: right;\">\n",
       "      <th></th>\n",
       "      <th>Country</th>\n",
       "      <th>Population density (Number of people per square kilometer)</th>\n",
       "      <th>Year</th>\n",
       "    </tr>\n",
       "  </thead>\n",
       "  <tbody>\n",
       "    <tr>\n",
       "      <th>0</th>\n",
       "      <td>Barbados</td>\n",
       "      <td>682</td>\n",
       "      <td>2018</td>\n",
       "    </tr>\n",
       "    <tr>\n",
       "      <th>1</th>\n",
       "      <td>Haiti</td>\n",
       "      <td>389</td>\n",
       "      <td>2018</td>\n",
       "    </tr>\n",
       "    <tr>\n",
       "      <th>2</th>\n",
       "      <td>Puerto Rico</td>\n",
       "      <td>362</td>\n",
       "      <td>2018</td>\n",
       "    </tr>\n",
       "    <tr>\n",
       "      <th>3</th>\n",
       "      <td>Grenada</td>\n",
       "      <td>326</td>\n",
       "      <td>2018</td>\n",
       "    </tr>\n",
       "    <tr>\n",
       "      <th>4</th>\n",
       "      <td>El Salvador</td>\n",
       "      <td>294</td>\n",
       "      <td>2018</td>\n",
       "    </tr>\n",
       "    <tr>\n",
       "      <th>5</th>\n",
       "      <td>Saint Lucia</td>\n",
       "      <td>269</td>\n",
       "      <td>2018</td>\n",
       "    </tr>\n",
       "    <tr>\n",
       "      <th>6</th>\n",
       "      <td>Saint Vincent and the Grenadines</td>\n",
       "      <td>262</td>\n",
       "      <td>2018</td>\n",
       "    </tr>\n",
       "    <tr>\n",
       "      <th>7</th>\n",
       "      <td>Jamaica</td>\n",
       "      <td>256</td>\n",
       "      <td>2018</td>\n",
       "    </tr>\n",
       "    <tr>\n",
       "      <th>8</th>\n",
       "      <td>Trinidad and Tobago</td>\n",
       "      <td>237</td>\n",
       "      <td>2018</td>\n",
       "    </tr>\n",
       "    <tr>\n",
       "      <th>9</th>\n",
       "      <td>Cayman Islands</td>\n",
       "      <td>226</td>\n",
       "      <td>2018</td>\n",
       "    </tr>\n",
       "    <tr>\n",
       "      <th>10</th>\n",
       "      <td>Antigua and Barbuda</td>\n",
       "      <td>217</td>\n",
       "      <td>2018</td>\n",
       "    </tr>\n",
       "    <tr>\n",
       "      <th>11</th>\n",
       "      <td>Dominican Republic</td>\n",
       "      <td>212</td>\n",
       "      <td>2018</td>\n",
       "    </tr>\n",
       "    <tr>\n",
       "      <th>12</th>\n",
       "      <td>Saint Kitts and Nevis</td>\n",
       "      <td>203</td>\n",
       "      <td>2018</td>\n",
       "    </tr>\n",
       "    <tr>\n",
       "      <th>13</th>\n",
       "      <td>Guatemala</td>\n",
       "      <td>152</td>\n",
       "      <td>2018</td>\n",
       "    </tr>\n",
       "    <tr>\n",
       "      <th>14</th>\n",
       "      <td>Cuba</td>\n",
       "      <td>100</td>\n",
       "      <td>2018</td>\n",
       "    </tr>\n",
       "    <tr>\n",
       "      <th>15</th>\n",
       "      <td>Dominica</td>\n",
       "      <td>99</td>\n",
       "      <td>2018</td>\n",
       "    </tr>\n",
       "    <tr>\n",
       "      <th>16</th>\n",
       "      <td>Costa Rica</td>\n",
       "      <td>98</td>\n",
       "      <td>2018</td>\n",
       "    </tr>\n",
       "    <tr>\n",
       "      <th>17</th>\n",
       "      <td>Honduras</td>\n",
       "      <td>82</td>\n",
       "      <td>2018</td>\n",
       "    </tr>\n",
       "    <tr>\n",
       "      <th>18</th>\n",
       "      <td>Panama</td>\n",
       "      <td>50</td>\n",
       "      <td>2018</td>\n",
       "    </tr>\n",
       "    <tr>\n",
       "      <th>19</th>\n",
       "      <td>Nicaragua</td>\n",
       "      <td>47</td>\n",
       "      <td>2018</td>\n",
       "    </tr>\n",
       "    <tr>\n",
       "      <th>20</th>\n",
       "      <td>Bahamas, The</td>\n",
       "      <td>24</td>\n",
       "      <td>2018</td>\n",
       "    </tr>\n",
       "    <tr>\n",
       "      <th>21</th>\n",
       "      <td>Belize</td>\n",
       "      <td>17</td>\n",
       "      <td>2018</td>\n",
       "    </tr>\n",
       "  </tbody>\n",
       "</table>\n",
       "</div>"
      ],
      "text/plain": [
       "                             Country  \\\n",
       "0                           Barbados   \n",
       "1                              Haiti   \n",
       "2                        Puerto Rico   \n",
       "3                            Grenada   \n",
       "4                        El Salvador   \n",
       "5                        Saint Lucia   \n",
       "6   Saint Vincent and the Grenadines   \n",
       "7                            Jamaica   \n",
       "8                Trinidad and Tobago   \n",
       "9                     Cayman Islands   \n",
       "10               Antigua and Barbuda   \n",
       "11                Dominican Republic   \n",
       "12             Saint Kitts and Nevis   \n",
       "13                         Guatemala   \n",
       "14                              Cuba   \n",
       "15                          Dominica   \n",
       "16                        Costa Rica   \n",
       "17                          Honduras   \n",
       "18                            Panama   \n",
       "19                         Nicaragua   \n",
       "20                      Bahamas, The   \n",
       "21                            Belize   \n",
       "\n",
       "    Population density (Number of people per square kilometer)  Year  \n",
       "0                                                 682           2018  \n",
       "1                                                 389           2018  \n",
       "2                                                 362           2018  \n",
       "3                                                 326           2018  \n",
       "4                                                 294           2018  \n",
       "5                                                 269           2018  \n",
       "6                                                 262           2018  \n",
       "7                                                 256           2018  \n",
       "8                                                 237           2018  \n",
       "9                                                 226           2018  \n",
       "10                                                217           2018  \n",
       "11                                                212           2018  \n",
       "12                                                203           2018  \n",
       "13                                                152           2018  \n",
       "14                                                100           2018  \n",
       "15                                                 99           2018  \n",
       "16                                                 98           2018  \n",
       "17                                                 82           2018  \n",
       "18                                                 50           2018  \n",
       "19                                                 47           2018  \n",
       "20                                                 24           2018  \n",
       "21                                                 17           2018  "
      ]
     },
     "execution_count": 41,
     "metadata": {},
     "output_type": "execute_result"
    }
   ],
   "source": [
    "dfCA3"
   ]
  },
  {
   "cell_type": "code",
   "execution_count": 44,
   "metadata": {},
   "outputs": [
    {
     "data": {
      "text/plain": [
       "RangeIndex(start=0, stop=22, step=1)"
      ]
     },
     "execution_count": 44,
     "metadata": {},
     "output_type": "execute_result"
    }
   ],
   "source": [
    "dfCA3.index"
   ]
  },
  {
   "cell_type": "code",
   "execution_count": 45,
   "metadata": {},
   "outputs": [
    {
     "data": {
      "text/html": [
       "<div>\n",
       "<style scoped>\n",
       "    .dataframe tbody tr th:only-of-type {\n",
       "        vertical-align: middle;\n",
       "    }\n",
       "\n",
       "    .dataframe tbody tr th {\n",
       "        vertical-align: top;\n",
       "    }\n",
       "\n",
       "    .dataframe thead th {\n",
       "        text-align: right;\n",
       "    }\n",
       "</style>\n",
       "<table border=\"1\" class=\"dataframe\">\n",
       "  <thead>\n",
       "    <tr style=\"text-align: right;\">\n",
       "      <th></th>\n",
       "      <th>Population density (Number of people per square kilometer)</th>\n",
       "      <th>Year</th>\n",
       "    </tr>\n",
       "  </thead>\n",
       "  <tbody>\n",
       "    <tr>\n",
       "      <th>count</th>\n",
       "      <td>22.000000</td>\n",
       "      <td>22.0</td>\n",
       "    </tr>\n",
       "    <tr>\n",
       "      <th>mean</th>\n",
       "      <td>209.272727</td>\n",
       "      <td>2018.0</td>\n",
       "    </tr>\n",
       "    <tr>\n",
       "      <th>std</th>\n",
       "      <td>152.525464</td>\n",
       "      <td>0.0</td>\n",
       "    </tr>\n",
       "    <tr>\n",
       "      <th>min</th>\n",
       "      <td>17.000000</td>\n",
       "      <td>2018.0</td>\n",
       "    </tr>\n",
       "    <tr>\n",
       "      <th>25%</th>\n",
       "      <td>98.250000</td>\n",
       "      <td>2018.0</td>\n",
       "    </tr>\n",
       "    <tr>\n",
       "      <th>50%</th>\n",
       "      <td>214.500000</td>\n",
       "      <td>2018.0</td>\n",
       "    </tr>\n",
       "    <tr>\n",
       "      <th>75%</th>\n",
       "      <td>267.250000</td>\n",
       "      <td>2018.0</td>\n",
       "    </tr>\n",
       "    <tr>\n",
       "      <th>max</th>\n",
       "      <td>682.000000</td>\n",
       "      <td>2018.0</td>\n",
       "    </tr>\n",
       "  </tbody>\n",
       "</table>\n",
       "</div>"
      ],
      "text/plain": [
       "       Population density (Number of people per square kilometer)    Year\n",
       "count                                          22.000000             22.0\n",
       "mean                                          209.272727           2018.0\n",
       "std                                           152.525464              0.0\n",
       "min                                            17.000000           2018.0\n",
       "25%                                            98.250000           2018.0\n",
       "50%                                           214.500000           2018.0\n",
       "75%                                           267.250000           2018.0\n",
       "max                                           682.000000           2018.0"
      ]
     },
     "execution_count": 45,
     "metadata": {},
     "output_type": "execute_result"
    }
   ],
   "source": [
    "dfCA3.dropna().describe()"
   ]
  },
  {
   "cell_type": "code",
   "execution_count": 47,
   "metadata": {},
   "outputs": [
    {
     "data": {
      "text/plain": [
       "17"
      ]
     },
     "execution_count": 47,
     "metadata": {},
     "output_type": "execute_result"
    }
   ],
   "source": [
    "dfCA3['Population density (Number of people per square kilometer)'].min()"
   ]
  },
  {
   "cell_type": "code",
   "execution_count": 82,
   "metadata": {},
   "outputs": [
    {
     "data": {
      "text/plain": [
       "682"
      ]
     },
     "execution_count": 82,
     "metadata": {},
     "output_type": "execute_result"
    }
   ],
   "source": [
    "dfCA3['Population density (Number of people per square kilometer)'].max()"
   ]
  },
  {
   "cell_type": "code",
   "execution_count": 48,
   "metadata": {},
   "outputs": [
    {
     "data": {
      "text/plain": [
       "23264.017316017314"
      ]
     },
     "execution_count": 48,
     "metadata": {},
     "output_type": "execute_result"
    }
   ],
   "source": [
    "dfCA3['Population density (Number of people per square kilometer)'].var()"
   ]
  },
  {
   "cell_type": "code",
   "execution_count": 49,
   "metadata": {},
   "outputs": [
    {
     "data": {
      "text/plain": [
       "152.52546448386025"
      ]
     },
     "execution_count": 49,
     "metadata": {},
     "output_type": "execute_result"
    }
   ],
   "source": [
    "dfCA3['Population density (Number of people per square kilometer)'].std()"
   ]
  },
  {
   "cell_type": "code",
   "execution_count": 57,
   "metadata": {},
   "outputs": [
    {
     "data": {
      "text/plain": [
       "110.97520661157027"
      ]
     },
     "execution_count": 57,
     "metadata": {},
     "output_type": "execute_result"
    }
   ],
   "source": [
    "dfCA3['Population density (Number of people per square kilometer)'].mad()"
   ]
  },
  {
   "cell_type": "code",
   "execution_count": 58,
   "metadata": {},
   "outputs": [
    {
     "data": {
      "text/plain": [
       "-5395280827858812928"
      ]
     },
     "execution_count": 58,
     "metadata": {},
     "output_type": "execute_result"
    }
   ],
   "source": [
    "dfCA3['Population density (Number of people per square kilometer)'].prod()"
   ]
  },
  {
   "cell_type": "code",
   "execution_count": 59,
   "metadata": {},
   "outputs": [
    {
     "data": {
      "text/plain": [
       "4604"
      ]
     },
     "execution_count": 59,
     "metadata": {},
     "output_type": "execute_result"
    }
   ],
   "source": [
    "dfCA3['Population density (Number of people per square kilometer)'].sum()"
   ]
  },
  {
   "cell_type": "code",
   "execution_count": 60,
   "metadata": {},
   "outputs": [
    {
     "data": {
      "text/plain": [
       "Country\n",
       "Antigua and Barbuda                 217\n",
       "Bahamas, The                         24\n",
       "Barbados                            682\n",
       "Belize                               17\n",
       "Cayman Islands                      226\n",
       "Costa Rica                           98\n",
       "Cuba                                100\n",
       "Dominica                             99\n",
       "Dominican Republic                  212\n",
       "El Salvador                         294\n",
       "Grenada                             326\n",
       "Guatemala                           152\n",
       "Haiti                               389\n",
       "Honduras                             82\n",
       "Jamaica                             256\n",
       "Nicaragua                            47\n",
       "Panama                               50\n",
       "Puerto Rico                         362\n",
       "Saint Kitts and Nevis               203\n",
       "Saint Lucia                         269\n",
       "Saint Vincent and the Grenadines    262\n",
       "Trinidad and Tobago                 237\n",
       "Name: Population density (Number of people per square kilometer), dtype: int64"
      ]
     },
     "execution_count": 60,
     "metadata": {},
     "output_type": "execute_result"
    }
   ],
   "source": [
    "dfCA3.groupby('Country')['Population density (Number of people per square kilometer)'].mean()"
   ]
  },
  {
   "cell_type": "code",
   "execution_count": 61,
   "metadata": {},
   "outputs": [
    {
     "data": {
      "text/html": [
       "<div>\n",
       "<style scoped>\n",
       "    .dataframe tbody tr th:only-of-type {\n",
       "        vertical-align: middle;\n",
       "    }\n",
       "\n",
       "    .dataframe tbody tr th {\n",
       "        vertical-align: top;\n",
       "    }\n",
       "\n",
       "    .dataframe thead th {\n",
       "        text-align: right;\n",
       "    }\n",
       "</style>\n",
       "<table border=\"1\" class=\"dataframe\">\n",
       "  <thead>\n",
       "    <tr style=\"text-align: right;\">\n",
       "      <th>Year</th>\n",
       "      <th>2018</th>\n",
       "    </tr>\n",
       "    <tr>\n",
       "      <th>area</th>\n",
       "      <th></th>\n",
       "    </tr>\n",
       "  </thead>\n",
       "  <tbody>\n",
       "    <tr>\n",
       "      <th>100</th>\n",
       "      <td>4604</td>\n",
       "    </tr>\n",
       "  </tbody>\n",
       "</table>\n",
       "</div>"
      ],
      "text/plain": [
       "Year  2018\n",
       "area      \n",
       "100   4604"
      ]
     },
     "execution_count": 61,
     "metadata": {},
     "output_type": "execute_result"
    }
   ],
   "source": [
    "dfCA3['area'] = (10 **2)\n",
    "dfCA3.pivot_table('Population density (Number of people per square kilometer)', index='area', columns='Year', aggfunc='sum')"
   ]
  },
  {
   "cell_type": "code",
   "execution_count": 62,
   "metadata": {},
   "outputs": [],
   "source": [
    "import matplotlib as plt"
   ]
  },
  {
   "cell_type": "code",
   "execution_count": null,
   "metadata": {},
   "outputs": [
    {
     "data": {
      "text/plain": [
       "<AxesSubplot:>"
      ]
     },
     "execution_count": 63,
     "metadata": {},
     "output_type": "execute_result"
    }
   ],
   "source": [
    "dfCA3['Population density (Number of people per square kilometer)'].plot(kind='bar')"
   ]
  },
  {
   "cell_type": "code",
   "execution_count": 138,
   "metadata": {},
   "outputs": [
    {
     "data": {
      "text/plain": [
       "<AxesSubplot:>"
      ]
     },
     "execution_count": 138,
     "metadata": {},
     "output_type": "execute_result"
    },
    {
     "data": {
      "image/png": "[encoded data removed]",
      "text/plain": [
       "<Figure size 432x288 with 1 Axes>"
      ]
     },
     "metadata": {
      "needs_background": "light"
     },
     "output_type": "display_data"
    }
   ],
   "source": [
    "dfSA3['Population density (Number of people per square kilometer)'].plot(kind='bar')"
   ]
  },
  {
   "cell_type": "code",
   "execution_count": 139,
   "metadata": {},
   "outputs": [
    {
     "data": {
      "text/plain": [
       "<AxesSubplot:>"
      ]
     },
     "execution_count": 139,
     "metadata": {},
     "output_type": "execute_result"
    },
    {
     "data": {
      "image/png": "[encoded data removed]",
      "text/plain": [
       "<Figure size 432x288 with 1 Axes>"
      ]
     },
     "metadata": {
      "needs_background": "light"
     },
     "output_type": "display_data"
    }
   ],
   "source": [
    "dfNA3['Population density (Number of people per square kilometer)'].plot(kind='bar')"
   ]
  }
 ],
 "metadata": {
  "kernelspec": {
   "display_name": "Python 3",
   "language": "python",
   "name": "python3"
  },
  "language_info": {
   "codemirror_mode": {
    "name": "ipython",
    "version": 3
   },
   "file_extension": ".py",
   "mimetype": "text/x-python",
   "name": "python",
   "nbconvert_exporter": "python",
   "pygments_lexer": "ipython3",
   "version": "3.8.5"
  }
 },
 "nbformat": 4,
 "nbformat_minor": 4
}
