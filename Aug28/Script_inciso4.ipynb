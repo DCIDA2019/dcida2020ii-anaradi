{
 "cells": [
  {
   "cell_type": "code",
   "execution_count": 32,
   "metadata": {},
   "outputs": [],
   "source": [
    "#Script para pedir valores"
   ]
  },
  {
   "cell_type": "code",
   "execution_count": 12,
   "metadata": {},
   "outputs": [],
   "source": [
    "import numpy as np\n",
    "import matplotlib as mpl\n",
    "import matplotlib.pyplot as plt\n",
    "import math"
   ]
  },
  {
   "cell_type": "code",
   "execution_count": 13,
   "metadata": {},
   "outputs": [],
   "source": [
    "#Definiciones"
   ]
  },
  {
   "cell_type": "markdown",
   "metadata": {},
   "source": [
    "funciones a usar del pendulo simple"
   ]
  },
  {
   "cell_type": "code",
   "execution_count": 14,
   "metadata": {},
   "outputs": [
    {
     "name": "stdin",
     "output_type": "stream",
     "text": [
      "Introduce un angulo pequeño (entre 0-10 grados):  7\n"
     ]
    }
   ],
   "source": [
    "angulo = float(input(\"Introduce un angulo pequeño (entre 0-10 grados): \"))"
   ]
  },
  {
   "cell_type": "code",
   "execution_count": 15,
   "metadata": {},
   "outputs": [],
   "source": [
    "import time \n",
    "\n",
    "start_time2 = time.time()\n",
    "NN=100\n",
    "aN=0.0\n",
    "bN=10.0\n",
    "tN=aN\n",
    "kN=np.zeros((4,4), float)\n",
    "hN=0.1\n",
    "wN=np.array([math.sin(angulo), 0.0], dtype='float64')\n",
    "gN=np.zeros((NN+1), float)\n",
    "rN=np.zeros((NN+1), float)\n",
    "eN=np.zeros((NN+1), float)\n",
    "\n",
    "#print(\"--- %s seconds ---\" % (time.time() - start_time2)) "
   ]
  },
  {
   "cell_type": "code",
   "execution_count": 16,
   "metadata": {},
   "outputs": [],
   "source": [
    " \n",
    "def f1(a, b, c):\n",
    "        return c\n",
    "def f2(a, b, c):\n",
    "        g=9.8\n",
    "        l=2.0\n",
    "        return -g*(l**(-1))*math.sin(b)\n",
    "ff1 = np.frompyfunc(f1, 3, 1)\n",
    "ff2 = np.frompyfunc(f2, 3, 1)\n",
    "p=np.arange(tN, NN+0.1, .1)\n",
    "for i in range(0, NN+1, 1):\n",
    "        #for j in range(0, m, 1):\n",
    "        kN[0,0]=hN*ff1(p[i], wN[0], wN[1])\n",
    "        kN[0,1]=hN*ff2(p[i], wN[0], wN[1])\n",
    "        \n",
    "        kN[1,0]=hN*ff1(p[i]+(hN*0.5), wN[0]+(0.5*kN[0,0]), wN[1]+(0.5*kN[0,1]))\n",
    "        kN[1,1]=hN*ff2(p[i]+(hN*0.5), wN[0]+(0.5*kN[0,0]), wN[1]+(0.5*kN[0,1]))\n",
    "\n",
    "        kN[2,0]=hN*ff1(p[i]+(hN*0.5), wN[0]+(0.5*kN[1,0]), wN[1]+(0.5*kN[1,1]))\n",
    "        kN[2,1]=hN*ff2(p[i]+(hN*0.5), wN[0]+(0.5*kN[1,0]), wN[1]+(0.5*kN[1,1]))\n",
    "\n",
    "        kN[3,0]=hN*ff1(p[i]+hN, wN[0]+kN[2,0], wN[1]+kN[2,1])\n",
    "        kN[3,1]=hN*ff2(p[i]+hN, wN[0]+kN[2,0], wN[1]+kN[2,1])\n",
    "                \n",
    "        wN[0]=wN[0]+(kN[0,0]+2*kN[1,0]+2*kN[2,0]+kN[3,0])*0.16666666666666666\n",
    "        wN[1]=wN[1]+(kN[0,1]+2*kN[1,1]+2*kN[2,1]+kN[3,1])*0.16666666666666666\n",
    "        gN[i]=wN[0]\n",
    "        rN[i]=wN[1]\n",
    "end_time2 = time.time()\n"
   ]
  },
  {
   "cell_type": "code",
   "execution_count": 29,
   "metadata": {},
   "outputs": [
    {
     "name": "stdin",
     "output_type": "stream",
     "text": [
      "Introduce segundos entre 0-10:  3\n"
     ]
    }
   ],
   "source": [
    "tiempo = float(input(\"Introduce segundos entre 0-10: \"))"
   ]
  },
  {
   "cell_type": "code",
   "execution_count": 30,
   "metadata": {},
   "outputs": [],
   "source": [
    "ind=tiempo*10"
   ]
  },
  {
   "cell_type": "code",
   "execution_count": 31,
   "metadata": {},
   "outputs": [
    {
     "name": "stdout",
     "output_type": "stream",
     "text": [
      "para el tiempo 3.0 tiene un angulo 0.6074213239008406 (sin fricción)\n"
     ]
    }
   ],
   "source": [
    "print(f\"para el tiempo {tiempo} tiene un angulo {gN[int(ind)]} (sin fricción)\")"
   ]
  },
  {
   "cell_type": "code",
   "execution_count": null,
   "metadata": {},
   "outputs": [],
   "source": []
  }
 ],
 "metadata": {
  "kernelspec": {
   "display_name": "Python 3",
   "language": "python",
   "name": "python3"
  },
  "language_info": {
   "codemirror_mode": {
    "name": "ipython",
    "version": 3
   },
   "file_extension": ".py",
   "mimetype": "text/x-python",
   "name": "python",
   "nbconvert_exporter": "python",
   "pygments_lexer": "ipython3",
   "version": "3.8.5"
  }
 },
 "nbformat": 4,
 "nbformat_minor": 4
}
