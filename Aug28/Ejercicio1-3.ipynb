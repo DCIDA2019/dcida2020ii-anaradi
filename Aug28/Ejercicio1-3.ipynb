{
 "cells": [
  {
   "cell_type": "markdown",
   "metadata": {},
   "source": [
    "Ejercicio 1"
   ]
  },
  {
   "cell_type": "markdown",
   "metadata": {},
   "source": [
    "1.- Escribe un código simple en python, para resolver la ecuación de movimiento de un péndulo simple utilizando la sintaxis básica, i.e cómo si fuera C/fortran  "
   ]
  },
  {
   "cell_type": "code",
   "execution_count": 55,
   "metadata": {},
   "outputs": [],
   "source": [
    "import numpy as np\n",
    "import matplotlib as mpl\n",
    "import matplotlib.pyplot as plt\n",
    "import math"
   ]
  },
  {
   "cell_type": "code",
   "execution_count": 58,
   "metadata": {},
   "outputs": [],
   "source": [
    "import time \n",
    "start_time1 = time.time() \n",
    "angulo=0.03491\n",
    "N=100\n",
    "a=0.0\n",
    "b=10.0\n",
    "t=a\n",
    "m=2\n",
    "h=(b-a)*(N**(-1))\n",
    "w=[angulo, 0.0]\n",
    "k =np.zeros((4,4))\n",
    "g = [None] * int(N+1)\n",
    "for i in range(int(N+1)):\n",
    "        g[i] = 0.0\n",
    "r = [None] * int(N+1)\n",
    "for i in range(int(N+1)):\n",
    "        r[i] = 0.0\n",
    "e = [None] * int(N+1)\n",
    "for i in range(int(N+1)):\n",
    "        e[i] = 0.0"
   ]
  },
  {
   "cell_type": "markdown",
   "metadata": {},
   "source": [
    "funciones a usar del pendulo simple"
   ]
  },
  {
   "cell_type": "code",
   "execution_count": 59,
   "metadata": {},
   "outputs": [],
   "source": [
    "def f1(tiempo, u1, u2):\n",
    "        return u2"
   ]
  },
  {
   "cell_type": "code",
   "execution_count": 60,
   "metadata": {},
   "outputs": [],
   "source": [
    "def f2(tiempo, u1, u2):\n",
    "        g=9.8\n",
    "        l=2.0\n",
    "        return -g*(l**(-1))*math.sin(u1)"
   ]
  },
  {
   "cell_type": "markdown",
   "metadata": {},
   "source": [
    "Método de Runge-Kutta a cuarto orden de Numerical Analisis, Burden"
   ]
  },
  {
   "cell_type": "markdown",
   "metadata": {},
   "source": [
    "Aún no me familiarizo con la notación de python, por eso las funciones estan escrito raro, me parece ya se como corregirlo pero por ahora lo dejare así"
   ]
  },
  {
   "cell_type": "code",
   "execution_count": 61,
   "metadata": {},
   "outputs": [],
   "source": [
    "for i in range(0, N+1, 1):\n",
    "    #for j in range(0, m, 1):\n",
    "                k[0,0]=h*f1(t, w[0], w[1])\n",
    "                k[0,1]=h*f2(t, w[0], w[1])\n",
    "        #for j in range(0, m, 1):\n",
    "                k[1,0]=h*f1(t+(h*0.5), w[0]+(0.5*k[0,0]), w[1]+(0.5*k[0,1]))\n",
    "                k[1,1]=h*f2(t+(h*0.5), w[0]+(0.5*k[0,0]), w[1]+(0.5*k[0,1]))\n",
    "        #for j in range(0, m, 1):\n",
    "                k[2,0]=h*f1(t+(h*0.5), w[0]+(0.5*k[1,0]), w[1]+(0.5*k[1,1]))\n",
    "                k[2,1]=h*f2(t+(h*0.5), w[0]+(0.5*k[1,0]), w[1]+(0.5*k[1,1]))\n",
    "        #for j in range(0, m, 1):\n",
    "                k[3,0]=h*f1(t+h, w[0]+k[2,0], w[1]+k[2,1])\n",
    "                k[3,1]=h*f2(t+h, w[0]+k[2,0], w[1]+k[2,1])\n",
    "                \n",
    "                w[0]=w[0]+(k[0,0]+2*k[1,0]+2*k[2,0]+k[3,0])*0.16666666666666666\n",
    "                w[1]=w[1]+(k[0,1]+2*k[1,1]+2*k[2,1]+k[3,1])*0.16666666666666666\n",
    "                g[i]=w[0]\n",
    "                r[i]=w[1]\n",
    "                e[i]=t\n",
    "                \n",
    "        #asignar t\n",
    "                t=a+(i+1)*h\n",
    "            \n",
    "end_time1 = time.time()"
   ]
  },
  {
   "cell_type": "markdown",
   "metadata": {},
   "source": [
    "Solución analítica para ángulos pequeños con ángulo inicial $\\theta_{0}$,\n",
    "$\\theta =\\theta_{0} \\cos(\\omega t)$,\n",
    "con $\\omega=\\sqrt \\frac{g}{l}$"
   ]
  },
  {
   "cell_type": "code",
   "execution_count": 62,
   "metadata": {},
   "outputs": [],
   "source": [
    "def f2_(tiempo):\n",
    "        g=9.8\n",
    "        l=2.0\n",
    "        return angulo*math.cos(tiempo*(math.sqrt(g*(l**(-1)))))"
   ]
  },
  {
   "cell_type": "markdown",
   "metadata": {},
   "source": [
    "Lista de valores para la función analítica con el arreglo s y s_ como el tiempo"
   ]
  },
  {
   "cell_type": "code",
   "execution_count": 63,
   "metadata": {},
   "outputs": [],
   "source": [
    "s=np.zeros((N+1), float)\n",
    "s_=np.zeros((N+1), float)\n",
    "for i in range(0, N+1, 1):\n",
    "    s[i]=f2_(i*0.1)\n",
    "    s_[i]=i*0.1\n"
   ]
  },
  {
   "cell_type": "markdown",
   "metadata": {},
   "source": [
    "2.- Reescribe dicho código aprovechando el manejo de arreglos de numpy."
   ]
  },
  {
   "cell_type": "code",
   "execution_count": 64,
   "metadata": {},
   "outputs": [],
   "source": [
    "import time \n",
    "\n",
    "start_time2 = time.time()\n",
    "NN=100\n",
    "aN=0.0\n",
    "bN=10.0\n",
    "tN=aN\n",
    "kN=np.zeros((4,4), float)\n",
    "hN=0.1\n",
    "wN=np.array([angulo, 0.0], dtype='float64')\n",
    "gN=np.zeros((NN+1), float)\n",
    "rN=np.zeros((NN+1), float)\n",
    "eN=np.zeros((NN+1), float)\n",
    "\n",
    "#print(\"--- %s seconds ---\" % (time.time() - start_time2)) "
   ]
  },
  {
   "cell_type": "code",
   "execution_count": 65,
   "metadata": {},
   "outputs": [],
   "source": [
    " \n",
    "def f1(a, b, c):\n",
    "        return c\n",
    "def f2(a, b, c):\n",
    "        g=9.8\n",
    "        l=2.0\n",
    "        return -g*(l**(-1))*math.sin(b)\n",
    "ff1 = np.frompyfunc(f1, 3, 1)\n",
    "ff2 = np.frompyfunc(f2, 3, 1)\n",
    "p=np.arange(tN, NN+0.1, .1)\n",
    "for i in range(0, NN+1, 1):\n",
    "        #for j in range(0, m, 1):\n",
    "        kN[0,0]=hN*ff1(p[i], wN[0], wN[1])\n",
    "        kN[0,1]=hN*ff2(p[i], wN[0], wN[1])\n",
    "        \n",
    "        kN[1,0]=hN*ff1(p[i]+(hN*0.5), wN[0]+(0.5*kN[0,0]), wN[1]+(0.5*kN[0,1]))\n",
    "        kN[1,1]=hN*ff2(p[i]+(hN*0.5), wN[0]+(0.5*kN[0,0]), wN[1]+(0.5*kN[0,1]))\n",
    "\n",
    "        kN[2,0]=hN*ff1(p[i]+(hN*0.5), wN[0]+(0.5*kN[1,0]), wN[1]+(0.5*kN[1,1]))\n",
    "        kN[2,1]=hN*ff2(p[i]+(hN*0.5), wN[0]+(0.5*kN[1,0]), wN[1]+(0.5*kN[1,1]))\n",
    "\n",
    "        kN[3,0]=hN*ff1(p[i]+hN, wN[0]+kN[2,0], wN[1]+kN[2,1])\n",
    "        kN[3,1]=hN*ff2(p[i]+hN, wN[0]+kN[2,0], wN[1]+kN[2,1])\n",
    "                \n",
    "        wN[0]=wN[0]+(kN[0,0]+2*kN[1,0]+2*kN[2,0]+kN[3,0])*0.16666666666666666\n",
    "        wN[1]=wN[1]+(kN[0,1]+2*kN[1,1]+2*kN[2,1]+kN[3,1])*0.16666666666666666\n",
    "        gN[i]=wN[0]\n",
    "        rN[i]=wN[1]\n",
    "end_time2 = time.time()\n"
   ]
  },
  {
   "cell_type": "markdown",
   "metadata": {},
   "source": [
    "3.- En ambos casos muestra tus resultados usando tablas y gráficos. Compara los resultados, en terminos de los tiempos de ejecución. \n",
    "  Puedes elegir libremente los parámetros para el péndulo."
   ]
  },
  {
   "cell_type": "code",
   "execution_count": 66,
   "metadata": {},
   "outputs": [
    {
     "data": {
      "text/plain": [
       "[<matplotlib.lines.Line2D at 0x1fde70ac250>]"
      ]
     },
     "execution_count": 66,
     "metadata": {},
     "output_type": "execute_result"
    },
    {
     "data": {
      "image/png": "[encoded data removed]",
      "text/plain": [
       "<Figure size 432x288 with 1 Axes>"
      ]
     },
     "metadata": {
      "needs_background": "light"
     },
     "output_type": "display_data"
    }
   ],
   "source": [
    "fig = plt.figure()\n",
    "ax = plt.axes()\n",
    "#funcion analitica\n",
    "ax.plot(s_[:], s[:])"
   ]
  },
  {
   "cell_type": "code",
   "execution_count": 67,
   "metadata": {},
   "outputs": [
    {
     "data": {
      "text/plain": [
       "[<matplotlib.lines.Line2D at 0x1fde80cd970>]"
      ]
     },
     "execution_count": 67,
     "metadata": {},
     "output_type": "execute_result"
    },
    {
     "data": {
      "image/png": "[encoded data removed]",
      "text/plain": [
       "<Figure size 432x288 with 1 Axes>"
      ]
     },
     "metadata": {
      "needs_background": "light"
     },
     "output_type": "display_data"
    }
   ],
   "source": [
    "fig = plt.figure()\n",
    "ax = plt.axes()\n",
    "#simulacion sin numpy\n",
    "ax.plot(e[:], g[:])"
   ]
  },
  {
   "cell_type": "code",
   "execution_count": 68,
   "metadata": {},
   "outputs": [
    {
     "data": {
      "image/png": "[encoded data removed]",
      "text/plain": [
       "<Figure size 432x288 with 1 Axes>"
      ]
     },
     "metadata": {
      "needs_background": "light"
     },
     "output_type": "display_data"
    }
   ],
   "source": [
    "fig = plt.figure()\n",
    "ax = plt.axes()\n",
    "#simulacion con numpy\n",
    "ax.plot(e[:], gN[:]);"
   ]
  },
  {
   "cell_type": "markdown",
   "metadata": {},
   "source": [
    "Comparación de la función analitica, la aproximación con numpy y sin numpy"
   ]
  },
  {
   "cell_type": "code",
   "execution_count": 70,
   "metadata": {},
   "outputs": [
    {
     "data": {
      "image/png": "[encoded data removed]",
      "text/plain": [
       "<Figure size 432x288 with 1 Axes>"
      ]
     },
     "metadata": {
      "needs_background": "light"
     },
     "output_type": "display_data"
    }
   ],
   "source": [
    "fig = plt.figure()\n",
    "ax = plt.axes()\n",
    "#funcion analitica\n",
    "ax.plot(s_[:], s[:])\n",
    "#simulacion sin numpy\n",
    "ax.plot(e[:], g[:])\n",
    "#simulacion con numpy\n",
    "ax.plot(e[:], gN[:]);"
   ]
  },
  {
   "cell_type": "markdown",
   "metadata": {},
   "source": [
    "El tiempo que toma a cada código:"
   ]
  },
  {
   "cell_type": "code",
   "execution_count": 15,
   "metadata": {},
   "outputs": [
    {
     "name": "stdout",
     "output_type": "stream",
     "text": [
      " 0.48322415351867676 segundos con numpy --- 2.5074267387390137 segundos sin numpy\n"
     ]
    }
   ],
   "source": [
    "print(\" %s segundos con numpy ---\" % (end_time2 - start_time2), \"%s segundos sin numpy\" % (end_time1 - start_time1))"
   ]
  },
  {
   "cell_type": "code",
   "execution_count": 16,
   "metadata": {},
   "outputs": [],
   "source": [
    "import pandas as pd\n",
    "from IPython.display import display\n",
    "#pd.options.display.max_rows = 10\n",
    "# Conversión a DataFrame\n",
    "\n",
    "# Resultado\n"
   ]
  },
  {
   "cell_type": "code",
   "execution_count": 19,
   "metadata": {},
   "outputs": [],
   "source": [
    "df = pd.DataFrame({ \"tiempo\": e, \"con ciclos\": g, \"con numpy\": gN})"
   ]
  },
  {
   "cell_type": "markdown",
   "metadata": {},
   "source": [
    "Comando para aumentar los renglones a mostrar en la tabla el cual no puedo hacer funcionar"
   ]
  },
  {
   "cell_type": "code",
   "execution_count": 23,
   "metadata": {},
   "outputs": [],
   "source": [
    "pd.set_option('max_rows', 200)"
   ]
  },
  {
   "cell_type": "code",
   "execution_count": 24,
   "metadata": {},
   "outputs": [
    {
     "data": {
      "text/plain": [
       "200"
      ]
     },
     "execution_count": 24,
     "metadata": {},
     "output_type": "execute_result"
    }
   ],
   "source": [
    "pd.get_option(\"display.max_rows\")"
   ]
  },
  {
   "cell_type": "code",
   "execution_count": 25,
   "metadata": {},
   "outputs": [
    {
     "data": {
      "text/html": [
       "<div>\n",
       "<style scoped>\n",
       "    .dataframe tbody tr th:only-of-type {\n",
       "        vertical-align: middle;\n",
       "    }\n",
       "\n",
       "    .dataframe tbody tr th {\n",
       "        vertical-align: top;\n",
       "    }\n",
       "\n",
       "    .dataframe thead th {\n",
       "        text-align: right;\n",
       "    }\n",
       "</style>\n",
       "<table border=\"1\" class=\"dataframe\">\n",
       "  <thead>\n",
       "    <tr style=\"text-align: right;\">\n",
       "      <th></th>\n",
       "      <th>tiempo</th>\n",
       "      <th>con ciclos</th>\n",
       "      <th>con numpy</th>\n",
       "    </tr>\n",
       "  </thead>\n",
       "  <tbody>\n",
       "    <tr>\n",
       "      <th>0</th>\n",
       "      <td>0.0</td>\n",
       "      <td>0.034058</td>\n",
       "      <td>0.034058</td>\n",
       "    </tr>\n",
       "    <tr>\n",
       "      <th>1</th>\n",
       "      <td>0.1</td>\n",
       "      <td>0.031545</td>\n",
       "      <td>0.031545</td>\n",
       "    </tr>\n",
       "    <tr>\n",
       "      <th>2</th>\n",
       "      <td>0.2</td>\n",
       "      <td>0.027493</td>\n",
       "      <td>0.027493</td>\n",
       "    </tr>\n",
       "    <tr>\n",
       "      <th>3</th>\n",
       "      <td>0.3</td>\n",
       "      <td>0.022099</td>\n",
       "      <td>0.022099</td>\n",
       "    </tr>\n",
       "    <tr>\n",
       "      <th>4</th>\n",
       "      <td>0.4</td>\n",
       "      <td>0.015627</td>\n",
       "      <td>0.015627</td>\n",
       "    </tr>\n",
       "  </tbody>\n",
       "</table>\n",
       "</div>"
      ],
      "text/plain": [
       "   tiempo  con ciclos  con numpy\n",
       "0     0.0    0.034058   0.034058\n",
       "1     0.1    0.031545   0.031545\n",
       "2     0.2    0.027493   0.027493\n",
       "3     0.3    0.022099   0.022099\n",
       "4     0.4    0.015627   0.015627"
      ]
     },
     "execution_count": 25,
     "metadata": {},
     "output_type": "execute_result"
    }
   ],
   "source": [
    "df.head()"
   ]
  },
  {
   "cell_type": "code",
   "execution_count": 39,
   "metadata": {},
   "outputs": [
    {
     "data": {
      "text/html": [
       "<div>\n",
       "<style scoped>\n",
       "    .dataframe tbody tr th:only-of-type {\n",
       "        vertical-align: middle;\n",
       "    }\n",
       "\n",
       "    .dataframe tbody tr th {\n",
       "        vertical-align: top;\n",
       "    }\n",
       "\n",
       "    .dataframe thead th {\n",
       "        text-align: right;\n",
       "    }\n",
       "</style>\n",
       "<table border=\"1\" class=\"dataframe\">\n",
       "  <thead>\n",
       "    <tr style=\"text-align: right;\">\n",
       "      <th></th>\n",
       "      <th>tiempo</th>\n",
       "      <th>con ciclos</th>\n",
       "      <th>con numpy</th>\n",
       "    </tr>\n",
       "  </thead>\n",
       "  <tbody>\n",
       "    <tr>\n",
       "      <th>0</th>\n",
       "      <td>0.0</td>\n",
       "      <td>0.034058</td>\n",
       "      <td>0.034058</td>\n",
       "    </tr>\n",
       "    <tr>\n",
       "      <th>1</th>\n",
       "      <td>0.1</td>\n",
       "      <td>0.031545</td>\n",
       "      <td>0.031545</td>\n",
       "    </tr>\n",
       "    <tr>\n",
       "      <th>2</th>\n",
       "      <td>0.2</td>\n",
       "      <td>0.027493</td>\n",
       "      <td>0.027493</td>\n",
       "    </tr>\n",
       "    <tr>\n",
       "      <th>3</th>\n",
       "      <td>0.3</td>\n",
       "      <td>0.022099</td>\n",
       "      <td>0.022099</td>\n",
       "    </tr>\n",
       "    <tr>\n",
       "      <th>4</th>\n",
       "      <td>0.4</td>\n",
       "      <td>0.015627</td>\n",
       "      <td>0.015627</td>\n",
       "    </tr>\n",
       "  </tbody>\n",
       "</table>\n",
       "</div>"
      ],
      "text/plain": [
       "   tiempo  con ciclos  con numpy\n",
       "0     0.0    0.034058   0.034058\n",
       "1     0.1    0.031545   0.031545\n",
       "2     0.2    0.027493   0.027493\n",
       "3     0.3    0.022099   0.022099\n",
       "4     0.4    0.015627   0.015627"
      ]
     },
     "execution_count": 39,
     "metadata": {},
     "output_type": "execute_result"
    }
   ],
   "source": [
    "df.head()"
   ]
  }
 ],
 "metadata": {
  "kernelspec": {
   "display_name": "Python 3",
   "language": "python",
   "name": "python3"
  },
  "language_info": {
   "codemirror_mode": {
    "name": "ipython",
    "version": 3
   },
   "file_extension": ".py",
   "mimetype": "text/x-python",
   "name": "python",
   "nbconvert_exporter": "python",
   "pygments_lexer": "ipython3",
   "version": "3.8.5"
  }
 },
 "nbformat": 4,
 "nbformat_minor": 4
}
