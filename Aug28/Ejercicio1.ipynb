{
 "cells": [
  {
   "cell_type": "markdown",
   "metadata": {},
   "source": [
    "Ejercicio 1"
   ]
  },
  {
   "cell_type": "markdown",
   "metadata": {},
   "source": [
    "1.- Escribe un código simple en python, para resolver la ecuación de movimiento de un péndulo simple utilizando la sintaxis básica, i.e cómo si fuera C/fortran  "
   ]
  },
  {
   "cell_type": "code",
   "execution_count": 59,
   "metadata": {},
   "outputs": [],
   "source": [
    "import numpy as np\n",
    "import matplotlib as mpl\n",
    "import matplotlib.pyplot as plt\n",
    "import math"
   ]
  },
  {
   "cell_type": "code",
   "execution_count": 60,
   "metadata": {},
   "outputs": [],
   "source": [
    "#Definiciones"
   ]
  },
  {
   "cell_type": "code",
   "execution_count": 61,
   "metadata": {},
   "outputs": [],
   "source": [
    "N=10\n",
    "h=0.1\n",
    "a=0\n",
    "#b=\n",
    "#w = np.zeros(4, dtype=float)\n",
    "k=np.zeros((4,4), dtype=np.float64)\n",
    "t=0.0\n",
    "m=2"
   ]
  },
  {
   "cell_type": "code",
   "execution_count": 62,
   "metadata": {},
   "outputs": [],
   "source": [
    "def f1(tiempo, u1, u2):\n",
    "        g=9.8\n",
    "        l=2.0\n",
    "        return u2"
   ]
  },
  {
   "cell_type": "code",
   "execution_count": 63,
   "metadata": {},
   "outputs": [],
   "source": [
    "def f2(tiempo, u1, u2):\n",
    "        g=9.8\n",
    "        l=2.0\n",
    "        return -2*u1+2*u2+math.e**(2*tiempo)*math.sin(t)"
   ]
  },
  {
   "cell_type": "raw",
   "metadata": {},
   "source": [
    "h=(b-a)/N\n",
    "t=a\n",
    "w=np.array([-0.4, -0.6], dtype='float64')"
   ]
  },
  {
   "cell_type": "code",
   "execution_count": 64,
   "metadata": {},
   "outputs": [
    {
     "name": "stdout",
     "output_type": "stream",
     "text": [
      "0.16666666666666666\n"
     ]
    }
   ],
   "source": [
    "d=1/6\n",
    "print(d)"
   ]
  },
  {
   "cell_type": "code",
   "execution_count": 65,
   "metadata": {},
   "outputs": [
    {
     "name": "stdout",
     "output_type": "stream",
     "text": [
      "0\n",
      "0.1\n",
      "0.2\n",
      "0.30000000000000004\n",
      "0.4\n",
      "0.5\n",
      "0.6000000000000001\n",
      "0.7000000000000001\n",
      "0.8\n",
      "0.9\n"
     ]
    }
   ],
   "source": [
    "h=0.1\n",
    "t=a\n",
    "w=np.array([-0.4, -0.6], dtype='float64')\n",
    "#g=np.zeros(, dtype=np.float64)\n",
    "g=np.zeros((N), float)\n",
    "r=np.zeros((N), float)\n",
    "e=np.zeros((N), float)\n",
    "for i in range(0, N, 1):\n",
    "        #for j in range(0, m, 1):\n",
    "                k[0,0]=h*f1(t, w[0], w[1])\n",
    "                k[0,1]=h*f2(t, w[0], w[1])\n",
    "        #for j in range(0, m, 1):\n",
    "                k[1,0]=h*f1(t+(h*0.5), w[0]+(0.5*k[0,0]), w[1]+(0.5*k[0,1]))\n",
    "                k[1,1]=h*f2(t+(h*0.5), w[0]+(0.5*k[0,0]), w[1]+(0.5*k[0,1]))\n",
    "        #for j in range(0, m, 1):\n",
    "                k[2,0]=h*f1(t+(h*0.5), w[0]+(0.5*k[1,0]), w[1]+(0.5*k[1,1]))\n",
    "                k[2,1]=h*f2(t+(h*0.5), w[0]+(0.5*k[1,0]), w[1]+(0.5*k[1,1]))\n",
    "        #for j in range(0, m, 1):\n",
    "                k[3,0]=h*f1(t+(h*0.5), w[0]+(0.5*k[2,0]), w[1]+(0.5*k[2,1]))\n",
    "                k[3,1]=h*f2(t+(h*0.5), w[0]+(0.5*k[2,0]), w[1]+(0.5*k[2,1]))\n",
    "                \n",
    "                w[0]=w[0]+(k[0,0]+2*k[1,0]+2*k[2,0]+k[3,0])*0.16666666666666666\n",
    "                w[1]=w[1]+(k[0,1]+2*k[1,1]+2*k[2,1]+k[3,1])*0.16666666666666666\n",
    "                g[i]=w[0]\n",
    "                r[i]=w[1]\n",
    "                e[i]=t\n",
    "                print(t)\n",
    "        #fijar t\n",
    "                t=a+(i+1)*h\n",
    "        "
   ]
  },
  {
   "cell_type": "code",
   "execution_count": null,
   "metadata": {},
   "outputs": [],
   "source": []
  },
  {
   "cell_type": "code",
   "execution_count": 66,
   "metadata": {},
   "outputs": [
    {
     "name": "stdout",
     "output_type": "stream",
     "text": [
      "1.0\n",
      "[-0.46161333 -0.52624981 -0.59148513 -0.65365382 -0.70745985 -0.74549504\n",
      " -0.75764949 -0.73039718 -0.64593869 -0.48118371]\n"
     ]
    }
   ],
   "source": [
    "print(t)\n",
    "print(g)"
   ]
  },
  {
   "cell_type": "code",
   "execution_count": 68,
   "metadata": {},
   "outputs": [
    {
     "data": {
      "image/png": "[encoded data removed]",
      "text/plain": [
       "<Figure size 432x288 with 1 Axes>"
      ]
     },
     "metadata": {
      "needs_background": "light"
     },
     "output_type": "display_data"
    }
   ],
   "source": [
    "fig = plt.figure()\n",
    "ax = plt.axes()\n",
    "\n",
    "ax.plot();"
   ]
  },
  {
   "cell_type": "code",
   "execution_count": 57,
   "metadata": {},
   "outputs": [],
   "source": [
    "a=np.zeros((N), float)"
   ]
  },
  {
   "cell_type": "code",
   "execution_count": null,
   "metadata": {},
   "outputs": [],
   "source": []
  }
 ],
 "metadata": {
  "kernelspec": {
   "display_name": "Python 3",
   "language": "python",
   "name": "python3"
  },
  "language_info": {
   "codemirror_mode": {
    "name": "ipython",
    "version": 3
   },
   "file_extension": ".py",
   "mimetype": "text/x-python",
   "name": "python",
   "nbconvert_exporter": "python",
   "pygments_lexer": "ipython3",
   "version": "3.8.5"
  }
 },
 "nbformat": 4,
 "nbformat_minor": 4
}
