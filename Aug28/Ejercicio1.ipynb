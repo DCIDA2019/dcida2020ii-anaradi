{
 "cells": [
  {
   "cell_type": "markdown",
   "metadata": {},
   "source": [
    "Ejercicio 1"
   ]
  },
  {
   "cell_type": "markdown",
   "metadata": {},
   "source": [
    "1.- Escribe un código simple en python, para resolver la ecuación de movimiento de un péndulo simple utilizando la sintaxis básica, i.e cómo si fuera C/fortran  \n",
    "Haré el codigo para angulos pequeños"
   ]
  },
  {
   "cell_type": "code",
   "execution_count": 288,
   "metadata": {},
   "outputs": [],
   "source": [
    "import numpy as np\n",
    "import matplotlib as mpl\n",
    "import matplotlib.pyplot as plt\n",
    "import math"
   ]
  },
  {
   "cell_type": "code",
   "execution_count": 289,
   "metadata": {},
   "outputs": [],
   "source": [
    "#Definiciones"
   ]
  },
  {
   "cell_type": "code",
   "execution_count": 290,
   "metadata": {},
   "outputs": [],
   "source": [
    "N=100\n",
    "h=0.1\n",
    "a=0\n",
    "b=10\n",
    "#w = np.zeros(4, dtype=float)\n",
    "k=np.zeros((4,4), dtype=np.float64)\n",
    "t=0.0\n",
    "m=2"
   ]
  },
  {
   "cell_type": "code",
   "execution_count": 291,
   "metadata": {},
   "outputs": [],
   "source": [
    "def f1(tiempo, u1, u2):\n",
    "        return u2"
   ]
  },
  {
   "cell_type": "code",
   "execution_count": 292,
   "metadata": {},
   "outputs": [],
   "source": [
    "def f2(tiempo, u1, u2):\n",
    "        g=9.8\n",
    "        l=2.0\n",
    "        return -g*(l**(-1))*math.sin(u1)"
   ]
  },
  {
   "cell_type": "code",
   "execution_count": 293,
   "metadata": {},
   "outputs": [],
   "source": [
    "from decimal import *\n",
    "with localcontext() as context:\n",
    "        context.prec = 9\n",
    "h=(b-a)/N\n",
    "t=a\n",
    "w=np.array([0.03491, 0.0], dtype='float64')\n",
    "g=np.zeros((N+1), float)\n",
    "r=np.zeros((N+1), float)\n",
    "e=np.zeros((N+1), float)\n",
    "for i in range(0, N+1, 1):\n",
    "        #for j in range(0, m, 1):\n",
    "                k[0,0]=h*f1(t, w[0], w[1])\n",
    "                k[0,1]=h*f2(t, w[0], w[1])\n",
    "        #for j in range(0, m, 1):\n",
    "                k[1,0]=h*f1(t+(h*0.5), w[0]+(0.5*k[0,0]), w[1]+(0.5*k[0,1]))\n",
    "                k[1,1]=h*f2(t+(h*0.5), w[0]+(0.5*k[0,0]), w[1]+(0.5*k[0,1]))\n",
    "        #for j in range(0, m, 1):\n",
    "                k[2,0]=h*f1(t+(h*0.5), w[0]+(0.5*k[1,0]), w[1]+(0.5*k[1,1]))\n",
    "                k[2,1]=h*f2(t+(h*0.5), w[0]+(0.5*k[1,0]), w[1]+(0.5*k[1,1]))\n",
    "        #for j in range(0, m, 1):\n",
    "                k[3,0]=h*f1(t+(h*0.5), w[0]+(0.5*k[2,0]), w[1]+(0.5*k[2,1]))\n",
    "                k[3,1]=h*f2(t+(h*0.5), w[0]+(0.5*k[2,0]), w[1]+(0.5*k[2,1]))\n",
    "                \n",
    "                w[0]=w[0]+(k[0,0]+2*k[1,0]+2*k[2,0]+k[3,0])*0.16666666666666666\n",
    "                w[1]=w[1]+(k[0,1]+2*k[1,1]+2*k[2,1]+k[3,1])*0.16666666666666666\n",
    "                g[i]=w[0]\n",
    "                r[i]=w[1]\n",
    "                e[i]=t\n",
    "                #print(t)\n",
    "        #fijar t\n",
    "                t=a+(i+1)*h\n",
    "#for i in range(4, N+1, 1):\n",
    " #               t=a+(i+1)*h\n",
    "  #             w_[0]=w[0]+h*[55*f1(e[3], g[3], r[3])-59*f1(e[2], g[2], r[2])+37*f1(e[1], g[1], r[1])-9*f1(e[0], g[0], r[0])]*0.04166666666666666\n",
    "  #              w_[1]=w[1]+h*[55*f2(e[3], g[3], r[3])-59*f2(e[2], g[2], r[2])+37*f2(e[1], g[1], r[1])-9*f2(e[0], g[0], r[0])]*0.04166666666666666\n",
    "\n",
    "       #         w[0]=w[0]+h*[9*f1(e[i], g[3], r[3])-59*f1(e[2], g[2], r[2])+37*f1(e[1], g[1], r[1])-9*f1(e[0], g[0], r[0])]*0.04166666666666666\n",
    "  #        "
   ]
  },
  {
   "cell_type": "markdown",
   "metadata": {},
   "source": [
    "Solución analitica para angulos pequeños con angulo inicial cero\n",
    "$\\theta =\\theta_{0} \\theta(\\omega t)$\n",
    "con $\\omega=\\sqrt \\frac{g}{l}"
   ]
  },
  {
   "cell_type": "code",
   "execution_count": 294,
   "metadata": {},
   "outputs": [],
   "source": [
    "def f2_(tiempo):\n",
    "        g=9.8\n",
    "        l=2.0\n",
    "        return 0.03491*math.cos(tiempo*(math.sqrt(g*(l**(-1)))))"
   ]
  },
  {
   "cell_type": "code",
   "execution_count": 295,
   "metadata": {},
   "outputs": [],
   "source": [
    "s=np.zeros((101), float)\n",
    "s_=np.zeros((101), float)\n",
    "for i in range(0, 101, 1):\n",
    "    s[i]=f2_(i*0.1)\n",
    "    s_[i]=i*0.1\n"
   ]
  },
  {
   "cell_type": "code",
   "execution_count": 296,
   "metadata": {},
   "outputs": [
    {
     "data": {
      "text/plain": [
       "0.03419914375121557"
      ]
     },
     "execution_count": 296,
     "metadata": {},
     "output_type": "execute_result"
    }
   ],
   "source": [
    "g[0]"
   ]
  },
  {
   "cell_type": "code",
   "execution_count": 297,
   "metadata": {},
   "outputs": [
    {
     "data": {
      "text/plain": [
       "-0.034544684283486164"
      ]
     },
     "execution_count": 297,
     "metadata": {},
     "output_type": "execute_result"
    }
   ],
   "source": [
    "s[i]"
   ]
  },
  {
   "cell_type": "code",
   "execution_count": 298,
   "metadata": {},
   "outputs": [
    {
     "data": {
      "image/png": "[encoded data removed]",
      "text/plain": [
       "<Figure size 432x288 with 1 Axes>"
      ]
     },
     "metadata": {
      "needs_background": "light"
     },
     "output_type": "display_data"
    }
   ],
   "source": [
    "fig = plt.figure()\n",
    "ax = plt.axes()\n",
    "#print(t)\n",
    "#print(g)\n",
    "#x = np.linspace(0, 1, 10)\n",
    "#funcion analitica\n",
    "ax.plot(s_[:], s[:])\n",
    "#simulacion\n",
    "ax.plot(e[:], g[:]);"
   ]
  },
  {
   "cell_type": "code",
   "execution_count": null,
   "metadata": {},
   "outputs": [],
   "source": []
  },
  {
   "cell_type": "code",
   "execution_count": null,
   "metadata": {},
   "outputs": [],
   "source": []
  },
  {
   "cell_type": "code",
   "execution_count": null,
   "metadata": {},
   "outputs": [],
   "source": []
  }
 ],
 "metadata": {
  "kernelspec": {
   "display_name": "Python 3",
   "language": "python",
   "name": "python3"
  },
  "language_info": {
   "codemirror_mode": {
    "name": "ipython",
    "version": 3
   },
   "file_extension": ".py",
   "mimetype": "text/x-python",
   "name": "python",
   "nbconvert_exporter": "python",
   "pygments_lexer": "ipython3",
   "version": "3.8.5"
  }
 },
 "nbformat": 4,
 "nbformat_minor": 4
}
