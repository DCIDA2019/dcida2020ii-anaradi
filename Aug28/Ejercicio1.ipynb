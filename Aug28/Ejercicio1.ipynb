{
 "cells": [
  {
   "cell_type": "markdown",
   "metadata": {},
   "source": [
    "Ejercicio 1"
   ]
  },
  {
   "cell_type": "markdown",
   "metadata": {},
   "source": [
    "1.- Escribe un código simple en python, para resolver la ecuación de movimiento de un péndulo simple utilizando la sintaxis básica, i.e cómo si fuera C/fortran  "
   ]
  },
  {
   "cell_type": "raw",
   "metadata": {},
   "source": [
    "import numpy as np\n",
    "import matplotlib as mpl\n",
    "import matplotlib.pyplot as plt\n",
    "import math"
   ]
  },
  {
   "cell_type": "code",
   "execution_count": 2,
   "metadata": {},
   "outputs": [],
   "source": [
    "#Definiciones"
   ]
  },
  {
   "cell_type": "code",
   "execution_count": 60,
   "metadata": {},
   "outputs": [
    {
     "name": "stdout",
     "output_type": "stream",
     "text": [
      "Exception reporting mode: Verbose\n"
     ]
    }
   ],
   "source": [
    "%xmode Verbose"
   ]
  },
  {
   "cell_type": "code",
   "execution_count": 70,
   "metadata": {},
   "outputs": [
    {
     "name": "stdout",
     "output_type": "stream",
     "text": [
      "0.1666666666666666574148081281236954964697360992431640625\n"
     ]
    }
   ],
   "source": [
    "from decimal import *\n",
    "with localcontext() as context:\n",
    "        context.prec = 10\n",
    "        print(Decimal(1/6))"
   ]
  },
  {
   "cell_type": "code",
   "execution_count": 34,
   "metadata": {},
   "outputs": [],
   "source": [
    "N=10\n",
    "h=0.1\n",
    "a=0\n",
    "b=1\n",
    "#w = np.zeros(4, dtype=float)\n",
    "k=np.zeros((4,4), dtype=np.float64)\n",
    "t=0.0\n",
    "m=2"
   ]
  },
  {
   "cell_type": "code",
   "execution_count": 35,
   "metadata": {},
   "outputs": [],
   "source": [
    "def f1(tiempo, u1, u2):\n",
    "        g=9.8\n",
    "        l=2.0\n",
    "        return u2"
   ]
  },
  {
   "cell_type": "code",
   "execution_count": 36,
   "metadata": {},
   "outputs": [],
   "source": [
    "def f2(tiempo, u1, u2):\n",
    "        g=9.8\n",
    "        l=2.0\n",
    "        return -2*u1+2*u2+math.e**(2*tiempo)*math.sin(tiempo)"
   ]
  },
  {
   "cell_type": "code",
   "execution_count": 37,
   "metadata": {},
   "outputs": [
    {
     "name": "stdout",
     "output_type": "stream",
     "text": [
      "0\n",
      "0.1\n",
      "0.2\n",
      "0.30000000000000004\n",
      "0.4\n",
      "0.5\n",
      "0.6000000000000001\n",
      "0.7000000000000001\n",
      "0.8\n",
      "0.9\n",
      "1.0\n"
     ]
    }
   ],
   "source": [
    "h=(b-a)/N\n",
    "t=a\n",
    "w=np.array([-0.4, -0.6], dtype='float64')\n",
    "g=np.zeros((N+1), float)\n",
    "r=np.zeros((N+1), float)\n",
    "e=np.zeros((N+1), float)\n",
    "for i in range(0, N+1, 1):\n",
    "        #for j in range(0, m, 1):\n",
    "                k[0,0]=h*f1(t, w[0], w[1])\n",
    "                k[0,1]=h*f2(t, w[0], w[1])\n",
    "        #for j in range(0, m, 1):\n",
    "                k[1,0]=h*f1(t+(h*0.5), w[0]+(0.5*k[0,0]), w[1]+(0.5*k[0,1]))\n",
    "                k[1,1]=h*f2(t+(h*0.5), w[0]+(0.5*k[0,0]), w[1]+(0.5*k[0,1]))\n",
    "        #for j in range(0, m, 1):\n",
    "                k[2,0]=h*f1(t+(h*0.5), w[0]+(0.5*k[1,0]), w[1]+(0.5*k[1,1]))\n",
    "                k[2,1]=h*f2(t+(h*0.5), w[0]+(0.5*k[1,0]), w[1]+(0.5*k[1,1]))\n",
    "        #for j in range(0, m, 1):\n",
    "                k[3,0]=h*f1(t+(h*0.5), w[0]+(0.5*k[2,0]), w[1]+(0.5*k[2,1]))\n",
    "                k[3,1]=h*f2(t+(h*0.5), w[0]+(0.5*k[2,0]), w[1]+(0.5*k[2,1]))\n",
    "                \n",
    "                w[0]=w[0]+(k[0,0]+2*k[1,0]+2*k[2,0]+k[3,0])*0.16666666666666666\n",
    "                w[1]=w[1]+(k[0,1]+2*k[1,1]+2*k[2,1]+k[3,1])*0.16666666666666666\n",
    "                g[i]=w[0]\n",
    "                r[i]=w[1]\n",
    "                e[i]=t\n",
    "                print(t)\n",
    "        #fijar t\n",
    "                t=a+(i+1)*h\n",
    "        "
   ]
  },
  {
   "cell_type": "code",
   "execution_count": 51,
   "metadata": {},
   "outputs": [],
   "source": [
    "def f2_(tiempo):\n",
    "        \n",
    "        return 0.2*math.e**(2*tiempo)*(4*math.sin(tiempo)-3*math.cos(tiempo))"
   ]
  },
  {
   "cell_type": "code",
   "execution_count": 56,
   "metadata": {},
   "outputs": [],
   "source": [
    "s=np.zeros((11), float)\n",
    "s_=np.zeros((11), float)\n",
    "for i in range(0, 11, 1):\n",
    "    s[i]=f2_(i*0.1)\n",
    "    s_[i]=i*0.1\n"
   ]
  },
  {
   "cell_type": "code",
   "execution_count": null,
   "metadata": {},
   "outputs": [],
   "source": []
  },
  {
   "cell_type": "code",
   "execution_count": 58,
   "metadata": {},
   "outputs": [
    {
     "name": "stdout",
     "output_type": "stream",
     "text": [
      "1.1\n",
      "[-0.46147064 -0.52540511 -0.58916007 -0.64880441 -0.69872552 -0.73114463\n",
      " -0.73552621 -0.69786529 -0.59983645 -0.41778843 -0.12156993]\n"
     ]
    },
    {
     "data": {
      "image/png": "[encoded data removed]",
      "text/plain": [
       "<Figure size 432x288 with 1 Axes>"
      ]
     },
     "metadata": {
      "needs_background": "light"
     },
     "output_type": "display_data"
    }
   ],
   "source": [
    "fig = plt.figure()\n",
    "ax = plt.axes()\n",
    "print(t)\n",
    "print(g)\n",
    "#x = np.linspace(0, 1, 10)\n",
    "ax.plot(s_[:], s[:])\n",
    "ax.plot(e[:], r[:]);"
   ]
  },
  {
   "cell_type": "code",
   "execution_count": null,
   "metadata": {},
   "outputs": [],
   "source": []
  }
 ],
 "metadata": {
  "kernelspec": {
   "display_name": "Python 3",
   "language": "python",
   "name": "python3"
  },
  "language_info": {
   "codemirror_mode": {
    "name": "ipython",
    "version": 3
   },
   "file_extension": ".py",
   "mimetype": "text/x-python",
   "name": "python",
   "nbconvert_exporter": "python",
   "pygments_lexer": "ipython3",
   "version": "3.8.5"
  }
 },
 "nbformat": 4,
 "nbformat_minor": 4
}
