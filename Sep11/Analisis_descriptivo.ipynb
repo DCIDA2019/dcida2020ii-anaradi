{
 "cells": [
  {
   "cell_type": "markdown",
   "metadata": {},
   "source": [
    "Análisis descriptivo"
   ]
  },
  {
   "cell_type": "markdown",
   "metadata": {},
   "source": [
    "Los datos serán de las tablas:\n",
    "        \n",
    "1.- Population below poverty line\n",
    "        \n",
    "2.- Death Rate\n",
    "\n",
    "3.- Hospital bed density\n",
    "\n",
    "4.- Physicians density\n",
    "\n",
    "5.- Life expectancy\n",
    " "
   ]
  },
  {
   "cell_type": "code",
   "execution_count": 2,
   "metadata": {},
   "outputs": [],
   "source": [
    "import os\n",
    "import pandas as pd\n",
    "import requests\n",
    "import matplotlib as plt"
   ]
  },
  {
   "cell_type": "markdown",
   "metadata": {},
   "source": [
    "Lectura de tablas .csv"
   ]
  },
  {
   "cell_type": "code",
   "execution_count": 3,
   "metadata": {},
   "outputs": [],
   "source": [
    "doctoresCA=pd.read_csv('doctoresCA.csv')\n",
    "doctoresSA=pd.read_csv('doctoresSA.csv')\n",
    "doctoresNA=pd.read_csv('doctoresNA.csv')"
   ]
  },
  {
   "cell_type": "code",
   "execution_count": 4,
   "metadata": {},
   "outputs": [],
   "source": [
    "mortalidadNA=pd.read_csv('mortalidadNA.csv')\n",
    "mortalidadSA=pd.read_csv('mortalidadSA.csv')\n",
    "mortalidadCA=pd.read_csv('mortalidadCA.csv')"
   ]
  },
  {
   "cell_type": "code",
   "execution_count": 5,
   "metadata": {},
   "outputs": [],
   "source": [
    "esperanzaCA=pd.read_csv('esperanzaCA.csv')\n",
    "esperanzaSA=pd.read_csv('esperanzaSA.csv')\n",
    "esperanzaNA=pd.read_csv('esperanzaNA.csv')"
   ]
  },
  {
   "cell_type": "code",
   "execution_count": 6,
   "metadata": {},
   "outputs": [],
   "source": [
    "pobrezaCA=pd.read_csv('pobrezaCA.csv')\n",
    "pobrezaSA=pd.read_csv('pobrezaSA.csv')\n",
    "pobrezaNA=pd.read_csv('pobrezaNA.csv')"
   ]
  },
  {
   "cell_type": "code",
   "execution_count": 7,
   "metadata": {},
   "outputs": [],
   "source": [
    "camasNA=pd.read_csv('camasNA.csv')\n",
    "camasSA=pd.read_csv('camasSA.csv')\n",
    "camasCA=pd.read_csv('camasCA.csv')"
   ]
  },
  {
   "cell_type": "markdown",
   "metadata": {},
   "source": [
    "Unión de tablas"
   ]
  },
  {
   "cell_type": "code",
   "execution_count": 8,
   "metadata": {},
   "outputs": [],
   "source": [
    "doctores=pd.concat([doctoresNA, doctoresSA, doctoresCA], ignore_index=True)"
   ]
  },
  {
   "cell_type": "code",
   "execution_count": 9,
   "metadata": {},
   "outputs": [],
   "source": [
    "doctores = doctores.drop([16, 17])"
   ]
  },
  {
   "cell_type": "code",
   "execution_count": 10,
   "metadata": {},
   "outputs": [],
   "source": [
    "esperanza = pd.concat([esperanzaNA, esperanzaSA, esperanzaCA], ignore_index=True)"
   ]
  },
  {
   "cell_type": "code",
   "execution_count": 11,
   "metadata": {},
   "outputs": [],
   "source": [
    "mortalidad = pd.concat([mortalidadNA, mortalidadSA, mortalidadCA], ignore_index=True)"
   ]
  },
  {
   "cell_type": "code",
   "execution_count": 12,
   "metadata": {},
   "outputs": [],
   "source": [
    "camas = pd.concat([camasNA, camasSA, camasCA], ignore_index=True)"
   ]
  },
  {
   "cell_type": "code",
   "execution_count": 13,
   "metadata": {},
   "outputs": [],
   "source": [
    "camas = camas.drop([15, 23])"
   ]
  },
  {
   "cell_type": "code",
   "execution_count": 14,
   "metadata": {},
   "outputs": [],
   "source": [
    "pobreza = pd.concat([pobrezaNA, pobrezaSA, pobrezaCA], ignore_index=True)"
   ]
  },
  {
   "cell_type": "markdown",
   "metadata": {},
   "source": [
    "Ordenando tablas por orden alfabetico en los países"
   ]
  },
  {
   "cell_type": "code",
   "execution_count": 15,
   "metadata": {},
   "outputs": [],
   "source": [
    "esperanza = esperanza.sort_values(by=['Country'], ignore_index=True)"
   ]
  },
  {
   "cell_type": "code",
   "execution_count": 16,
   "metadata": {},
   "outputs": [],
   "source": [
    "pobreza = pobreza.sort_values(by=['Country'], ignore_index=True)"
   ]
  },
  {
   "cell_type": "code",
   "execution_count": 17,
   "metadata": {},
   "outputs": [],
   "source": [
    "doctores = doctores.sort_values(by=['Country'], ignore_index=True)"
   ]
  },
  {
   "cell_type": "code",
   "execution_count": 18,
   "metadata": {},
   "outputs": [],
   "source": [
    "camas = camas.sort_values(by=['Country'], ignore_index=True)"
   ]
  },
  {
   "cell_type": "code",
   "execution_count": 19,
   "metadata": {},
   "outputs": [],
   "source": [
    "mortalidad = mortalidad.sort_values(by=['Country'], ignore_index=True)"
   ]
  },
  {
   "cell_type": "markdown",
   "metadata": {},
   "source": [
    "Unión de todas las tablas"
   ]
  },
  {
   "cell_type": "code",
   "execution_count": 20,
   "metadata": {},
   "outputs": [],
   "source": [
    "datos = pd.merge(doctores, camas, on='Country')"
   ]
  },
  {
   "cell_type": "raw",
   "metadata": {},
   "source": [
    "datos = datos.drop(columns=['Year_x', 'Year_y'])"
   ]
  },
  {
   "cell_type": "code",
   "execution_count": 21,
   "metadata": {},
   "outputs": [],
   "source": [
    "datos = pd.merge(datos, esperanza, on='Country')"
   ]
  },
  {
   "cell_type": "code",
   "execution_count": 22,
   "metadata": {},
   "outputs": [],
   "source": [
    "datos2 = pd.merge(mortalidad, pobreza, on='Country') "
   ]
  },
  {
   "cell_type": "code",
   "execution_count": 23,
   "metadata": {},
   "outputs": [],
   "source": [
    "datos = pd.merge(datos, datos2, on='Country')"
   ]
  },
  {
   "cell_type": "markdown",
   "metadata": {},
   "source": [
    "tabla final"
   ]
  },
  {
   "cell_type": "code",
   "execution_count": 24,
   "metadata": {},
   "outputs": [
    {
     "data": {
      "text/html": [
       "<div>\n",
       "<style scoped>\n",
       "    .dataframe tbody tr th:only-of-type {\n",
       "        vertical-align: middle;\n",
       "    }\n",
       "\n",
       "    .dataframe tbody tr th {\n",
       "        vertical-align: top;\n",
       "    }\n",
       "\n",
       "    .dataframe thead th {\n",
       "        text-align: right;\n",
       "    }\n",
       "</style>\n",
       "<table border=\"1\" class=\"dataframe\">\n",
       "  <thead>\n",
       "    <tr style=\"text-align: right;\">\n",
       "      <th></th>\n",
       "      <th>Country</th>\n",
       "      <th>Physicians density (physicians/1,000 population)</th>\n",
       "      <th>Year_x_x</th>\n",
       "      <th>Hospital bed density (beds/1,000 population)</th>\n",
       "      <th>Year_y_x</th>\n",
       "      <th>Life expectancy at birth (years)</th>\n",
       "      <th>Year</th>\n",
       "      <th>Death rate (deaths/1,000 population)</th>\n",
       "      <th>Year_x_y</th>\n",
       "      <th>Population below poverty line (%)</th>\n",
       "      <th>Year_y_y</th>\n",
       "    </tr>\n",
       "  </thead>\n",
       "  <tbody>\n",
       "    <tr>\n",
       "      <th>0</th>\n",
       "      <td>Argentina</td>\n",
       "      <td>4</td>\n",
       "      <td>2017</td>\n",
       "      <td>5</td>\n",
       "      <td>2014</td>\n",
       "      <td>78</td>\n",
       "      <td>2018</td>\n",
       "      <td>8</td>\n",
       "      <td>2018</td>\n",
       "      <td>26</td>\n",
       "      <td>2019</td>\n",
       "    </tr>\n",
       "    <tr>\n",
       "      <th>1</th>\n",
       "      <td>Belize</td>\n",
       "      <td>1</td>\n",
       "      <td>2017</td>\n",
       "      <td>1</td>\n",
       "      <td>2014</td>\n",
       "      <td>75</td>\n",
       "      <td>2018</td>\n",
       "      <td>4</td>\n",
       "      <td>2018</td>\n",
       "      <td>41</td>\n",
       "      <td>2019</td>\n",
       "    </tr>\n",
       "    <tr>\n",
       "      <th>2</th>\n",
       "      <td>Bolivia</td>\n",
       "      <td>2</td>\n",
       "      <td>2016</td>\n",
       "      <td>1</td>\n",
       "      <td>2014</td>\n",
       "      <td>70</td>\n",
       "      <td>2018</td>\n",
       "      <td>6</td>\n",
       "      <td>2018</td>\n",
       "      <td>39</td>\n",
       "      <td>2019</td>\n",
       "    </tr>\n",
       "    <tr>\n",
       "      <th>3</th>\n",
       "      <td>Brazil</td>\n",
       "      <td>2</td>\n",
       "      <td>2018</td>\n",
       "      <td>2</td>\n",
       "      <td>2014</td>\n",
       "      <td>74</td>\n",
       "      <td>2018</td>\n",
       "      <td>7</td>\n",
       "      <td>2018</td>\n",
       "      <td>4</td>\n",
       "      <td>2019</td>\n",
       "    </tr>\n",
       "    <tr>\n",
       "      <th>4</th>\n",
       "      <td>Canada</td>\n",
       "      <td>3</td>\n",
       "      <td>2017</td>\n",
       "      <td>3</td>\n",
       "      <td>2012</td>\n",
       "      <td>82</td>\n",
       "      <td>2018</td>\n",
       "      <td>9</td>\n",
       "      <td>2018</td>\n",
       "      <td>9</td>\n",
       "      <td>2019</td>\n",
       "    </tr>\n",
       "    <tr>\n",
       "      <th>5</th>\n",
       "      <td>Chile</td>\n",
       "      <td>1</td>\n",
       "      <td>2016</td>\n",
       "      <td>2</td>\n",
       "      <td>2013</td>\n",
       "      <td>79</td>\n",
       "      <td>2018</td>\n",
       "      <td>6</td>\n",
       "      <td>2018</td>\n",
       "      <td>14</td>\n",
       "      <td>2019</td>\n",
       "    </tr>\n",
       "    <tr>\n",
       "      <th>6</th>\n",
       "      <td>Colombia</td>\n",
       "      <td>2</td>\n",
       "      <td>2017</td>\n",
       "      <td>2</td>\n",
       "      <td>2014</td>\n",
       "      <td>76</td>\n",
       "      <td>2018</td>\n",
       "      <td>6</td>\n",
       "      <td>2018</td>\n",
       "      <td>28</td>\n",
       "      <td>2019</td>\n",
       "    </tr>\n",
       "    <tr>\n",
       "      <th>7</th>\n",
       "      <td>Costa Rica</td>\n",
       "      <td>1</td>\n",
       "      <td>2013</td>\n",
       "      <td>1</td>\n",
       "      <td>2014</td>\n",
       "      <td>79</td>\n",
       "      <td>2018</td>\n",
       "      <td>5</td>\n",
       "      <td>2018</td>\n",
       "      <td>22</td>\n",
       "      <td>2019</td>\n",
       "    </tr>\n",
       "    <tr>\n",
       "      <th>8</th>\n",
       "      <td>Dominica</td>\n",
       "      <td>1</td>\n",
       "      <td>2017</td>\n",
       "      <td>4</td>\n",
       "      <td>2010</td>\n",
       "      <td>77</td>\n",
       "      <td>2018</td>\n",
       "      <td>8</td>\n",
       "      <td>2018</td>\n",
       "      <td>29</td>\n",
       "      <td>2019</td>\n",
       "    </tr>\n",
       "    <tr>\n",
       "      <th>9</th>\n",
       "      <td>Dominican Republic</td>\n",
       "      <td>2</td>\n",
       "      <td>2017</td>\n",
       "      <td>2</td>\n",
       "      <td>2014</td>\n",
       "      <td>71</td>\n",
       "      <td>2018</td>\n",
       "      <td>6</td>\n",
       "      <td>2018</td>\n",
       "      <td>31</td>\n",
       "      <td>2019</td>\n",
       "    </tr>\n",
       "    <tr>\n",
       "      <th>10</th>\n",
       "      <td>Ecuador</td>\n",
       "      <td>2</td>\n",
       "      <td>2016</td>\n",
       "      <td>2</td>\n",
       "      <td>2013</td>\n",
       "      <td>77</td>\n",
       "      <td>2018</td>\n",
       "      <td>5</td>\n",
       "      <td>2018</td>\n",
       "      <td>22</td>\n",
       "      <td>2019</td>\n",
       "    </tr>\n",
       "    <tr>\n",
       "      <th>11</th>\n",
       "      <td>El Salvador</td>\n",
       "      <td>2</td>\n",
       "      <td>2016</td>\n",
       "      <td>1</td>\n",
       "      <td>2014</td>\n",
       "      <td>75</td>\n",
       "      <td>2018</td>\n",
       "      <td>6</td>\n",
       "      <td>2018</td>\n",
       "      <td>33</td>\n",
       "      <td>2019</td>\n",
       "    </tr>\n",
       "    <tr>\n",
       "      <th>12</th>\n",
       "      <td>Greenland</td>\n",
       "      <td>2</td>\n",
       "      <td>2016</td>\n",
       "      <td>8</td>\n",
       "      <td>2015</td>\n",
       "      <td>73</td>\n",
       "      <td>2018</td>\n",
       "      <td>9</td>\n",
       "      <td>2018</td>\n",
       "      <td>16</td>\n",
       "      <td>2019</td>\n",
       "    </tr>\n",
       "    <tr>\n",
       "      <th>13</th>\n",
       "      <td>Grenada</td>\n",
       "      <td>1</td>\n",
       "      <td>2017</td>\n",
       "      <td>4</td>\n",
       "      <td>2014</td>\n",
       "      <td>75</td>\n",
       "      <td>2018</td>\n",
       "      <td>8</td>\n",
       "      <td>2018</td>\n",
       "      <td>38</td>\n",
       "      <td>2019</td>\n",
       "    </tr>\n",
       "    <tr>\n",
       "      <th>14</th>\n",
       "      <td>Guatemala</td>\n",
       "      <td>0</td>\n",
       "      <td>2018</td>\n",
       "      <td>1</td>\n",
       "      <td>2014</td>\n",
       "      <td>72</td>\n",
       "      <td>2018</td>\n",
       "      <td>5</td>\n",
       "      <td>2018</td>\n",
       "      <td>59</td>\n",
       "      <td>2019</td>\n",
       "    </tr>\n",
       "    <tr>\n",
       "      <th>15</th>\n",
       "      <td>Guyana</td>\n",
       "      <td>1</td>\n",
       "      <td>2018</td>\n",
       "      <td>2</td>\n",
       "      <td>2014</td>\n",
       "      <td>69</td>\n",
       "      <td>2018</td>\n",
       "      <td>7</td>\n",
       "      <td>2018</td>\n",
       "      <td>35</td>\n",
       "      <td>2019</td>\n",
       "    </tr>\n",
       "    <tr>\n",
       "      <th>16</th>\n",
       "      <td>Haiti</td>\n",
       "      <td>0</td>\n",
       "      <td>2018</td>\n",
       "      <td>1</td>\n",
       "      <td>2013</td>\n",
       "      <td>65</td>\n",
       "      <td>2018</td>\n",
       "      <td>8</td>\n",
       "      <td>2018</td>\n",
       "      <td>59</td>\n",
       "      <td>2019</td>\n",
       "    </tr>\n",
       "    <tr>\n",
       "      <th>17</th>\n",
       "      <td>Honduras</td>\n",
       "      <td>0</td>\n",
       "      <td>2017</td>\n",
       "      <td>1</td>\n",
       "      <td>2014</td>\n",
       "      <td>71</td>\n",
       "      <td>2018</td>\n",
       "      <td>5</td>\n",
       "      <td>2018</td>\n",
       "      <td>30</td>\n",
       "      <td>2019</td>\n",
       "    </tr>\n",
       "    <tr>\n",
       "      <th>18</th>\n",
       "      <td>Jamaica</td>\n",
       "      <td>1</td>\n",
       "      <td>2017</td>\n",
       "      <td>2</td>\n",
       "      <td>2013</td>\n",
       "      <td>75</td>\n",
       "      <td>2018</td>\n",
       "      <td>8</td>\n",
       "      <td>2018</td>\n",
       "      <td>17</td>\n",
       "      <td>2019</td>\n",
       "    </tr>\n",
       "    <tr>\n",
       "      <th>19</th>\n",
       "      <td>Mexico</td>\n",
       "      <td>2</td>\n",
       "      <td>2016</td>\n",
       "      <td>2</td>\n",
       "      <td>2015</td>\n",
       "      <td>76</td>\n",
       "      <td>2018</td>\n",
       "      <td>5</td>\n",
       "      <td>2018</td>\n",
       "      <td>46</td>\n",
       "      <td>2019</td>\n",
       "    </tr>\n",
       "    <tr>\n",
       "      <th>20</th>\n",
       "      <td>Nicaragua</td>\n",
       "      <td>1</td>\n",
       "      <td>2018</td>\n",
       "      <td>1</td>\n",
       "      <td>2014</td>\n",
       "      <td>74</td>\n",
       "      <td>2018</td>\n",
       "      <td>5</td>\n",
       "      <td>2018</td>\n",
       "      <td>30</td>\n",
       "      <td>2019</td>\n",
       "    </tr>\n",
       "    <tr>\n",
       "      <th>21</th>\n",
       "      <td>Panama</td>\n",
       "      <td>2</td>\n",
       "      <td>2016</td>\n",
       "      <td>2</td>\n",
       "      <td>2013</td>\n",
       "      <td>79</td>\n",
       "      <td>2018</td>\n",
       "      <td>5</td>\n",
       "      <td>2018</td>\n",
       "      <td>23</td>\n",
       "      <td>2019</td>\n",
       "    </tr>\n",
       "    <tr>\n",
       "      <th>22</th>\n",
       "      <td>Paraguay</td>\n",
       "      <td>1</td>\n",
       "      <td>2018</td>\n",
       "      <td>1</td>\n",
       "      <td>2011</td>\n",
       "      <td>78</td>\n",
       "      <td>2018</td>\n",
       "      <td>5</td>\n",
       "      <td>2018</td>\n",
       "      <td>22</td>\n",
       "      <td>2019</td>\n",
       "    </tr>\n",
       "    <tr>\n",
       "      <th>23</th>\n",
       "      <td>Peru</td>\n",
       "      <td>1</td>\n",
       "      <td>2016</td>\n",
       "      <td>2</td>\n",
       "      <td>2014</td>\n",
       "      <td>74</td>\n",
       "      <td>2018</td>\n",
       "      <td>6</td>\n",
       "      <td>2018</td>\n",
       "      <td>23</td>\n",
       "      <td>2019</td>\n",
       "    </tr>\n",
       "    <tr>\n",
       "      <th>24</th>\n",
       "      <td>Suriname</td>\n",
       "      <td>1</td>\n",
       "      <td>2018</td>\n",
       "      <td>3</td>\n",
       "      <td>2010</td>\n",
       "      <td>73</td>\n",
       "      <td>2018</td>\n",
       "      <td>6</td>\n",
       "      <td>2018</td>\n",
       "      <td>70</td>\n",
       "      <td>2019</td>\n",
       "    </tr>\n",
       "    <tr>\n",
       "      <th>25</th>\n",
       "      <td>Trinidad and Tobago</td>\n",
       "      <td>3</td>\n",
       "      <td>2015</td>\n",
       "      <td>3</td>\n",
       "      <td>2014</td>\n",
       "      <td>73</td>\n",
       "      <td>2018</td>\n",
       "      <td>9</td>\n",
       "      <td>2018</td>\n",
       "      <td>20</td>\n",
       "      <td>2019</td>\n",
       "    </tr>\n",
       "    <tr>\n",
       "      <th>26</th>\n",
       "      <td>United States</td>\n",
       "      <td>3</td>\n",
       "      <td>2016</td>\n",
       "      <td>3</td>\n",
       "      <td>2013</td>\n",
       "      <td>80</td>\n",
       "      <td>2018</td>\n",
       "      <td>8</td>\n",
       "      <td>2018</td>\n",
       "      <td>15</td>\n",
       "      <td>2019</td>\n",
       "    </tr>\n",
       "    <tr>\n",
       "      <th>27</th>\n",
       "      <td>Uruguay</td>\n",
       "      <td>5</td>\n",
       "      <td>2017</td>\n",
       "      <td>3</td>\n",
       "      <td>2014</td>\n",
       "      <td>78</td>\n",
       "      <td>2018</td>\n",
       "      <td>9</td>\n",
       "      <td>2018</td>\n",
       "      <td>10</td>\n",
       "      <td>2019</td>\n",
       "    </tr>\n",
       "  </tbody>\n",
       "</table>\n",
       "</div>"
      ],
      "text/plain": [
       "                Country  Physicians density (physicians/1,000 population)  \\\n",
       "0             Argentina                                                 4   \n",
       "1                Belize                                                 1   \n",
       "2               Bolivia                                                 2   \n",
       "3                Brazil                                                 2   \n",
       "4                Canada                                                 3   \n",
       "5                 Chile                                                 1   \n",
       "6              Colombia                                                 2   \n",
       "7            Costa Rica                                                 1   \n",
       "8              Dominica                                                 1   \n",
       "9    Dominican Republic                                                 2   \n",
       "10              Ecuador                                                 2   \n",
       "11          El Salvador                                                 2   \n",
       "12            Greenland                                                 2   \n",
       "13              Grenada                                                 1   \n",
       "14            Guatemala                                                 0   \n",
       "15               Guyana                                                 1   \n",
       "16                Haiti                                                 0   \n",
       "17             Honduras                                                 0   \n",
       "18              Jamaica                                                 1   \n",
       "19               Mexico                                                 2   \n",
       "20            Nicaragua                                                 1   \n",
       "21               Panama                                                 2   \n",
       "22             Paraguay                                                 1   \n",
       "23                 Peru                                                 1   \n",
       "24             Suriname                                                 1   \n",
       "25  Trinidad and Tobago                                                 3   \n",
       "26        United States                                                 3   \n",
       "27              Uruguay                                                 5   \n",
       "\n",
       "    Year_x_x  Hospital bed density (beds/1,000 population)  Year_y_x  \\\n",
       "0       2017                                             5      2014   \n",
       "1       2017                                             1      2014   \n",
       "2       2016                                             1      2014   \n",
       "3       2018                                             2      2014   \n",
       "4       2017                                             3      2012   \n",
       "5       2016                                             2      2013   \n",
       "6       2017                                             2      2014   \n",
       "7       2013                                             1      2014   \n",
       "8       2017                                             4      2010   \n",
       "9       2017                                             2      2014   \n",
       "10      2016                                             2      2013   \n",
       "11      2016                                             1      2014   \n",
       "12      2016                                             8      2015   \n",
       "13      2017                                             4      2014   \n",
       "14      2018                                             1      2014   \n",
       "15      2018                                             2      2014   \n",
       "16      2018                                             1      2013   \n",
       "17      2017                                             1      2014   \n",
       "18      2017                                             2      2013   \n",
       "19      2016                                             2      2015   \n",
       "20      2018                                             1      2014   \n",
       "21      2016                                             2      2013   \n",
       "22      2018                                             1      2011   \n",
       "23      2016                                             2      2014   \n",
       "24      2018                                             3      2010   \n",
       "25      2015                                             3      2014   \n",
       "26      2016                                             3      2013   \n",
       "27      2017                                             3      2014   \n",
       "\n",
       "    Life expectancy at birth (years)  Year  \\\n",
       "0                                 78  2018   \n",
       "1                                 75  2018   \n",
       "2                                 70  2018   \n",
       "3                                 74  2018   \n",
       "4                                 82  2018   \n",
       "5                                 79  2018   \n",
       "6                                 76  2018   \n",
       "7                                 79  2018   \n",
       "8                                 77  2018   \n",
       "9                                 71  2018   \n",
       "10                                77  2018   \n",
       "11                                75  2018   \n",
       "12                                73  2018   \n",
       "13                                75  2018   \n",
       "14                                72  2018   \n",
       "15                                69  2018   \n",
       "16                                65  2018   \n",
       "17                                71  2018   \n",
       "18                                75  2018   \n",
       "19                                76  2018   \n",
       "20                                74  2018   \n",
       "21                                79  2018   \n",
       "22                                78  2018   \n",
       "23                                74  2018   \n",
       "24                                73  2018   \n",
       "25                                73  2018   \n",
       "26                                80  2018   \n",
       "27                                78  2018   \n",
       "\n",
       "    Death rate (deaths/1,000 population)  Year_x_y  \\\n",
       "0                                      8      2018   \n",
       "1                                      4      2018   \n",
       "2                                      6      2018   \n",
       "3                                      7      2018   \n",
       "4                                      9      2018   \n",
       "5                                      6      2018   \n",
       "6                                      6      2018   \n",
       "7                                      5      2018   \n",
       "8                                      8      2018   \n",
       "9                                      6      2018   \n",
       "10                                     5      2018   \n",
       "11                                     6      2018   \n",
       "12                                     9      2018   \n",
       "13                                     8      2018   \n",
       "14                                     5      2018   \n",
       "15                                     7      2018   \n",
       "16                                     8      2018   \n",
       "17                                     5      2018   \n",
       "18                                     8      2018   \n",
       "19                                     5      2018   \n",
       "20                                     5      2018   \n",
       "21                                     5      2018   \n",
       "22                                     5      2018   \n",
       "23                                     6      2018   \n",
       "24                                     6      2018   \n",
       "25                                     9      2018   \n",
       "26                                     8      2018   \n",
       "27                                     9      2018   \n",
       "\n",
       "    Population below poverty line (%)  Year_y_y  \n",
       "0                                  26      2019  \n",
       "1                                  41      2019  \n",
       "2                                  39      2019  \n",
       "3                                   4      2019  \n",
       "4                                   9      2019  \n",
       "5                                  14      2019  \n",
       "6                                  28      2019  \n",
       "7                                  22      2019  \n",
       "8                                  29      2019  \n",
       "9                                  31      2019  \n",
       "10                                 22      2019  \n",
       "11                                 33      2019  \n",
       "12                                 16      2019  \n",
       "13                                 38      2019  \n",
       "14                                 59      2019  \n",
       "15                                 35      2019  \n",
       "16                                 59      2019  \n",
       "17                                 30      2019  \n",
       "18                                 17      2019  \n",
       "19                                 46      2019  \n",
       "20                                 30      2019  \n",
       "21                                 23      2019  \n",
       "22                                 22      2019  \n",
       "23                                 23      2019  \n",
       "24                                 70      2019  \n",
       "25                                 20      2019  \n",
       "26                                 15      2019  \n",
       "27                                 10      2019  "
      ]
     },
     "execution_count": 24,
     "metadata": {},
     "output_type": "execute_result"
    }
   ],
   "source": [
    "datos"
   ]
  },
  {
   "cell_type": "markdown",
   "metadata": {},
   "source": [
    "En la tabla se observa que la esperanza de vida y la tasa de mortalidad fueron tomados el año 2018 y en la población debajo de una línea de pobreza (de acuerdo a cada país) fue tomada en 2019, el resto de datos varia en los años que fueron tomados. Hay que tener cuidado con el análisis de la densidad de doctores y camas de hospital."
   ]
  },
  {
   "cell_type": "markdown",
   "metadata": {},
   "source": [
    "el promedio de nuestros valores"
   ]
  },
  {
   "cell_type": "code",
   "execution_count": 25,
   "metadata": {},
   "outputs": [
    {
     "name": "stdout",
     "output_type": "stream",
     "text": [
      "en un rango de los años 2013-2018 la densidad de doctores por 1000 habitantes es en los países de nuestra tabla:\n"
     ]
    },
    {
     "data": {
      "text/plain": [
       "1.6785714285714286"
      ]
     },
     "execution_count": 25,
     "metadata": {},
     "output_type": "execute_result"
    }
   ],
   "source": [
    "print('en un rango de los años 2013-2018 la densidad de doctores por 1000 habitantes es en los países de nuestra tabla:')\n",
    "datos['Physicians density (physicians/1,000 population)'].mean()"
   ]
  },
  {
   "cell_type": "code",
   "execution_count": 26,
   "metadata": {},
   "outputs": [
    {
     "name": "stdout",
     "output_type": "stream",
     "text": [
      "en un rango de los años 2010-2014 la densidad de camas de hospital por 1000 habitantes es:\n"
     ]
    },
    {
     "data": {
      "text/plain": [
       "2.3214285714285716"
      ]
     },
     "execution_count": 26,
     "metadata": {},
     "output_type": "execute_result"
    }
   ],
   "source": [
    "print('en un rango de los años 2010-2014 la densidad de camas de hospital por 1000 habitantes es:')\n",
    "datos['Hospital bed density (beds/1,000 population)'].mean()"
   ]
  },
  {
   "cell_type": "code",
   "execution_count": 27,
   "metadata": {},
   "outputs": [
    {
     "name": "stdout",
     "output_type": "stream",
     "text": [
      "Para 2019 el porcentaje de población debajo de la línea de pobreza es:\n"
     ]
    },
    {
     "data": {
      "text/plain": [
       "28.964285714285715"
      ]
     },
     "execution_count": 27,
     "metadata": {},
     "output_type": "execute_result"
    }
   ],
   "source": [
    "print('Para 2019 el porcentaje de población debajo de la línea de pobreza es:')\n",
    "datos['Population below poverty line (%)'].mean()"
   ]
  },
  {
   "cell_type": "code",
   "execution_count": 29,
   "metadata": {},
   "outputs": [
    {
     "data": {
      "text/plain": [
       "6.571428571428571"
      ]
     },
     "execution_count": 29,
     "metadata": {},
     "output_type": "execute_result"
    }
   ],
   "source": [
    "datos['Death rate (deaths/1,000 population)'].mean()"
   ]
  },
  {
   "cell_type": "code",
   "execution_count": 31,
   "metadata": {},
   "outputs": [
    {
     "data": {
      "text/plain": [
       "74.92857142857143"
      ]
     },
     "execution_count": 31,
     "metadata": {},
     "output_type": "execute_result"
    }
   ],
   "source": [
    "datos['Life expectancy at birth (years)'].mean()"
   ]
  },
  {
   "cell_type": "markdown",
   "metadata": {},
   "source": [
    "La mediana"
   ]
  },
  {
   "cell_type": "code",
   "execution_count": 74,
   "metadata": {},
   "outputs": [
    {
     "data": {
      "text/plain": [
       "27.0"
      ]
     },
     "execution_count": 74,
     "metadata": {},
     "output_type": "execute_result"
    }
   ],
   "source": [
    "datos['Population below poverty line (%)'].median()"
   ]
  },
  {
   "cell_type": "code",
   "execution_count": 75,
   "metadata": {},
   "outputs": [
    {
     "data": {
      "text/plain": [
       "6.0"
      ]
     },
     "execution_count": 75,
     "metadata": {},
     "output_type": "execute_result"
    }
   ],
   "source": [
    "datos['Death rate (deaths/1,000 population)'].median()"
   ]
  },
  {
   "cell_type": "code",
   "execution_count": 76,
   "metadata": {},
   "outputs": [
    {
     "data": {
      "text/plain": [
       "1.5"
      ]
     },
     "execution_count": 76,
     "metadata": {},
     "output_type": "execute_result"
    }
   ],
   "source": [
    "datos['Physicians density (physicians/1,000 population)'].median()"
   ]
  },
  {
   "cell_type": "code",
   "execution_count": 77,
   "metadata": {},
   "outputs": [
    {
     "data": {
      "text/plain": [
       "2.0"
      ]
     },
     "execution_count": 77,
     "metadata": {},
     "output_type": "execute_result"
    }
   ],
   "source": [
    "datos['Hospital bed density (beds/1,000 population)'].median()"
   ]
  },
  {
   "cell_type": "code",
   "execution_count": 78,
   "metadata": {},
   "outputs": [
    {
     "data": {
      "text/plain": [
       "75.0"
      ]
     },
     "execution_count": 78,
     "metadata": {},
     "output_type": "execute_result"
    }
   ],
   "source": [
    "datos['Life expectancy at birth (years)'].median()"
   ]
  },
  {
   "cell_type": "markdown",
   "metadata": {},
   "source": [
    "obteniendo los percentiles por defecto de la función describe"
   ]
  },
  {
   "cell_type": "code",
   "execution_count": 32,
   "metadata": {},
   "outputs": [
    {
     "data": {
      "text/html": [
       "<div>\n",
       "<style scoped>\n",
       "    .dataframe tbody tr th:only-of-type {\n",
       "        vertical-align: middle;\n",
       "    }\n",
       "\n",
       "    .dataframe tbody tr th {\n",
       "        vertical-align: top;\n",
       "    }\n",
       "\n",
       "    .dataframe thead th {\n",
       "        text-align: right;\n",
       "    }\n",
       "</style>\n",
       "<table border=\"1\" class=\"dataframe\">\n",
       "  <thead>\n",
       "    <tr style=\"text-align: right;\">\n",
       "      <th></th>\n",
       "      <th>Physicians density (physicians/1,000 population)</th>\n",
       "      <th>Year_x_x</th>\n",
       "      <th>Hospital bed density (beds/1,000 population)</th>\n",
       "      <th>Year_y_x</th>\n",
       "      <th>Life expectancy at birth (years)</th>\n",
       "      <th>Year</th>\n",
       "      <th>Death rate (deaths/1,000 population)</th>\n",
       "      <th>Year_x_y</th>\n",
       "      <th>Population below poverty line (%)</th>\n",
       "      <th>Year_y_y</th>\n",
       "    </tr>\n",
       "  </thead>\n",
       "  <tbody>\n",
       "    <tr>\n",
       "      <th>count</th>\n",
       "      <td>28.000000</td>\n",
       "      <td>28.000000</td>\n",
       "      <td>28.000000</td>\n",
       "      <td>28.000000</td>\n",
       "      <td>28.000000</td>\n",
       "      <td>28.0</td>\n",
       "      <td>28.000000</td>\n",
       "      <td>28.0</td>\n",
       "      <td>28.000000</td>\n",
       "      <td>28.0</td>\n",
       "    </tr>\n",
       "    <tr>\n",
       "      <th>mean</th>\n",
       "      <td>1.678571</td>\n",
       "      <td>2016.714286</td>\n",
       "      <td>2.321429</td>\n",
       "      <td>2013.392857</td>\n",
       "      <td>74.928571</td>\n",
       "      <td>2018.0</td>\n",
       "      <td>6.571429</td>\n",
       "      <td>2018.0</td>\n",
       "      <td>28.964286</td>\n",
       "      <td>2019.0</td>\n",
       "    </tr>\n",
       "    <tr>\n",
       "      <th>std</th>\n",
       "      <td>1.156418</td>\n",
       "      <td>1.117442</td>\n",
       "      <td>1.540889</td>\n",
       "      <td>1.257254</td>\n",
       "      <td>3.731037</td>\n",
       "      <td>0.0</td>\n",
       "      <td>1.549876</td>\n",
       "      <td>0.0</td>\n",
       "      <td>15.614528</td>\n",
       "      <td>0.0</td>\n",
       "    </tr>\n",
       "    <tr>\n",
       "      <th>min</th>\n",
       "      <td>0.000000</td>\n",
       "      <td>2013.000000</td>\n",
       "      <td>1.000000</td>\n",
       "      <td>2010.000000</td>\n",
       "      <td>65.000000</td>\n",
       "      <td>2018.0</td>\n",
       "      <td>4.000000</td>\n",
       "      <td>2018.0</td>\n",
       "      <td>4.000000</td>\n",
       "      <td>2019.0</td>\n",
       "    </tr>\n",
       "    <tr>\n",
       "      <th>25%</th>\n",
       "      <td>1.000000</td>\n",
       "      <td>2016.000000</td>\n",
       "      <td>1.000000</td>\n",
       "      <td>2013.000000</td>\n",
       "      <td>73.000000</td>\n",
       "      <td>2018.0</td>\n",
       "      <td>5.000000</td>\n",
       "      <td>2018.0</td>\n",
       "      <td>19.250000</td>\n",
       "      <td>2019.0</td>\n",
       "    </tr>\n",
       "    <tr>\n",
       "      <th>50%</th>\n",
       "      <td>1.500000</td>\n",
       "      <td>2017.000000</td>\n",
       "      <td>2.000000</td>\n",
       "      <td>2014.000000</td>\n",
       "      <td>75.000000</td>\n",
       "      <td>2018.0</td>\n",
       "      <td>6.000000</td>\n",
       "      <td>2018.0</td>\n",
       "      <td>27.000000</td>\n",
       "      <td>2019.0</td>\n",
       "    </tr>\n",
       "    <tr>\n",
       "      <th>75%</th>\n",
       "      <td>2.000000</td>\n",
       "      <td>2017.250000</td>\n",
       "      <td>3.000000</td>\n",
       "      <td>2014.000000</td>\n",
       "      <td>78.000000</td>\n",
       "      <td>2018.0</td>\n",
       "      <td>8.000000</td>\n",
       "      <td>2018.0</td>\n",
       "      <td>35.750000</td>\n",
       "      <td>2019.0</td>\n",
       "    </tr>\n",
       "    <tr>\n",
       "      <th>max</th>\n",
       "      <td>5.000000</td>\n",
       "      <td>2018.000000</td>\n",
       "      <td>8.000000</td>\n",
       "      <td>2015.000000</td>\n",
       "      <td>82.000000</td>\n",
       "      <td>2018.0</td>\n",
       "      <td>9.000000</td>\n",
       "      <td>2018.0</td>\n",
       "      <td>70.000000</td>\n",
       "      <td>2019.0</td>\n",
       "    </tr>\n",
       "  </tbody>\n",
       "</table>\n",
       "</div>"
      ],
      "text/plain": [
       "       Physicians density (physicians/1,000 population)     Year_x_x  \\\n",
       "count                                         28.000000    28.000000   \n",
       "mean                                           1.678571  2016.714286   \n",
       "std                                            1.156418     1.117442   \n",
       "min                                            0.000000  2013.000000   \n",
       "25%                                            1.000000  2016.000000   \n",
       "50%                                            1.500000  2017.000000   \n",
       "75%                                            2.000000  2017.250000   \n",
       "max                                            5.000000  2018.000000   \n",
       "\n",
       "       Hospital bed density (beds/1,000 population)     Year_y_x  \\\n",
       "count                                     28.000000    28.000000   \n",
       "mean                                       2.321429  2013.392857   \n",
       "std                                        1.540889     1.257254   \n",
       "min                                        1.000000  2010.000000   \n",
       "25%                                        1.000000  2013.000000   \n",
       "50%                                        2.000000  2014.000000   \n",
       "75%                                        3.000000  2014.000000   \n",
       "max                                        8.000000  2015.000000   \n",
       "\n",
       "       Life expectancy at birth (years)    Year  \\\n",
       "count                         28.000000    28.0   \n",
       "mean                          74.928571  2018.0   \n",
       "std                            3.731037     0.0   \n",
       "min                           65.000000  2018.0   \n",
       "25%                           73.000000  2018.0   \n",
       "50%                           75.000000  2018.0   \n",
       "75%                           78.000000  2018.0   \n",
       "max                           82.000000  2018.0   \n",
       "\n",
       "       Death rate (deaths/1,000 population)  Year_x_y  \\\n",
       "count                             28.000000      28.0   \n",
       "mean                               6.571429    2018.0   \n",
       "std                                1.549876       0.0   \n",
       "min                                4.000000    2018.0   \n",
       "25%                                5.000000    2018.0   \n",
       "50%                                6.000000    2018.0   \n",
       "75%                                8.000000    2018.0   \n",
       "max                                9.000000    2018.0   \n",
       "\n",
       "       Population below poverty line (%)  Year_y_y  \n",
       "count                          28.000000      28.0  \n",
       "mean                           28.964286    2019.0  \n",
       "std                            15.614528       0.0  \n",
       "min                             4.000000    2019.0  \n",
       "25%                            19.250000    2019.0  \n",
       "50%                            27.000000    2019.0  \n",
       "75%                            35.750000    2019.0  \n",
       "max                            70.000000    2019.0  "
      ]
     },
     "execution_count": 32,
     "metadata": {},
     "output_type": "execute_result"
    }
   ],
   "source": [
    "datos.describe()"
   ]
  },
  {
   "cell_type": "markdown",
   "metadata": {},
   "source": [
    "¿La esperanza de vida es mayor en los países menos pobres de américa?"
   ]
  },
  {
   "cell_type": "markdown",
   "metadata": {},
   "source": [
    "Obteniendo los países que tienen menor porcentaje de pobreza en la tabla paises_pobres"
   ]
  },
  {
   "cell_type": "code",
   "execution_count": 33,
   "metadata": {},
   "outputs": [],
   "source": [
    "paises__= datos.nsmallest(10, ['Population below poverty line (%)']) "
   ]
  },
  {
   "cell_type": "code",
   "execution_count": 34,
   "metadata": {},
   "outputs": [
    {
     "data": {
      "text/html": [
       "<div>\n",
       "<style scoped>\n",
       "    .dataframe tbody tr th:only-of-type {\n",
       "        vertical-align: middle;\n",
       "    }\n",
       "\n",
       "    .dataframe tbody tr th {\n",
       "        vertical-align: top;\n",
       "    }\n",
       "\n",
       "    .dataframe thead th {\n",
       "        text-align: right;\n",
       "    }\n",
       "</style>\n",
       "<table border=\"1\" class=\"dataframe\">\n",
       "  <thead>\n",
       "    <tr style=\"text-align: right;\">\n",
       "      <th></th>\n",
       "      <th>Country</th>\n",
       "      <th>Physicians density (physicians/1,000 population)</th>\n",
       "      <th>Year_x_x</th>\n",
       "      <th>Hospital bed density (beds/1,000 population)</th>\n",
       "      <th>Year_y_x</th>\n",
       "      <th>Life expectancy at birth (years)</th>\n",
       "      <th>Year</th>\n",
       "      <th>Death rate (deaths/1,000 population)</th>\n",
       "      <th>Year_x_y</th>\n",
       "      <th>Population below poverty line (%)</th>\n",
       "      <th>Year_y_y</th>\n",
       "    </tr>\n",
       "  </thead>\n",
       "  <tbody>\n",
       "    <tr>\n",
       "      <th>3</th>\n",
       "      <td>Brazil</td>\n",
       "      <td>2</td>\n",
       "      <td>2018</td>\n",
       "      <td>2</td>\n",
       "      <td>2014</td>\n",
       "      <td>74</td>\n",
       "      <td>2018</td>\n",
       "      <td>7</td>\n",
       "      <td>2018</td>\n",
       "      <td>4</td>\n",
       "      <td>2019</td>\n",
       "    </tr>\n",
       "    <tr>\n",
       "      <th>4</th>\n",
       "      <td>Canada</td>\n",
       "      <td>3</td>\n",
       "      <td>2017</td>\n",
       "      <td>3</td>\n",
       "      <td>2012</td>\n",
       "      <td>82</td>\n",
       "      <td>2018</td>\n",
       "      <td>9</td>\n",
       "      <td>2018</td>\n",
       "      <td>9</td>\n",
       "      <td>2019</td>\n",
       "    </tr>\n",
       "    <tr>\n",
       "      <th>27</th>\n",
       "      <td>Uruguay</td>\n",
       "      <td>5</td>\n",
       "      <td>2017</td>\n",
       "      <td>3</td>\n",
       "      <td>2014</td>\n",
       "      <td>78</td>\n",
       "      <td>2018</td>\n",
       "      <td>9</td>\n",
       "      <td>2018</td>\n",
       "      <td>10</td>\n",
       "      <td>2019</td>\n",
       "    </tr>\n",
       "    <tr>\n",
       "      <th>5</th>\n",
       "      <td>Chile</td>\n",
       "      <td>1</td>\n",
       "      <td>2016</td>\n",
       "      <td>2</td>\n",
       "      <td>2013</td>\n",
       "      <td>79</td>\n",
       "      <td>2018</td>\n",
       "      <td>6</td>\n",
       "      <td>2018</td>\n",
       "      <td>14</td>\n",
       "      <td>2019</td>\n",
       "    </tr>\n",
       "    <tr>\n",
       "      <th>26</th>\n",
       "      <td>United States</td>\n",
       "      <td>3</td>\n",
       "      <td>2016</td>\n",
       "      <td>3</td>\n",
       "      <td>2013</td>\n",
       "      <td>80</td>\n",
       "      <td>2018</td>\n",
       "      <td>8</td>\n",
       "      <td>2018</td>\n",
       "      <td>15</td>\n",
       "      <td>2019</td>\n",
       "    </tr>\n",
       "    <tr>\n",
       "      <th>12</th>\n",
       "      <td>Greenland</td>\n",
       "      <td>2</td>\n",
       "      <td>2016</td>\n",
       "      <td>8</td>\n",
       "      <td>2015</td>\n",
       "      <td>73</td>\n",
       "      <td>2018</td>\n",
       "      <td>9</td>\n",
       "      <td>2018</td>\n",
       "      <td>16</td>\n",
       "      <td>2019</td>\n",
       "    </tr>\n",
       "    <tr>\n",
       "      <th>18</th>\n",
       "      <td>Jamaica</td>\n",
       "      <td>1</td>\n",
       "      <td>2017</td>\n",
       "      <td>2</td>\n",
       "      <td>2013</td>\n",
       "      <td>75</td>\n",
       "      <td>2018</td>\n",
       "      <td>8</td>\n",
       "      <td>2018</td>\n",
       "      <td>17</td>\n",
       "      <td>2019</td>\n",
       "    </tr>\n",
       "    <tr>\n",
       "      <th>25</th>\n",
       "      <td>Trinidad and Tobago</td>\n",
       "      <td>3</td>\n",
       "      <td>2015</td>\n",
       "      <td>3</td>\n",
       "      <td>2014</td>\n",
       "      <td>73</td>\n",
       "      <td>2018</td>\n",
       "      <td>9</td>\n",
       "      <td>2018</td>\n",
       "      <td>20</td>\n",
       "      <td>2019</td>\n",
       "    </tr>\n",
       "    <tr>\n",
       "      <th>7</th>\n",
       "      <td>Costa Rica</td>\n",
       "      <td>1</td>\n",
       "      <td>2013</td>\n",
       "      <td>1</td>\n",
       "      <td>2014</td>\n",
       "      <td>79</td>\n",
       "      <td>2018</td>\n",
       "      <td>5</td>\n",
       "      <td>2018</td>\n",
       "      <td>22</td>\n",
       "      <td>2019</td>\n",
       "    </tr>\n",
       "    <tr>\n",
       "      <th>10</th>\n",
       "      <td>Ecuador</td>\n",
       "      <td>2</td>\n",
       "      <td>2016</td>\n",
       "      <td>2</td>\n",
       "      <td>2013</td>\n",
       "      <td>77</td>\n",
       "      <td>2018</td>\n",
       "      <td>5</td>\n",
       "      <td>2018</td>\n",
       "      <td>22</td>\n",
       "      <td>2019</td>\n",
       "    </tr>\n",
       "  </tbody>\n",
       "</table>\n",
       "</div>"
      ],
      "text/plain": [
       "                Country  Physicians density (physicians/1,000 population)  \\\n",
       "3                Brazil                                                 2   \n",
       "4                Canada                                                 3   \n",
       "27              Uruguay                                                 5   \n",
       "5                 Chile                                                 1   \n",
       "26        United States                                                 3   \n",
       "12            Greenland                                                 2   \n",
       "18              Jamaica                                                 1   \n",
       "25  Trinidad and Tobago                                                 3   \n",
       "7            Costa Rica                                                 1   \n",
       "10              Ecuador                                                 2   \n",
       "\n",
       "    Year_x_x  Hospital bed density (beds/1,000 population)  Year_y_x  \\\n",
       "3       2018                                             2      2014   \n",
       "4       2017                                             3      2012   \n",
       "27      2017                                             3      2014   \n",
       "5       2016                                             2      2013   \n",
       "26      2016                                             3      2013   \n",
       "12      2016                                             8      2015   \n",
       "18      2017                                             2      2013   \n",
       "25      2015                                             3      2014   \n",
       "7       2013                                             1      2014   \n",
       "10      2016                                             2      2013   \n",
       "\n",
       "    Life expectancy at birth (years)  Year  \\\n",
       "3                                 74  2018   \n",
       "4                                 82  2018   \n",
       "27                                78  2018   \n",
       "5                                 79  2018   \n",
       "26                                80  2018   \n",
       "12                                73  2018   \n",
       "18                                75  2018   \n",
       "25                                73  2018   \n",
       "7                                 79  2018   \n",
       "10                                77  2018   \n",
       "\n",
       "    Death rate (deaths/1,000 population)  Year_x_y  \\\n",
       "3                                      7      2018   \n",
       "4                                      9      2018   \n",
       "27                                     9      2018   \n",
       "5                                      6      2018   \n",
       "26                                     8      2018   \n",
       "12                                     9      2018   \n",
       "18                                     8      2018   \n",
       "25                                     9      2018   \n",
       "7                                      5      2018   \n",
       "10                                     5      2018   \n",
       "\n",
       "    Population below poverty line (%)  Year_y_y  \n",
       "3                                   4      2019  \n",
       "4                                   9      2019  \n",
       "27                                 10      2019  \n",
       "5                                  14      2019  \n",
       "26                                 15      2019  \n",
       "12                                 16      2019  \n",
       "18                                 17      2019  \n",
       "25                                 20      2019  \n",
       "7                                  22      2019  \n",
       "10                                 22      2019  "
      ]
     },
     "execution_count": 34,
     "metadata": {},
     "output_type": "execute_result"
    }
   ],
   "source": [
    "paises__"
   ]
  },
  {
   "cell_type": "markdown",
   "metadata": {},
   "source": [
    "Sacando un porcentaje considerando el 100% el valor de esperanza de vida de 82, que es el valor máximo, y teniendo en cuenta la media es alrededor de 74.93"
   ]
  },
  {
   "cell_type": "code",
   "execution_count": 35,
   "metadata": {},
   "outputs": [],
   "source": [
    "porcentajes = paises__['Life expectancy at birth (years)']*(100/82)"
   ]
  },
  {
   "cell_type": "code",
   "execution_count": 36,
   "metadata": {},
   "outputs": [
    {
     "data": {
      "text/plain": [
       "3      90.243902\n",
       "4     100.000000\n",
       "27     95.121951\n",
       "5      96.341463\n",
       "26     97.560976\n",
       "12     89.024390\n",
       "18     91.463415\n",
       "25     89.024390\n",
       "7      96.341463\n",
       "10     93.902439\n",
       "Name: Life expectancy at birth (years), dtype: float64"
      ]
     },
     "execution_count": 36,
     "metadata": {},
     "output_type": "execute_result"
    }
   ],
   "source": [
    "porcentajes"
   ]
  },
  {
   "cell_type": "markdown",
   "metadata": {},
   "source": [
    "Podemos decir con la muestra que la esperanza de vida es mayor en los países menos pobres "
   ]
  },
  {
   "cell_type": "code",
   "execution_count": 37,
   "metadata": {},
   "outputs": [
    {
     "data": {
      "text/plain": [
       "<AxesSubplot:xlabel='Country'>"
      ]
     },
     "execution_count": 37,
     "metadata": {},
     "output_type": "execute_result"
    },
    {
     "data": {
      "image/png": "[encoded data removed]",
      "text/plain": [
       "<Figure size 432x288 with 1 Axes>"
      ]
     },
     "metadata": {
      "needs_background": "light"
     },
     "output_type": "display_data"
    }
   ],
   "source": [
    "paises__.plot.bar(x='Country', y='Life expectancy at birth (years)')"
   ]
  },
  {
   "cell_type": "markdown",
   "metadata": {},
   "source": [
    "¿Hay escasez de hospitales en América? (Relación densidad de médicos / densidad de camas de hospital)"
   ]
  },
  {
   "cell_type": "markdown",
   "metadata": {},
   "source": [
    "En la base de datos se menciona que el valor de densidad de camas de hospital por 1000 habitantes es un valor no global, ya que depende de la demografía y la tasa de morbilidad por lo tanto no podemos decir acerca de la escasez de hospitales con esta muestra."
   ]
  },
  {
   "cell_type": "markdown",
   "metadata": {},
   "source": [
    "¿Es más pobre la zona centro de América que la zona sur?"
   ]
  },
  {
   "cell_type": "markdown",
   "metadata": {},
   "source": [
    "Considerando las cinco posiciones de mayor pobreza de Centroamerica y Sudamerica tenemos:"
   ]
  },
  {
   "cell_type": "code",
   "execution_count": 38,
   "metadata": {},
   "outputs": [
    {
     "data": {
      "text/html": [
       "<div>\n",
       "<style scoped>\n",
       "    .dataframe tbody tr th:only-of-type {\n",
       "        vertical-align: middle;\n",
       "    }\n",
       "\n",
       "    .dataframe tbody tr th {\n",
       "        vertical-align: top;\n",
       "    }\n",
       "\n",
       "    .dataframe thead th {\n",
       "        text-align: right;\n",
       "    }\n",
       "</style>\n",
       "<table border=\"1\" class=\"dataframe\">\n",
       "  <thead>\n",
       "    <tr style=\"text-align: right;\">\n",
       "      <th></th>\n",
       "      <th>Country</th>\n",
       "      <th>Population below poverty line (%)</th>\n",
       "      <th>Year</th>\n",
       "    </tr>\n",
       "  </thead>\n",
       "  <tbody>\n",
       "    <tr>\n",
       "      <th>0</th>\n",
       "      <td>Guatemala</td>\n",
       "      <td>59</td>\n",
       "      <td>2019</td>\n",
       "    </tr>\n",
       "    <tr>\n",
       "      <th>1</th>\n",
       "      <td>Haiti</td>\n",
       "      <td>59</td>\n",
       "      <td>2019</td>\n",
       "    </tr>\n",
       "    <tr>\n",
       "      <th>2</th>\n",
       "      <td>Belize</td>\n",
       "      <td>41</td>\n",
       "      <td>2019</td>\n",
       "    </tr>\n",
       "    <tr>\n",
       "      <th>3</th>\n",
       "      <td>Grenada</td>\n",
       "      <td>38</td>\n",
       "      <td>2019</td>\n",
       "    </tr>\n",
       "    <tr>\n",
       "      <th>4</th>\n",
       "      <td>El Salvador</td>\n",
       "      <td>33</td>\n",
       "      <td>2019</td>\n",
       "    </tr>\n",
       "  </tbody>\n",
       "</table>\n",
       "</div>"
      ],
      "text/plain": [
       "       Country  Population below poverty line (%)  Year\n",
       "0    Guatemala                                 59  2019\n",
       "1        Haiti                                 59  2019\n",
       "2       Belize                                 41  2019\n",
       "3      Grenada                                 38  2019\n",
       "4  El Salvador                                 33  2019"
      ]
     },
     "execution_count": 38,
     "metadata": {},
     "output_type": "execute_result"
    }
   ],
   "source": [
    "pobrezaCA.nlargest(5, ['Population below poverty line (%)'])"
   ]
  },
  {
   "cell_type": "code",
   "execution_count": 39,
   "metadata": {},
   "outputs": [
    {
     "data": {
      "text/html": [
       "<div>\n",
       "<style scoped>\n",
       "    .dataframe tbody tr th:only-of-type {\n",
       "        vertical-align: middle;\n",
       "    }\n",
       "\n",
       "    .dataframe tbody tr th {\n",
       "        vertical-align: top;\n",
       "    }\n",
       "\n",
       "    .dataframe thead th {\n",
       "        text-align: right;\n",
       "    }\n",
       "</style>\n",
       "<table border=\"1\" class=\"dataframe\">\n",
       "  <thead>\n",
       "    <tr style=\"text-align: right;\">\n",
       "      <th></th>\n",
       "      <th>Population below poverty line (%)</th>\n",
       "      <th>Year</th>\n",
       "    </tr>\n",
       "  </thead>\n",
       "  <tbody>\n",
       "    <tr>\n",
       "      <th>count</th>\n",
       "      <td>5.000000</td>\n",
       "      <td>5.0</td>\n",
       "    </tr>\n",
       "    <tr>\n",
       "      <th>mean</th>\n",
       "      <td>46.000000</td>\n",
       "      <td>2019.0</td>\n",
       "    </tr>\n",
       "    <tr>\n",
       "      <th>std</th>\n",
       "      <td>12.206556</td>\n",
       "      <td>0.0</td>\n",
       "    </tr>\n",
       "    <tr>\n",
       "      <th>min</th>\n",
       "      <td>33.000000</td>\n",
       "      <td>2019.0</td>\n",
       "    </tr>\n",
       "    <tr>\n",
       "      <th>25%</th>\n",
       "      <td>38.000000</td>\n",
       "      <td>2019.0</td>\n",
       "    </tr>\n",
       "    <tr>\n",
       "      <th>50%</th>\n",
       "      <td>41.000000</td>\n",
       "      <td>2019.0</td>\n",
       "    </tr>\n",
       "    <tr>\n",
       "      <th>75%</th>\n",
       "      <td>59.000000</td>\n",
       "      <td>2019.0</td>\n",
       "    </tr>\n",
       "    <tr>\n",
       "      <th>max</th>\n",
       "      <td>59.000000</td>\n",
       "      <td>2019.0</td>\n",
       "    </tr>\n",
       "  </tbody>\n",
       "</table>\n",
       "</div>"
      ],
      "text/plain": [
       "       Population below poverty line (%)    Year\n",
       "count                           5.000000     5.0\n",
       "mean                           46.000000  2019.0\n",
       "std                            12.206556     0.0\n",
       "min                            33.000000  2019.0\n",
       "25%                            38.000000  2019.0\n",
       "50%                            41.000000  2019.0\n",
       "75%                            59.000000  2019.0\n",
       "max                            59.000000  2019.0"
      ]
     },
     "execution_count": 39,
     "metadata": {},
     "output_type": "execute_result"
    }
   ],
   "source": [
    "pobrezaCA.nlargest(5, ['Population below poverty line (%)']).describe()"
   ]
  },
  {
   "cell_type": "code",
   "execution_count": 40,
   "metadata": {},
   "outputs": [
    {
     "data": {
      "text/html": [
       "<div>\n",
       "<style scoped>\n",
       "    .dataframe tbody tr th:only-of-type {\n",
       "        vertical-align: middle;\n",
       "    }\n",
       "\n",
       "    .dataframe tbody tr th {\n",
       "        vertical-align: top;\n",
       "    }\n",
       "\n",
       "    .dataframe thead th {\n",
       "        text-align: right;\n",
       "    }\n",
       "</style>\n",
       "<table border=\"1\" class=\"dataframe\">\n",
       "  <thead>\n",
       "    <tr style=\"text-align: right;\">\n",
       "      <th></th>\n",
       "      <th>Country</th>\n",
       "      <th>Population below poverty line (%)</th>\n",
       "      <th>Year</th>\n",
       "    </tr>\n",
       "  </thead>\n",
       "  <tbody>\n",
       "    <tr>\n",
       "      <th>0</th>\n",
       "      <td>Suriname</td>\n",
       "      <td>70</td>\n",
       "      <td>2019</td>\n",
       "    </tr>\n",
       "    <tr>\n",
       "      <th>1</th>\n",
       "      <td>Bolivia</td>\n",
       "      <td>39</td>\n",
       "      <td>2019</td>\n",
       "    </tr>\n",
       "    <tr>\n",
       "      <th>2</th>\n",
       "      <td>Guyana</td>\n",
       "      <td>35</td>\n",
       "      <td>2019</td>\n",
       "    </tr>\n",
       "    <tr>\n",
       "      <th>3</th>\n",
       "      <td>Colombia</td>\n",
       "      <td>28</td>\n",
       "      <td>2019</td>\n",
       "    </tr>\n",
       "    <tr>\n",
       "      <th>4</th>\n",
       "      <td>Argentina</td>\n",
       "      <td>26</td>\n",
       "      <td>2019</td>\n",
       "    </tr>\n",
       "  </tbody>\n",
       "</table>\n",
       "</div>"
      ],
      "text/plain": [
       "     Country  Population below poverty line (%)  Year\n",
       "0   Suriname                                 70  2019\n",
       "1    Bolivia                                 39  2019\n",
       "2     Guyana                                 35  2019\n",
       "3   Colombia                                 28  2019\n",
       "4  Argentina                                 26  2019"
      ]
     },
     "execution_count": 40,
     "metadata": {},
     "output_type": "execute_result"
    }
   ],
   "source": [
    "pobrezaSA.nlargest(5, ['Population below poverty line (%)']) "
   ]
  },
  {
   "cell_type": "code",
   "execution_count": 41,
   "metadata": {},
   "outputs": [
    {
     "data": {
      "text/html": [
       "<div>\n",
       "<style scoped>\n",
       "    .dataframe tbody tr th:only-of-type {\n",
       "        vertical-align: middle;\n",
       "    }\n",
       "\n",
       "    .dataframe tbody tr th {\n",
       "        vertical-align: top;\n",
       "    }\n",
       "\n",
       "    .dataframe thead th {\n",
       "        text-align: right;\n",
       "    }\n",
       "</style>\n",
       "<table border=\"1\" class=\"dataframe\">\n",
       "  <thead>\n",
       "    <tr style=\"text-align: right;\">\n",
       "      <th></th>\n",
       "      <th>Population below poverty line (%)</th>\n",
       "      <th>Year</th>\n",
       "    </tr>\n",
       "  </thead>\n",
       "  <tbody>\n",
       "    <tr>\n",
       "      <th>count</th>\n",
       "      <td>5.000000</td>\n",
       "      <td>5.0</td>\n",
       "    </tr>\n",
       "    <tr>\n",
       "      <th>mean</th>\n",
       "      <td>39.600000</td>\n",
       "      <td>2019.0</td>\n",
       "    </tr>\n",
       "    <tr>\n",
       "      <th>std</th>\n",
       "      <td>17.784825</td>\n",
       "      <td>0.0</td>\n",
       "    </tr>\n",
       "    <tr>\n",
       "      <th>min</th>\n",
       "      <td>26.000000</td>\n",
       "      <td>2019.0</td>\n",
       "    </tr>\n",
       "    <tr>\n",
       "      <th>25%</th>\n",
       "      <td>28.000000</td>\n",
       "      <td>2019.0</td>\n",
       "    </tr>\n",
       "    <tr>\n",
       "      <th>50%</th>\n",
       "      <td>35.000000</td>\n",
       "      <td>2019.0</td>\n",
       "    </tr>\n",
       "    <tr>\n",
       "      <th>75%</th>\n",
       "      <td>39.000000</td>\n",
       "      <td>2019.0</td>\n",
       "    </tr>\n",
       "    <tr>\n",
       "      <th>max</th>\n",
       "      <td>70.000000</td>\n",
       "      <td>2019.0</td>\n",
       "    </tr>\n",
       "  </tbody>\n",
       "</table>\n",
       "</div>"
      ],
      "text/plain": [
       "       Population below poverty line (%)    Year\n",
       "count                           5.000000     5.0\n",
       "mean                           39.600000  2019.0\n",
       "std                            17.784825     0.0\n",
       "min                            26.000000  2019.0\n",
       "25%                            28.000000  2019.0\n",
       "50%                            35.000000  2019.0\n",
       "75%                            39.000000  2019.0\n",
       "max                            70.000000  2019.0"
      ]
     },
     "execution_count": 41,
     "metadata": {},
     "output_type": "execute_result"
    }
   ],
   "source": [
    "pobrezaSA.nlargest(5, ['Population below poverty line (%)']).describe()"
   ]
  },
  {
   "cell_type": "markdown",
   "metadata": {},
   "source": [
    "Con las cantidades percentiles y el promedio tenemos segun el indice que Centroamérica se considera más pobre entre centroamérica y sudamérica"
   ]
  },
  {
   "cell_type": "markdown",
   "metadata": {},
   "source": [
    "¿Qué países tienen una tasa de densidad de médicos menor de 2.3?"
   ]
  },
  {
   "cell_type": "markdown",
   "metadata": {},
   "source": [
    "Indicamos los valores menores a 2.3 de densidad de doctores"
   ]
  },
  {
   "cell_type": "code",
   "execution_count": 42,
   "metadata": {},
   "outputs": [
    {
     "data": {
      "text/html": [
       "<div>\n",
       "<style scoped>\n",
       "    .dataframe tbody tr th:only-of-type {\n",
       "        vertical-align: middle;\n",
       "    }\n",
       "\n",
       "    .dataframe tbody tr th {\n",
       "        vertical-align: top;\n",
       "    }\n",
       "\n",
       "    .dataframe thead th {\n",
       "        text-align: right;\n",
       "    }\n",
       "</style>\n",
       "<table border=\"1\" class=\"dataframe\">\n",
       "  <thead>\n",
       "    <tr style=\"text-align: right;\">\n",
       "      <th></th>\n",
       "      <th>Country</th>\n",
       "      <th>Physicians density (physicians/1,000 population)</th>\n",
       "      <th>Year_x_x</th>\n",
       "      <th>Hospital bed density (beds/1,000 population)</th>\n",
       "      <th>Year_y_x</th>\n",
       "      <th>Life expectancy at birth (years)</th>\n",
       "      <th>Year</th>\n",
       "      <th>Death rate (deaths/1,000 population)</th>\n",
       "      <th>Year_x_y</th>\n",
       "      <th>Population below poverty line (%)</th>\n",
       "      <th>Year_y_y</th>\n",
       "    </tr>\n",
       "  </thead>\n",
       "  <tbody>\n",
       "    <tr>\n",
       "      <th>1</th>\n",
       "      <td>Belize</td>\n",
       "      <td>1</td>\n",
       "      <td>2017</td>\n",
       "      <td>1</td>\n",
       "      <td>2014</td>\n",
       "      <td>75</td>\n",
       "      <td>2018</td>\n",
       "      <td>4</td>\n",
       "      <td>2018</td>\n",
       "      <td>41</td>\n",
       "      <td>2019</td>\n",
       "    </tr>\n",
       "    <tr>\n",
       "      <th>2</th>\n",
       "      <td>Bolivia</td>\n",
       "      <td>2</td>\n",
       "      <td>2016</td>\n",
       "      <td>1</td>\n",
       "      <td>2014</td>\n",
       "      <td>70</td>\n",
       "      <td>2018</td>\n",
       "      <td>6</td>\n",
       "      <td>2018</td>\n",
       "      <td>39</td>\n",
       "      <td>2019</td>\n",
       "    </tr>\n",
       "    <tr>\n",
       "      <th>3</th>\n",
       "      <td>Brazil</td>\n",
       "      <td>2</td>\n",
       "      <td>2018</td>\n",
       "      <td>2</td>\n",
       "      <td>2014</td>\n",
       "      <td>74</td>\n",
       "      <td>2018</td>\n",
       "      <td>7</td>\n",
       "      <td>2018</td>\n",
       "      <td>4</td>\n",
       "      <td>2019</td>\n",
       "    </tr>\n",
       "    <tr>\n",
       "      <th>5</th>\n",
       "      <td>Chile</td>\n",
       "      <td>1</td>\n",
       "      <td>2016</td>\n",
       "      <td>2</td>\n",
       "      <td>2013</td>\n",
       "      <td>79</td>\n",
       "      <td>2018</td>\n",
       "      <td>6</td>\n",
       "      <td>2018</td>\n",
       "      <td>14</td>\n",
       "      <td>2019</td>\n",
       "    </tr>\n",
       "    <tr>\n",
       "      <th>6</th>\n",
       "      <td>Colombia</td>\n",
       "      <td>2</td>\n",
       "      <td>2017</td>\n",
       "      <td>2</td>\n",
       "      <td>2014</td>\n",
       "      <td>76</td>\n",
       "      <td>2018</td>\n",
       "      <td>6</td>\n",
       "      <td>2018</td>\n",
       "      <td>28</td>\n",
       "      <td>2019</td>\n",
       "    </tr>\n",
       "    <tr>\n",
       "      <th>7</th>\n",
       "      <td>Costa Rica</td>\n",
       "      <td>1</td>\n",
       "      <td>2013</td>\n",
       "      <td>1</td>\n",
       "      <td>2014</td>\n",
       "      <td>79</td>\n",
       "      <td>2018</td>\n",
       "      <td>5</td>\n",
       "      <td>2018</td>\n",
       "      <td>22</td>\n",
       "      <td>2019</td>\n",
       "    </tr>\n",
       "    <tr>\n",
       "      <th>8</th>\n",
       "      <td>Dominica</td>\n",
       "      <td>1</td>\n",
       "      <td>2017</td>\n",
       "      <td>4</td>\n",
       "      <td>2010</td>\n",
       "      <td>77</td>\n",
       "      <td>2018</td>\n",
       "      <td>8</td>\n",
       "      <td>2018</td>\n",
       "      <td>29</td>\n",
       "      <td>2019</td>\n",
       "    </tr>\n",
       "    <tr>\n",
       "      <th>9</th>\n",
       "      <td>Dominican Republic</td>\n",
       "      <td>2</td>\n",
       "      <td>2017</td>\n",
       "      <td>2</td>\n",
       "      <td>2014</td>\n",
       "      <td>71</td>\n",
       "      <td>2018</td>\n",
       "      <td>6</td>\n",
       "      <td>2018</td>\n",
       "      <td>31</td>\n",
       "      <td>2019</td>\n",
       "    </tr>\n",
       "    <tr>\n",
       "      <th>10</th>\n",
       "      <td>Ecuador</td>\n",
       "      <td>2</td>\n",
       "      <td>2016</td>\n",
       "      <td>2</td>\n",
       "      <td>2013</td>\n",
       "      <td>77</td>\n",
       "      <td>2018</td>\n",
       "      <td>5</td>\n",
       "      <td>2018</td>\n",
       "      <td>22</td>\n",
       "      <td>2019</td>\n",
       "    </tr>\n",
       "    <tr>\n",
       "      <th>11</th>\n",
       "      <td>El Salvador</td>\n",
       "      <td>2</td>\n",
       "      <td>2016</td>\n",
       "      <td>1</td>\n",
       "      <td>2014</td>\n",
       "      <td>75</td>\n",
       "      <td>2018</td>\n",
       "      <td>6</td>\n",
       "      <td>2018</td>\n",
       "      <td>33</td>\n",
       "      <td>2019</td>\n",
       "    </tr>\n",
       "    <tr>\n",
       "      <th>12</th>\n",
       "      <td>Greenland</td>\n",
       "      <td>2</td>\n",
       "      <td>2016</td>\n",
       "      <td>8</td>\n",
       "      <td>2015</td>\n",
       "      <td>73</td>\n",
       "      <td>2018</td>\n",
       "      <td>9</td>\n",
       "      <td>2018</td>\n",
       "      <td>16</td>\n",
       "      <td>2019</td>\n",
       "    </tr>\n",
       "    <tr>\n",
       "      <th>13</th>\n",
       "      <td>Grenada</td>\n",
       "      <td>1</td>\n",
       "      <td>2017</td>\n",
       "      <td>4</td>\n",
       "      <td>2014</td>\n",
       "      <td>75</td>\n",
       "      <td>2018</td>\n",
       "      <td>8</td>\n",
       "      <td>2018</td>\n",
       "      <td>38</td>\n",
       "      <td>2019</td>\n",
       "    </tr>\n",
       "    <tr>\n",
       "      <th>14</th>\n",
       "      <td>Guatemala</td>\n",
       "      <td>0</td>\n",
       "      <td>2018</td>\n",
       "      <td>1</td>\n",
       "      <td>2014</td>\n",
       "      <td>72</td>\n",
       "      <td>2018</td>\n",
       "      <td>5</td>\n",
       "      <td>2018</td>\n",
       "      <td>59</td>\n",
       "      <td>2019</td>\n",
       "    </tr>\n",
       "    <tr>\n",
       "      <th>15</th>\n",
       "      <td>Guyana</td>\n",
       "      <td>1</td>\n",
       "      <td>2018</td>\n",
       "      <td>2</td>\n",
       "      <td>2014</td>\n",
       "      <td>69</td>\n",
       "      <td>2018</td>\n",
       "      <td>7</td>\n",
       "      <td>2018</td>\n",
       "      <td>35</td>\n",
       "      <td>2019</td>\n",
       "    </tr>\n",
       "    <tr>\n",
       "      <th>16</th>\n",
       "      <td>Haiti</td>\n",
       "      <td>0</td>\n",
       "      <td>2018</td>\n",
       "      <td>1</td>\n",
       "      <td>2013</td>\n",
       "      <td>65</td>\n",
       "      <td>2018</td>\n",
       "      <td>8</td>\n",
       "      <td>2018</td>\n",
       "      <td>59</td>\n",
       "      <td>2019</td>\n",
       "    </tr>\n",
       "    <tr>\n",
       "      <th>17</th>\n",
       "      <td>Honduras</td>\n",
       "      <td>0</td>\n",
       "      <td>2017</td>\n",
       "      <td>1</td>\n",
       "      <td>2014</td>\n",
       "      <td>71</td>\n",
       "      <td>2018</td>\n",
       "      <td>5</td>\n",
       "      <td>2018</td>\n",
       "      <td>30</td>\n",
       "      <td>2019</td>\n",
       "    </tr>\n",
       "    <tr>\n",
       "      <th>18</th>\n",
       "      <td>Jamaica</td>\n",
       "      <td>1</td>\n",
       "      <td>2017</td>\n",
       "      <td>2</td>\n",
       "      <td>2013</td>\n",
       "      <td>75</td>\n",
       "      <td>2018</td>\n",
       "      <td>8</td>\n",
       "      <td>2018</td>\n",
       "      <td>17</td>\n",
       "      <td>2019</td>\n",
       "    </tr>\n",
       "    <tr>\n",
       "      <th>19</th>\n",
       "      <td>Mexico</td>\n",
       "      <td>2</td>\n",
       "      <td>2016</td>\n",
       "      <td>2</td>\n",
       "      <td>2015</td>\n",
       "      <td>76</td>\n",
       "      <td>2018</td>\n",
       "      <td>5</td>\n",
       "      <td>2018</td>\n",
       "      <td>46</td>\n",
       "      <td>2019</td>\n",
       "    </tr>\n",
       "    <tr>\n",
       "      <th>20</th>\n",
       "      <td>Nicaragua</td>\n",
       "      <td>1</td>\n",
       "      <td>2018</td>\n",
       "      <td>1</td>\n",
       "      <td>2014</td>\n",
       "      <td>74</td>\n",
       "      <td>2018</td>\n",
       "      <td>5</td>\n",
       "      <td>2018</td>\n",
       "      <td>30</td>\n",
       "      <td>2019</td>\n",
       "    </tr>\n",
       "    <tr>\n",
       "      <th>21</th>\n",
       "      <td>Panama</td>\n",
       "      <td>2</td>\n",
       "      <td>2016</td>\n",
       "      <td>2</td>\n",
       "      <td>2013</td>\n",
       "      <td>79</td>\n",
       "      <td>2018</td>\n",
       "      <td>5</td>\n",
       "      <td>2018</td>\n",
       "      <td>23</td>\n",
       "      <td>2019</td>\n",
       "    </tr>\n",
       "    <tr>\n",
       "      <th>22</th>\n",
       "      <td>Paraguay</td>\n",
       "      <td>1</td>\n",
       "      <td>2018</td>\n",
       "      <td>1</td>\n",
       "      <td>2011</td>\n",
       "      <td>78</td>\n",
       "      <td>2018</td>\n",
       "      <td>5</td>\n",
       "      <td>2018</td>\n",
       "      <td>22</td>\n",
       "      <td>2019</td>\n",
       "    </tr>\n",
       "    <tr>\n",
       "      <th>23</th>\n",
       "      <td>Peru</td>\n",
       "      <td>1</td>\n",
       "      <td>2016</td>\n",
       "      <td>2</td>\n",
       "      <td>2014</td>\n",
       "      <td>74</td>\n",
       "      <td>2018</td>\n",
       "      <td>6</td>\n",
       "      <td>2018</td>\n",
       "      <td>23</td>\n",
       "      <td>2019</td>\n",
       "    </tr>\n",
       "    <tr>\n",
       "      <th>24</th>\n",
       "      <td>Suriname</td>\n",
       "      <td>1</td>\n",
       "      <td>2018</td>\n",
       "      <td>3</td>\n",
       "      <td>2010</td>\n",
       "      <td>73</td>\n",
       "      <td>2018</td>\n",
       "      <td>6</td>\n",
       "      <td>2018</td>\n",
       "      <td>70</td>\n",
       "      <td>2019</td>\n",
       "    </tr>\n",
       "  </tbody>\n",
       "</table>\n",
       "</div>"
      ],
      "text/plain": [
       "               Country  Physicians density (physicians/1,000 population)  \\\n",
       "1               Belize                                                 1   \n",
       "2              Bolivia                                                 2   \n",
       "3               Brazil                                                 2   \n",
       "5                Chile                                                 1   \n",
       "6             Colombia                                                 2   \n",
       "7           Costa Rica                                                 1   \n",
       "8             Dominica                                                 1   \n",
       "9   Dominican Republic                                                 2   \n",
       "10             Ecuador                                                 2   \n",
       "11         El Salvador                                                 2   \n",
       "12           Greenland                                                 2   \n",
       "13             Grenada                                                 1   \n",
       "14           Guatemala                                                 0   \n",
       "15              Guyana                                                 1   \n",
       "16               Haiti                                                 0   \n",
       "17            Honduras                                                 0   \n",
       "18             Jamaica                                                 1   \n",
       "19              Mexico                                                 2   \n",
       "20           Nicaragua                                                 1   \n",
       "21              Panama                                                 2   \n",
       "22            Paraguay                                                 1   \n",
       "23                Peru                                                 1   \n",
       "24            Suriname                                                 1   \n",
       "\n",
       "    Year_x_x  Hospital bed density (beds/1,000 population)  Year_y_x  \\\n",
       "1       2017                                             1      2014   \n",
       "2       2016                                             1      2014   \n",
       "3       2018                                             2      2014   \n",
       "5       2016                                             2      2013   \n",
       "6       2017                                             2      2014   \n",
       "7       2013                                             1      2014   \n",
       "8       2017                                             4      2010   \n",
       "9       2017                                             2      2014   \n",
       "10      2016                                             2      2013   \n",
       "11      2016                                             1      2014   \n",
       "12      2016                                             8      2015   \n",
       "13      2017                                             4      2014   \n",
       "14      2018                                             1      2014   \n",
       "15      2018                                             2      2014   \n",
       "16      2018                                             1      2013   \n",
       "17      2017                                             1      2014   \n",
       "18      2017                                             2      2013   \n",
       "19      2016                                             2      2015   \n",
       "20      2018                                             1      2014   \n",
       "21      2016                                             2      2013   \n",
       "22      2018                                             1      2011   \n",
       "23      2016                                             2      2014   \n",
       "24      2018                                             3      2010   \n",
       "\n",
       "    Life expectancy at birth (years)  Year  \\\n",
       "1                                 75  2018   \n",
       "2                                 70  2018   \n",
       "3                                 74  2018   \n",
       "5                                 79  2018   \n",
       "6                                 76  2018   \n",
       "7                                 79  2018   \n",
       "8                                 77  2018   \n",
       "9                                 71  2018   \n",
       "10                                77  2018   \n",
       "11                                75  2018   \n",
       "12                                73  2018   \n",
       "13                                75  2018   \n",
       "14                                72  2018   \n",
       "15                                69  2018   \n",
       "16                                65  2018   \n",
       "17                                71  2018   \n",
       "18                                75  2018   \n",
       "19                                76  2018   \n",
       "20                                74  2018   \n",
       "21                                79  2018   \n",
       "22                                78  2018   \n",
       "23                                74  2018   \n",
       "24                                73  2018   \n",
       "\n",
       "    Death rate (deaths/1,000 population)  Year_x_y  \\\n",
       "1                                      4      2018   \n",
       "2                                      6      2018   \n",
       "3                                      7      2018   \n",
       "5                                      6      2018   \n",
       "6                                      6      2018   \n",
       "7                                      5      2018   \n",
       "8                                      8      2018   \n",
       "9                                      6      2018   \n",
       "10                                     5      2018   \n",
       "11                                     6      2018   \n",
       "12                                     9      2018   \n",
       "13                                     8      2018   \n",
       "14                                     5      2018   \n",
       "15                                     7      2018   \n",
       "16                                     8      2018   \n",
       "17                                     5      2018   \n",
       "18                                     8      2018   \n",
       "19                                     5      2018   \n",
       "20                                     5      2018   \n",
       "21                                     5      2018   \n",
       "22                                     5      2018   \n",
       "23                                     6      2018   \n",
       "24                                     6      2018   \n",
       "\n",
       "    Population below poverty line (%)  Year_y_y  \n",
       "1                                  41      2019  \n",
       "2                                  39      2019  \n",
       "3                                   4      2019  \n",
       "5                                  14      2019  \n",
       "6                                  28      2019  \n",
       "7                                  22      2019  \n",
       "8                                  29      2019  \n",
       "9                                  31      2019  \n",
       "10                                 22      2019  \n",
       "11                                 33      2019  \n",
       "12                                 16      2019  \n",
       "13                                 38      2019  \n",
       "14                                 59      2019  \n",
       "15                                 35      2019  \n",
       "16                                 59      2019  \n",
       "17                                 30      2019  \n",
       "18                                 17      2019  \n",
       "19                                 46      2019  \n",
       "20                                 30      2019  \n",
       "21                                 23      2019  \n",
       "22                                 22      2019  \n",
       "23                                 23      2019  \n",
       "24                                 70      2019  "
      ]
     },
     "execution_count": 42,
     "metadata": {},
     "output_type": "execute_result"
    }
   ],
   "source": [
    "datos[(datos['Physicians density (physicians/1,000 population)'].le(2.3))]"
   ]
  },
  {
   "cell_type": "markdown",
   "metadata": {},
   "source": [
    "Obteniendo cantidades confiables de densidad de camas y pobreza ¿Qué países cuentan con menores cantidades? "
   ]
  },
  {
   "cell_type": "code",
   "execution_count": 43,
   "metadata": {},
   "outputs": [
    {
     "data": {
      "text/html": [
       "<div>\n",
       "<style scoped>\n",
       "    .dataframe tbody tr th:only-of-type {\n",
       "        vertical-align: middle;\n",
       "    }\n",
       "\n",
       "    .dataframe tbody tr th {\n",
       "        vertical-align: top;\n",
       "    }\n",
       "\n",
       "    .dataframe thead th {\n",
       "        text-align: right;\n",
       "    }\n",
       "</style>\n",
       "<table border=\"1\" class=\"dataframe\">\n",
       "  <thead>\n",
       "    <tr style=\"text-align: right;\">\n",
       "      <th></th>\n",
       "      <th>Country</th>\n",
       "      <th>Physicians density (physicians/1,000 population)</th>\n",
       "      <th>Year_x_x</th>\n",
       "      <th>Hospital bed density (beds/1,000 population)</th>\n",
       "      <th>Year_y_x</th>\n",
       "      <th>Life expectancy at birth (years)</th>\n",
       "      <th>Year</th>\n",
       "      <th>Death rate (deaths/1,000 population)</th>\n",
       "      <th>Year_x_y</th>\n",
       "      <th>Population below poverty line (%)</th>\n",
       "      <th>Year_y_y</th>\n",
       "    </tr>\n",
       "  </thead>\n",
       "  <tbody>\n",
       "    <tr>\n",
       "      <th>1</th>\n",
       "      <td>Belize</td>\n",
       "      <td>1</td>\n",
       "      <td>2017</td>\n",
       "      <td>1</td>\n",
       "      <td>2014</td>\n",
       "      <td>75</td>\n",
       "      <td>2018</td>\n",
       "      <td>4</td>\n",
       "      <td>2018</td>\n",
       "      <td>41</td>\n",
       "      <td>2019</td>\n",
       "    </tr>\n",
       "    <tr>\n",
       "      <th>2</th>\n",
       "      <td>Bolivia</td>\n",
       "      <td>2</td>\n",
       "      <td>2016</td>\n",
       "      <td>1</td>\n",
       "      <td>2014</td>\n",
       "      <td>70</td>\n",
       "      <td>2018</td>\n",
       "      <td>6</td>\n",
       "      <td>2018</td>\n",
       "      <td>39</td>\n",
       "      <td>2019</td>\n",
       "    </tr>\n",
       "    <tr>\n",
       "      <th>7</th>\n",
       "      <td>Costa Rica</td>\n",
       "      <td>1</td>\n",
       "      <td>2013</td>\n",
       "      <td>1</td>\n",
       "      <td>2014</td>\n",
       "      <td>79</td>\n",
       "      <td>2018</td>\n",
       "      <td>5</td>\n",
       "      <td>2018</td>\n",
       "      <td>22</td>\n",
       "      <td>2019</td>\n",
       "    </tr>\n",
       "    <tr>\n",
       "      <th>11</th>\n",
       "      <td>El Salvador</td>\n",
       "      <td>2</td>\n",
       "      <td>2016</td>\n",
       "      <td>1</td>\n",
       "      <td>2014</td>\n",
       "      <td>75</td>\n",
       "      <td>2018</td>\n",
       "      <td>6</td>\n",
       "      <td>2018</td>\n",
       "      <td>33</td>\n",
       "      <td>2019</td>\n",
       "    </tr>\n",
       "    <tr>\n",
       "      <th>14</th>\n",
       "      <td>Guatemala</td>\n",
       "      <td>0</td>\n",
       "      <td>2018</td>\n",
       "      <td>1</td>\n",
       "      <td>2014</td>\n",
       "      <td>72</td>\n",
       "      <td>2018</td>\n",
       "      <td>5</td>\n",
       "      <td>2018</td>\n",
       "      <td>59</td>\n",
       "      <td>2019</td>\n",
       "    </tr>\n",
       "    <tr>\n",
       "      <th>16</th>\n",
       "      <td>Haiti</td>\n",
       "      <td>0</td>\n",
       "      <td>2018</td>\n",
       "      <td>1</td>\n",
       "      <td>2013</td>\n",
       "      <td>65</td>\n",
       "      <td>2018</td>\n",
       "      <td>8</td>\n",
       "      <td>2018</td>\n",
       "      <td>59</td>\n",
       "      <td>2019</td>\n",
       "    </tr>\n",
       "    <tr>\n",
       "      <th>17</th>\n",
       "      <td>Honduras</td>\n",
       "      <td>0</td>\n",
       "      <td>2017</td>\n",
       "      <td>1</td>\n",
       "      <td>2014</td>\n",
       "      <td>71</td>\n",
       "      <td>2018</td>\n",
       "      <td>5</td>\n",
       "      <td>2018</td>\n",
       "      <td>30</td>\n",
       "      <td>2019</td>\n",
       "    </tr>\n",
       "    <tr>\n",
       "      <th>20</th>\n",
       "      <td>Nicaragua</td>\n",
       "      <td>1</td>\n",
       "      <td>2018</td>\n",
       "      <td>1</td>\n",
       "      <td>2014</td>\n",
       "      <td>74</td>\n",
       "      <td>2018</td>\n",
       "      <td>5</td>\n",
       "      <td>2018</td>\n",
       "      <td>30</td>\n",
       "      <td>2019</td>\n",
       "    </tr>\n",
       "    <tr>\n",
       "      <th>22</th>\n",
       "      <td>Paraguay</td>\n",
       "      <td>1</td>\n",
       "      <td>2018</td>\n",
       "      <td>1</td>\n",
       "      <td>2011</td>\n",
       "      <td>78</td>\n",
       "      <td>2018</td>\n",
       "      <td>5</td>\n",
       "      <td>2018</td>\n",
       "      <td>22</td>\n",
       "      <td>2019</td>\n",
       "    </tr>\n",
       "    <tr>\n",
       "      <th>3</th>\n",
       "      <td>Brazil</td>\n",
       "      <td>2</td>\n",
       "      <td>2018</td>\n",
       "      <td>2</td>\n",
       "      <td>2014</td>\n",
       "      <td>74</td>\n",
       "      <td>2018</td>\n",
       "      <td>7</td>\n",
       "      <td>2018</td>\n",
       "      <td>4</td>\n",
       "      <td>2019</td>\n",
       "    </tr>\n",
       "  </tbody>\n",
       "</table>\n",
       "</div>"
      ],
      "text/plain": [
       "        Country  Physicians density (physicians/1,000 population)  Year_x_x  \\\n",
       "1        Belize                                                 1      2017   \n",
       "2       Bolivia                                                 2      2016   \n",
       "7    Costa Rica                                                 1      2013   \n",
       "11  El Salvador                                                 2      2016   \n",
       "14    Guatemala                                                 0      2018   \n",
       "16        Haiti                                                 0      2018   \n",
       "17     Honduras                                                 0      2017   \n",
       "20    Nicaragua                                                 1      2018   \n",
       "22     Paraguay                                                 1      2018   \n",
       "3        Brazil                                                 2      2018   \n",
       "\n",
       "    Hospital bed density (beds/1,000 population)  Year_y_x  \\\n",
       "1                                              1      2014   \n",
       "2                                              1      2014   \n",
       "7                                              1      2014   \n",
       "11                                             1      2014   \n",
       "14                                             1      2014   \n",
       "16                                             1      2013   \n",
       "17                                             1      2014   \n",
       "20                                             1      2014   \n",
       "22                                             1      2011   \n",
       "3                                              2      2014   \n",
       "\n",
       "    Life expectancy at birth (years)  Year  \\\n",
       "1                                 75  2018   \n",
       "2                                 70  2018   \n",
       "7                                 79  2018   \n",
       "11                                75  2018   \n",
       "14                                72  2018   \n",
       "16                                65  2018   \n",
       "17                                71  2018   \n",
       "20                                74  2018   \n",
       "22                                78  2018   \n",
       "3                                 74  2018   \n",
       "\n",
       "    Death rate (deaths/1,000 population)  Year_x_y  \\\n",
       "1                                      4      2018   \n",
       "2                                      6      2018   \n",
       "7                                      5      2018   \n",
       "11                                     6      2018   \n",
       "14                                     5      2018   \n",
       "16                                     8      2018   \n",
       "17                                     5      2018   \n",
       "20                                     5      2018   \n",
       "22                                     5      2018   \n",
       "3                                      7      2018   \n",
       "\n",
       "    Population below poverty line (%)  Year_y_y  \n",
       "1                                  41      2019  \n",
       "2                                  39      2019  \n",
       "7                                  22      2019  \n",
       "11                                 33      2019  \n",
       "14                                 59      2019  \n",
       "16                                 59      2019  \n",
       "17                                 30      2019  \n",
       "20                                 30      2019  \n",
       "22                                 22      2019  \n",
       "3                                   4      2019  "
      ]
     },
     "execution_count": 43,
     "metadata": {},
     "output_type": "execute_result"
    }
   ],
   "source": [
    "datos.nsmallest(10, ['Hospital bed density (beds/1,000 population)']) "
   ]
  },
  {
   "cell_type": "code",
   "execution_count": 44,
   "metadata": {},
   "outputs": [
    {
     "data": {
      "text/html": [
       "<div>\n",
       "<style scoped>\n",
       "    .dataframe tbody tr th:only-of-type {\n",
       "        vertical-align: middle;\n",
       "    }\n",
       "\n",
       "    .dataframe tbody tr th {\n",
       "        vertical-align: top;\n",
       "    }\n",
       "\n",
       "    .dataframe thead th {\n",
       "        text-align: right;\n",
       "    }\n",
       "</style>\n",
       "<table border=\"1\" class=\"dataframe\">\n",
       "  <thead>\n",
       "    <tr style=\"text-align: right;\">\n",
       "      <th></th>\n",
       "      <th>Country</th>\n",
       "      <th>Physicians density (physicians/1,000 population)</th>\n",
       "      <th>Year_x_x</th>\n",
       "      <th>Hospital bed density (beds/1,000 population)</th>\n",
       "      <th>Year_y_x</th>\n",
       "      <th>Life expectancy at birth (years)</th>\n",
       "      <th>Year</th>\n",
       "      <th>Death rate (deaths/1,000 population)</th>\n",
       "      <th>Year_x_y</th>\n",
       "      <th>Population below poverty line (%)</th>\n",
       "      <th>Year_y_y</th>\n",
       "    </tr>\n",
       "  </thead>\n",
       "  <tbody>\n",
       "    <tr>\n",
       "      <th>3</th>\n",
       "      <td>Brazil</td>\n",
       "      <td>2</td>\n",
       "      <td>2018</td>\n",
       "      <td>2</td>\n",
       "      <td>2014</td>\n",
       "      <td>74</td>\n",
       "      <td>2018</td>\n",
       "      <td>7</td>\n",
       "      <td>2018</td>\n",
       "      <td>4</td>\n",
       "      <td>2019</td>\n",
       "    </tr>\n",
       "    <tr>\n",
       "      <th>4</th>\n",
       "      <td>Canada</td>\n",
       "      <td>3</td>\n",
       "      <td>2017</td>\n",
       "      <td>3</td>\n",
       "      <td>2012</td>\n",
       "      <td>82</td>\n",
       "      <td>2018</td>\n",
       "      <td>9</td>\n",
       "      <td>2018</td>\n",
       "      <td>9</td>\n",
       "      <td>2019</td>\n",
       "    </tr>\n",
       "    <tr>\n",
       "      <th>27</th>\n",
       "      <td>Uruguay</td>\n",
       "      <td>5</td>\n",
       "      <td>2017</td>\n",
       "      <td>3</td>\n",
       "      <td>2014</td>\n",
       "      <td>78</td>\n",
       "      <td>2018</td>\n",
       "      <td>9</td>\n",
       "      <td>2018</td>\n",
       "      <td>10</td>\n",
       "      <td>2019</td>\n",
       "    </tr>\n",
       "    <tr>\n",
       "      <th>5</th>\n",
       "      <td>Chile</td>\n",
       "      <td>1</td>\n",
       "      <td>2016</td>\n",
       "      <td>2</td>\n",
       "      <td>2013</td>\n",
       "      <td>79</td>\n",
       "      <td>2018</td>\n",
       "      <td>6</td>\n",
       "      <td>2018</td>\n",
       "      <td>14</td>\n",
       "      <td>2019</td>\n",
       "    </tr>\n",
       "    <tr>\n",
       "      <th>26</th>\n",
       "      <td>United States</td>\n",
       "      <td>3</td>\n",
       "      <td>2016</td>\n",
       "      <td>3</td>\n",
       "      <td>2013</td>\n",
       "      <td>80</td>\n",
       "      <td>2018</td>\n",
       "      <td>8</td>\n",
       "      <td>2018</td>\n",
       "      <td>15</td>\n",
       "      <td>2019</td>\n",
       "    </tr>\n",
       "    <tr>\n",
       "      <th>12</th>\n",
       "      <td>Greenland</td>\n",
       "      <td>2</td>\n",
       "      <td>2016</td>\n",
       "      <td>8</td>\n",
       "      <td>2015</td>\n",
       "      <td>73</td>\n",
       "      <td>2018</td>\n",
       "      <td>9</td>\n",
       "      <td>2018</td>\n",
       "      <td>16</td>\n",
       "      <td>2019</td>\n",
       "    </tr>\n",
       "    <tr>\n",
       "      <th>18</th>\n",
       "      <td>Jamaica</td>\n",
       "      <td>1</td>\n",
       "      <td>2017</td>\n",
       "      <td>2</td>\n",
       "      <td>2013</td>\n",
       "      <td>75</td>\n",
       "      <td>2018</td>\n",
       "      <td>8</td>\n",
       "      <td>2018</td>\n",
       "      <td>17</td>\n",
       "      <td>2019</td>\n",
       "    </tr>\n",
       "    <tr>\n",
       "      <th>25</th>\n",
       "      <td>Trinidad and Tobago</td>\n",
       "      <td>3</td>\n",
       "      <td>2015</td>\n",
       "      <td>3</td>\n",
       "      <td>2014</td>\n",
       "      <td>73</td>\n",
       "      <td>2018</td>\n",
       "      <td>9</td>\n",
       "      <td>2018</td>\n",
       "      <td>20</td>\n",
       "      <td>2019</td>\n",
       "    </tr>\n",
       "    <tr>\n",
       "      <th>7</th>\n",
       "      <td>Costa Rica</td>\n",
       "      <td>1</td>\n",
       "      <td>2013</td>\n",
       "      <td>1</td>\n",
       "      <td>2014</td>\n",
       "      <td>79</td>\n",
       "      <td>2018</td>\n",
       "      <td>5</td>\n",
       "      <td>2018</td>\n",
       "      <td>22</td>\n",
       "      <td>2019</td>\n",
       "    </tr>\n",
       "    <tr>\n",
       "      <th>10</th>\n",
       "      <td>Ecuador</td>\n",
       "      <td>2</td>\n",
       "      <td>2016</td>\n",
       "      <td>2</td>\n",
       "      <td>2013</td>\n",
       "      <td>77</td>\n",
       "      <td>2018</td>\n",
       "      <td>5</td>\n",
       "      <td>2018</td>\n",
       "      <td>22</td>\n",
       "      <td>2019</td>\n",
       "    </tr>\n",
       "  </tbody>\n",
       "</table>\n",
       "</div>"
      ],
      "text/plain": [
       "                Country  Physicians density (physicians/1,000 population)  \\\n",
       "3                Brazil                                                 2   \n",
       "4                Canada                                                 3   \n",
       "27              Uruguay                                                 5   \n",
       "5                 Chile                                                 1   \n",
       "26        United States                                                 3   \n",
       "12            Greenland                                                 2   \n",
       "18              Jamaica                                                 1   \n",
       "25  Trinidad and Tobago                                                 3   \n",
       "7            Costa Rica                                                 1   \n",
       "10              Ecuador                                                 2   \n",
       "\n",
       "    Year_x_x  Hospital bed density (beds/1,000 population)  Year_y_x  \\\n",
       "3       2018                                             2      2014   \n",
       "4       2017                                             3      2012   \n",
       "27      2017                                             3      2014   \n",
       "5       2016                                             2      2013   \n",
       "26      2016                                             3      2013   \n",
       "12      2016                                             8      2015   \n",
       "18      2017                                             2      2013   \n",
       "25      2015                                             3      2014   \n",
       "7       2013                                             1      2014   \n",
       "10      2016                                             2      2013   \n",
       "\n",
       "    Life expectancy at birth (years)  Year  \\\n",
       "3                                 74  2018   \n",
       "4                                 82  2018   \n",
       "27                                78  2018   \n",
       "5                                 79  2018   \n",
       "26                                80  2018   \n",
       "12                                73  2018   \n",
       "18                                75  2018   \n",
       "25                                73  2018   \n",
       "7                                 79  2018   \n",
       "10                                77  2018   \n",
       "\n",
       "    Death rate (deaths/1,000 population)  Year_x_y  \\\n",
       "3                                      7      2018   \n",
       "4                                      9      2018   \n",
       "27                                     9      2018   \n",
       "5                                      6      2018   \n",
       "26                                     8      2018   \n",
       "12                                     9      2018   \n",
       "18                                     8      2018   \n",
       "25                                     9      2018   \n",
       "7                                      5      2018   \n",
       "10                                     5      2018   \n",
       "\n",
       "    Population below poverty line (%)  Year_y_y  \n",
       "3                                   4      2019  \n",
       "4                                   9      2019  \n",
       "27                                 10      2019  \n",
       "5                                  14      2019  \n",
       "26                                 15      2019  \n",
       "12                                 16      2019  \n",
       "18                                 17      2019  \n",
       "25                                 20      2019  \n",
       "7                                  22      2019  \n",
       "10                                 22      2019  "
      ]
     },
     "execution_count": 44,
     "metadata": {},
     "output_type": "execute_result"
    }
   ],
   "source": [
    "datos.nsmallest(10, ['Population below poverty line (%)']) "
   ]
  },
  {
   "cell_type": "markdown",
   "metadata": {},
   "source": [
    "Ningun país cumple el requisito de tener pocas camas de hospital y tener niveles de pobreza bajos"
   ]
  },
  {
   "cell_type": "markdown",
   "metadata": {},
   "source": [
    "Reformulando la pregunta a ¿Que países cuentan con menores cantidades de densidad de camas y con mayores cantidades de pobreza?"
   ]
  },
  {
   "cell_type": "code",
   "execution_count": 45,
   "metadata": {},
   "outputs": [
    {
     "data": {
      "text/html": [
       "<div>\n",
       "<style scoped>\n",
       "    .dataframe tbody tr th:only-of-type {\n",
       "        vertical-align: middle;\n",
       "    }\n",
       "\n",
       "    .dataframe tbody tr th {\n",
       "        vertical-align: top;\n",
       "    }\n",
       "\n",
       "    .dataframe thead th {\n",
       "        text-align: right;\n",
       "    }\n",
       "</style>\n",
       "<table border=\"1\" class=\"dataframe\">\n",
       "  <thead>\n",
       "    <tr style=\"text-align: right;\">\n",
       "      <th></th>\n",
       "      <th>Country</th>\n",
       "      <th>Physicians density (physicians/1,000 population)</th>\n",
       "      <th>Year_x_x</th>\n",
       "      <th>Hospital bed density (beds/1,000 population)</th>\n",
       "      <th>Year_y_x</th>\n",
       "      <th>Life expectancy at birth (years)</th>\n",
       "      <th>Year</th>\n",
       "      <th>Death rate (deaths/1,000 population)</th>\n",
       "      <th>Year_x_y</th>\n",
       "      <th>Population below poverty line (%)</th>\n",
       "      <th>Year_y_y</th>\n",
       "    </tr>\n",
       "  </thead>\n",
       "  <tbody>\n",
       "    <tr>\n",
       "      <th>24</th>\n",
       "      <td>Suriname</td>\n",
       "      <td>1</td>\n",
       "      <td>2018</td>\n",
       "      <td>3</td>\n",
       "      <td>2010</td>\n",
       "      <td>73</td>\n",
       "      <td>2018</td>\n",
       "      <td>6</td>\n",
       "      <td>2018</td>\n",
       "      <td>70</td>\n",
       "      <td>2019</td>\n",
       "    </tr>\n",
       "    <tr>\n",
       "      <th>14</th>\n",
       "      <td>Guatemala</td>\n",
       "      <td>0</td>\n",
       "      <td>2018</td>\n",
       "      <td>1</td>\n",
       "      <td>2014</td>\n",
       "      <td>72</td>\n",
       "      <td>2018</td>\n",
       "      <td>5</td>\n",
       "      <td>2018</td>\n",
       "      <td>59</td>\n",
       "      <td>2019</td>\n",
       "    </tr>\n",
       "    <tr>\n",
       "      <th>16</th>\n",
       "      <td>Haiti</td>\n",
       "      <td>0</td>\n",
       "      <td>2018</td>\n",
       "      <td>1</td>\n",
       "      <td>2013</td>\n",
       "      <td>65</td>\n",
       "      <td>2018</td>\n",
       "      <td>8</td>\n",
       "      <td>2018</td>\n",
       "      <td>59</td>\n",
       "      <td>2019</td>\n",
       "    </tr>\n",
       "    <tr>\n",
       "      <th>19</th>\n",
       "      <td>Mexico</td>\n",
       "      <td>2</td>\n",
       "      <td>2016</td>\n",
       "      <td>2</td>\n",
       "      <td>2015</td>\n",
       "      <td>76</td>\n",
       "      <td>2018</td>\n",
       "      <td>5</td>\n",
       "      <td>2018</td>\n",
       "      <td>46</td>\n",
       "      <td>2019</td>\n",
       "    </tr>\n",
       "    <tr>\n",
       "      <th>1</th>\n",
       "      <td>Belize</td>\n",
       "      <td>1</td>\n",
       "      <td>2017</td>\n",
       "      <td>1</td>\n",
       "      <td>2014</td>\n",
       "      <td>75</td>\n",
       "      <td>2018</td>\n",
       "      <td>4</td>\n",
       "      <td>2018</td>\n",
       "      <td>41</td>\n",
       "      <td>2019</td>\n",
       "    </tr>\n",
       "    <tr>\n",
       "      <th>2</th>\n",
       "      <td>Bolivia</td>\n",
       "      <td>2</td>\n",
       "      <td>2016</td>\n",
       "      <td>1</td>\n",
       "      <td>2014</td>\n",
       "      <td>70</td>\n",
       "      <td>2018</td>\n",
       "      <td>6</td>\n",
       "      <td>2018</td>\n",
       "      <td>39</td>\n",
       "      <td>2019</td>\n",
       "    </tr>\n",
       "    <tr>\n",
       "      <th>13</th>\n",
       "      <td>Grenada</td>\n",
       "      <td>1</td>\n",
       "      <td>2017</td>\n",
       "      <td>4</td>\n",
       "      <td>2014</td>\n",
       "      <td>75</td>\n",
       "      <td>2018</td>\n",
       "      <td>8</td>\n",
       "      <td>2018</td>\n",
       "      <td>38</td>\n",
       "      <td>2019</td>\n",
       "    </tr>\n",
       "    <tr>\n",
       "      <th>15</th>\n",
       "      <td>Guyana</td>\n",
       "      <td>1</td>\n",
       "      <td>2018</td>\n",
       "      <td>2</td>\n",
       "      <td>2014</td>\n",
       "      <td>69</td>\n",
       "      <td>2018</td>\n",
       "      <td>7</td>\n",
       "      <td>2018</td>\n",
       "      <td>35</td>\n",
       "      <td>2019</td>\n",
       "    </tr>\n",
       "    <tr>\n",
       "      <th>11</th>\n",
       "      <td>El Salvador</td>\n",
       "      <td>2</td>\n",
       "      <td>2016</td>\n",
       "      <td>1</td>\n",
       "      <td>2014</td>\n",
       "      <td>75</td>\n",
       "      <td>2018</td>\n",
       "      <td>6</td>\n",
       "      <td>2018</td>\n",
       "      <td>33</td>\n",
       "      <td>2019</td>\n",
       "    </tr>\n",
       "    <tr>\n",
       "      <th>9</th>\n",
       "      <td>Dominican Republic</td>\n",
       "      <td>2</td>\n",
       "      <td>2017</td>\n",
       "      <td>2</td>\n",
       "      <td>2014</td>\n",
       "      <td>71</td>\n",
       "      <td>2018</td>\n",
       "      <td>6</td>\n",
       "      <td>2018</td>\n",
       "      <td>31</td>\n",
       "      <td>2019</td>\n",
       "    </tr>\n",
       "  </tbody>\n",
       "</table>\n",
       "</div>"
      ],
      "text/plain": [
       "               Country  Physicians density (physicians/1,000 population)  \\\n",
       "24            Suriname                                                 1   \n",
       "14           Guatemala                                                 0   \n",
       "16               Haiti                                                 0   \n",
       "19              Mexico                                                 2   \n",
       "1               Belize                                                 1   \n",
       "2              Bolivia                                                 2   \n",
       "13             Grenada                                                 1   \n",
       "15              Guyana                                                 1   \n",
       "11         El Salvador                                                 2   \n",
       "9   Dominican Republic                                                 2   \n",
       "\n",
       "    Year_x_x  Hospital bed density (beds/1,000 population)  Year_y_x  \\\n",
       "24      2018                                             3      2010   \n",
       "14      2018                                             1      2014   \n",
       "16      2018                                             1      2013   \n",
       "19      2016                                             2      2015   \n",
       "1       2017                                             1      2014   \n",
       "2       2016                                             1      2014   \n",
       "13      2017                                             4      2014   \n",
       "15      2018                                             2      2014   \n",
       "11      2016                                             1      2014   \n",
       "9       2017                                             2      2014   \n",
       "\n",
       "    Life expectancy at birth (years)  Year  \\\n",
       "24                                73  2018   \n",
       "14                                72  2018   \n",
       "16                                65  2018   \n",
       "19                                76  2018   \n",
       "1                                 75  2018   \n",
       "2                                 70  2018   \n",
       "13                                75  2018   \n",
       "15                                69  2018   \n",
       "11                                75  2018   \n",
       "9                                 71  2018   \n",
       "\n",
       "    Death rate (deaths/1,000 population)  Year_x_y  \\\n",
       "24                                     6      2018   \n",
       "14                                     5      2018   \n",
       "16                                     8      2018   \n",
       "19                                     5      2018   \n",
       "1                                      4      2018   \n",
       "2                                      6      2018   \n",
       "13                                     8      2018   \n",
       "15                                     7      2018   \n",
       "11                                     6      2018   \n",
       "9                                      6      2018   \n",
       "\n",
       "    Population below poverty line (%)  Year_y_y  \n",
       "24                                 70      2019  \n",
       "14                                 59      2019  \n",
       "16                                 59      2019  \n",
       "19                                 46      2019  \n",
       "1                                  41      2019  \n",
       "2                                  39      2019  \n",
       "13                                 38      2019  \n",
       "15                                 35      2019  \n",
       "11                                 33      2019  \n",
       "9                                  31      2019  "
      ]
     },
     "execution_count": 45,
     "metadata": {},
     "output_type": "execute_result"
    }
   ],
   "source": [
    "datos.nlargest(10, ['Population below poverty line (%)']) "
   ]
  },
  {
   "cell_type": "markdown",
   "metadata": {},
   "source": [
    "Los países que cuentan con poca densidad de camas y gran pobreza son Belize, Bolivia, el Salvador, Guatemala y Haiti en un rango de 10 valores respectivamente"
   ]
  },
  {
   "cell_type": "markdown",
   "metadata": {},
   "source": [
    "¿Qué porcentaje de países están por encima del promedio mundial? Respecto a la esperanza de vida"
   ]
  },
  {
   "cell_type": "markdown",
   "metadata": {},
   "source": [
    "La esperanza de vida mundial es de 72 años, el porcentaje en este caso es:"
   ]
  },
  {
   "cell_type": "code",
   "execution_count": 81,
   "metadata": {},
   "outputs": [
    {
     "data": {
      "text/plain": [
       "82.14285714285714"
      ]
     },
     "execution_count": 81,
     "metadata": {},
     "output_type": "execute_result"
    }
   ],
   "source": [
    "(((datos['Life expectancy at birth (years)'].ge(72)*1).sum())/28)*100"
   ]
  },
  {
   "cell_type": "markdown",
   "metadata": {},
   "source": [
    "¿Cuál región de América (sur, norte, centro) tienen una menor tasa de mortalidad?"
   ]
  },
  {
   "cell_type": "markdown",
   "metadata": {},
   "source": [
    "Obteniendo un promedio de la mortalidad por regiones:"
   ]
  },
  {
   "cell_type": "code",
   "execution_count": 47,
   "metadata": {},
   "outputs": [
    {
     "data": {
      "text/plain": [
       "7.75"
      ]
     },
     "execution_count": 47,
     "metadata": {},
     "output_type": "execute_result"
    }
   ],
   "source": [
    "mortalidadNA['Death rate (deaths/1,000 population)'].mean()"
   ]
  },
  {
   "cell_type": "code",
   "execution_count": 48,
   "metadata": {},
   "outputs": [
    {
     "data": {
      "text/plain": [
       "6.230769230769231"
      ]
     },
     "execution_count": 48,
     "metadata": {},
     "output_type": "execute_result"
    }
   ],
   "source": [
    "mortalidadSA['Death rate (deaths/1,000 population)'].mean()"
   ]
  },
  {
   "cell_type": "code",
   "execution_count": 49,
   "metadata": {},
   "outputs": [
    {
     "data": {
      "text/plain": [
       "6.818181818181818"
      ]
     },
     "execution_count": 49,
     "metadata": {},
     "output_type": "execute_result"
    }
   ],
   "source": [
    "mortalidadCA['Death rate (deaths/1,000 population)'].mean()"
   ]
  },
  {
   "cell_type": "markdown",
   "metadata": {},
   "source": [
    "Se tiene que en promedio por región Sudamérica tiene una tasa menor de mortalidad"
   ]
  },
  {
   "cell_type": "markdown",
   "metadata": {},
   "source": [
    "Gráficas"
   ]
  },
  {
   "cell_type": "markdown",
   "metadata": {},
   "source": [
    "En un rango de 2013-2018 se tiene que la densidad de doctores por 1000 personas "
   ]
  },
  {
   "cell_type": "code",
   "execution_count": 50,
   "metadata": {},
   "outputs": [
    {
     "data": {
      "text/plain": [
       "<AxesSubplot:xlabel='Country'>"
      ]
     },
     "execution_count": 50,
     "metadata": {},
     "output_type": "execute_result"
    },
    {
     "data": {
      "image/png": "[encoded data removed]",
      "text/plain": [
       "<Figure size 432x288 with 1 Axes>"
      ]
     },
     "metadata": {
      "needs_background": "light"
     },
     "output_type": "display_data"
    }
   ],
   "source": [
    "datos.plot.bar(x='Country', y='Physicians density (physicians/1,000 population)')"
   ]
  },
  {
   "cell_type": "markdown",
   "metadata": {},
   "source": [
    "En un rango de 2010-2015 la densidad de camas de hospital"
   ]
  },
  {
   "cell_type": "code",
   "execution_count": 65,
   "metadata": {},
   "outputs": [
    {
     "data": {
      "text/plain": [
       "<AxesSubplot:xlabel='Country'>"
      ]
     },
     "execution_count": 65,
     "metadata": {},
     "output_type": "execute_result"
    },
    {
     "data": {
      "image/png": "[encoded data removed]",
      "text/plain": [
       "<Figure size 432x288 with 1 Axes>"
      ]
     },
     "metadata": {
      "needs_background": "light"
     },
     "output_type": "display_data"
    }
   ],
   "source": [
    "datos.plot.bar(x='Country', y='Hospital bed density (beds/1,000 population)', color={\"red\"})"
   ]
  },
  {
   "cell_type": "code",
   "execution_count": 66,
   "metadata": {},
   "outputs": [
    {
     "data": {
      "text/plain": [
       "<AxesSubplot:xlabel='Country'>"
      ]
     },
     "execution_count": 66,
     "metadata": {},
     "output_type": "execute_result"
    },
    {
     "data": {
      "image/png": "[encoded data removed]",
      "text/plain": [
       "<Figure size 432x288 with 1 Axes>"
      ]
     },
     "metadata": {
      "needs_background": "light"
     },
     "output_type": "display_data"
    }
   ],
   "source": [
    "datos.plot.bar(x='Country', y='Life expectancy at birth (years)', color={'green'})"
   ]
  },
  {
   "cell_type": "code",
   "execution_count": 67,
   "metadata": {},
   "outputs": [
    {
     "data": {
      "text/plain": [
       "<AxesSubplot:xlabel='Country'>"
      ]
     },
     "execution_count": 67,
     "metadata": {},
     "output_type": "execute_result"
    },
    {
     "data": {
      "image/png": "[encoded data removed]",
      "text/plain": [
       "<Figure size 432x288 with 1 Axes>"
      ]
     },
     "metadata": {
      "needs_background": "light"
     },
     "output_type": "display_data"
    }
   ],
   "source": [
    "datos.plot.bar(x='Country', y='Death rate (deaths/1,000 population)', color={'pink'})"
   ]
  },
  {
   "cell_type": "code",
   "execution_count": 68,
   "metadata": {},
   "outputs": [
    {
     "data": {
      "text/plain": [
       "<AxesSubplot:xlabel='Country'>"
      ]
     },
     "execution_count": 68,
     "metadata": {},
     "output_type": "execute_result"
    },
    {
     "data": {
      "image/png": "[encoded data removed]",
      "text/plain": [
       "<Figure size 432x288 with 1 Axes>"
      ]
     },
     "metadata": {
      "needs_background": "light"
     },
     "output_type": "display_data"
    }
   ],
   "source": [
    "datos.plot.bar(x='Country', y='Population below poverty line (%)', color={'purple'})"
   ]
  },
  {
   "cell_type": "markdown",
   "metadata": {},
   "source": [
    "Sin tener en cuenta países y años tenemos los histogramas:"
   ]
  },
  {
   "cell_type": "code",
   "execution_count": 69,
   "metadata": {},
   "outputs": [
    {
     "data": {
      "text/plain": [
       "<AxesSubplot:>"
      ]
     },
     "execution_count": 69,
     "metadata": {},
     "output_type": "execute_result"
    },
    {
     "data": {
      "image/png": "[encoded data removed]",
      "text/plain": [
       "<Figure size 432x288 with 1 Axes>"
      ]
     },
     "metadata": {
      "needs_background": "light"
     },
     "output_type": "display_data"
    }
   ],
   "source": [
    "datos['Physicians density (physicians/1,000 population)'].hist()"
   ]
  },
  {
   "cell_type": "code",
   "execution_count": 70,
   "metadata": {},
   "outputs": [
    {
     "data": {
      "text/plain": [
       "<AxesSubplot:>"
      ]
     },
     "execution_count": 70,
     "metadata": {},
     "output_type": "execute_result"
    },
    {
     "data": {
      "image/png": "[encoded data removed]",
      "text/plain": [
       "<Figure size 432x288 with 1 Axes>"
      ]
     },
     "metadata": {
      "needs_background": "light"
     },
     "output_type": "display_data"
    }
   ],
   "source": [
    "datos['Population below poverty line (%)'].hist(color='purple')"
   ]
  },
  {
   "cell_type": "code",
   "execution_count": 71,
   "metadata": {},
   "outputs": [
    {
     "data": {
      "text/plain": [
       "<AxesSubplot:>"
      ]
     },
     "execution_count": 71,
     "metadata": {},
     "output_type": "execute_result"
    },
    {
     "data": {
      "image/png": "[encoded data removed]",
      "text/plain": [
       "<Figure size 432x288 with 1 Axes>"
      ]
     },
     "metadata": {
      "needs_background": "light"
     },
     "output_type": "display_data"
    }
   ],
   "source": [
    "datos['Death rate (deaths/1,000 population)'].hist(color={'pink'})"
   ]
  },
  {
   "cell_type": "code",
   "execution_count": 72,
   "metadata": {},
   "outputs": [
    {
     "data": {
      "text/plain": [
       "<AxesSubplot:>"
      ]
     },
     "execution_count": 72,
     "metadata": {},
     "output_type": "execute_result"
    },
    {
     "data": {
      "image/png": "[encoded data removed]",
      "text/plain": [
       "<Figure size 432x288 with 1 Axes>"
      ]
     },
     "metadata": {
      "needs_background": "light"
     },
     "output_type": "display_data"
    }
   ],
   "source": [
    "datos['Life expectancy at birth (years)'].hist(color={'green'})"
   ]
  },
  {
   "cell_type": "code",
   "execution_count": 73,
   "metadata": {},
   "outputs": [
    {
     "data": {
      "text/plain": [
       "<AxesSubplot:>"
      ]
     },
     "execution_count": 73,
     "metadata": {},
     "output_type": "execute_result"
    },
    {
     "data": {
      "image/png": "[encoded data removed]",
      "text/plain": [
       "<Figure size 432x288 with 1 Axes>"
      ]
     },
     "metadata": {
      "needs_background": "light"
     },
     "output_type": "display_data"
    }
   ],
   "source": [
    "datos['Hospital bed density (beds/1,000 population)'].hist(color='red')"
   ]
  }
 ],
 "metadata": {
  "kernelspec": {
   "display_name": "Python 3",
   "language": "python",
   "name": "python3"
  },
  "language_info": {
   "codemirror_mode": {
    "name": "ipython",
    "version": 3
   },
   "file_extension": ".py",
   "mimetype": "text/x-python",
   "name": "python",
   "nbconvert_exporter": "python",
   "pygments_lexer": "ipython3",
   "version": "3.8.5"
  }
 },
 "nbformat": 4,
 "nbformat_minor": 4
}
